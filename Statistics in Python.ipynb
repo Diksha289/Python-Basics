{
 "cells": [
  {
   "cell_type": "markdown",
   "id": "2811c3c6",
   "metadata": {},
   "source": [
    "# Stats In Python "
   ]
  },
  {
   "cell_type": "code",
   "execution_count": 3,
   "id": "faa0a83b",
   "metadata": {},
   "outputs": [],
   "source": [
    "import numpy as np\n",
    "import matplotlib.pyplot as plt\n",
    "import pandas as pd\n",
    "import scipy as sp"
   ]
  },
  {
   "cell_type": "code",
   "execution_count": 4,
   "id": "d35525c1",
   "metadata": {},
   "outputs": [
    {
     "name": "stdout",
     "output_type": "stream",
     "text": [
      "[9 9 9 7 9 7 9 8 8 8 7 8 8 9 7 9 7 8 7 9]\n"
     ]
    }
   ],
   "source": [
    "m=np.random.randint(7,10,20)\n",
    "print(m)"
   ]
  },
  {
   "cell_type": "code",
   "execution_count": 5,
   "id": "8445c6cf",
   "metadata": {},
   "outputs": [
    {
     "name": "stdout",
     "output_type": "stream",
     "text": [
      "8.1\n"
     ]
    }
   ],
   "source": [
    "print(np.mean(m))"
   ]
  },
  {
   "cell_type": "code",
   "execution_count": 6,
   "id": "c70e2501",
   "metadata": {},
   "outputs": [
    {
     "name": "stdout",
     "output_type": "stream",
     "text": [
      "8.0\n"
     ]
    }
   ],
   "source": [
    "print(np.median(m))"
   ]
  },
  {
   "cell_type": "code",
   "execution_count": 7,
   "id": "13facc55",
   "metadata": {},
   "outputs": [
    {
     "data": {
      "text/plain": [
       "9"
      ]
     },
     "execution_count": 7,
     "metadata": {},
     "output_type": "execute_result"
    }
   ],
   "source": [
    "from statistics import mode\n",
    "mode(m)"
   ]
  },
  {
   "cell_type": "code",
   "execution_count": 9,
   "id": "e5197ac7",
   "metadata": {},
   "outputs": [
    {
     "name": "stdout",
     "output_type": "stream",
     "text": [
      "[3 5 8 1 1 1 1 5 6 7 6 7 1 1 1 1 9 6 9 1 5 2 3 6 4 7 6 5 6 4 1 4 1 9 7 5 3\n",
      " 5 1 6 9 1 7 1 3 3 9 3 9 3 8 9 9 8 6 2 2 9 4 6 2 3 6 2 3 2 9 9 7 5 7 1 1 5\n",
      " 3 3 3 9 6 8 8 8 4 4 4 8 3 2 2 9 3 7 4 7 7 6 5 9 8 7 1 4 2 5 8 2 5 6 2 9 8\n",
      " 2 9 8 7 4 4 6 5 5 5 5 2 3 1 9 4 3 6 6 3 6 1 5 4 9 9 2 9 3 7 1 4 2 6 5 8 7\n",
      " 1 7 7 8 8 3 9 2 9 4 3 5 1 3 4 8 4 3 3 9 6 6 6 8 6 4 6 3 6 5 8 6 7 8 6 9 4\n",
      " 6 6 8 9 4 6 2 4 9 5 7 9 5 4 8]\n",
      "5.13\n",
      "5.13\n"
     ]
    }
   ],
   "source": [
    "# Sample\n",
    "x=np.random.randint(1,10,200)\n",
    "print(x)"
   ]
  },
  {
   "cell_type": "code",
   "execution_count": 10,
   "id": "9c9e162f",
   "metadata": {},
   "outputs": [],
   "source": [
    "x1=np.random.choice(pop,100)\n",
    "x2=np.random.choice(pop,100)\n",
    "x3=np.random.choice(pop,100)\n",
    "x4=np.random.choice(pop,100)"
   ]
  },
  {
   "cell_type": "code",
   "execution_count": 11,
   "id": "b0400d1a",
   "metadata": {},
   "outputs": [
    {
     "name": "stdout",
     "output_type": "stream",
     "text": [
      "5.21\n",
      "5.21\n"
     ]
    }
   ],
   "source": [
    "x=(x1,x2,x3,x4)\n",
    "x_mean=[]\n",
    "for i in x:\n",
    "    x_mean.append(np.mean(i))\n",
    "print(np.mean(x_mean))\n",
    "print(np.mean(x))"
   ]
  },
  {
   "cell_type": "code",
   "execution_count": 12,
   "id": "efac27ca",
   "metadata": {},
   "outputs": [
    {
     "name": "stdout",
     "output_type": "stream",
     "text": [
      "(array([1, 8, 5, 7, 9, 7, 2, 3, 2, 7, 1, 7, 5, 3, 1, 2, 3, 3, 4, 5, 8, 6,\n",
      "       4, 8, 5, 6, 4, 8, 8, 7, 8, 4, 1, 5, 5, 8, 2, 8, 5, 4, 8, 8, 3, 1,\n",
      "       3, 4, 2, 7, 3, 3, 5, 2, 9, 9, 4, 2, 2, 6, 8, 1, 1, 1, 7, 8, 6, 8,\n",
      "       5, 8, 6, 5, 9, 8, 3, 9, 5, 5, 1, 4, 4, 4, 1, 3, 5, 8, 3, 2, 5, 6,\n",
      "       9, 1, 8, 8, 2, 8, 5, 7, 8, 4, 9, 8]), array([2, 5, 6, 7, 8, 2, 5, 3, 4, 3, 6, 3, 6, 9, 5, 2, 9, 6, 9, 4, 8, 9,\n",
      "       2, 2, 8, 1, 6, 4, 9, 4, 2, 8, 4, 4, 1, 3, 8, 2, 2, 1, 6, 5, 4, 2,\n",
      "       2, 8, 7, 2, 1, 8, 7, 8, 1, 7, 4, 8, 3, 5, 2, 2, 4, 9, 2, 2, 1, 8,\n",
      "       7, 1, 8, 5, 8, 9, 6, 5, 9, 2, 7, 5, 4, 2, 1, 8, 9, 8, 5, 4, 3, 8,\n",
      "       2, 9, 9, 6, 4, 8, 8, 8, 3, 4, 9, 7]), array([3, 1, 8, 4, 5, 2, 8, 7, 9, 1, 5, 8, 6, 8, 4, 7, 8, 4, 3, 9, 9, 8,\n",
      "       2, 4, 1, 5, 9, 8, 4, 9, 9, 1, 3, 4, 4, 3, 2, 3, 5, 5, 8, 5, 9, 8,\n",
      "       4, 7, 2, 7, 2, 7, 8, 6, 1, 9, 1, 9, 9, 2, 8, 6, 7, 4, 6, 4, 3, 8,\n",
      "       2, 8, 2, 8, 5, 6, 2, 6, 9, 4, 4, 8, 9, 6, 6, 6, 5, 1, 1, 4, 2, 3,\n",
      "       2, 5, 5, 3, 9, 2, 3, 8, 7, 8, 6, 1]), array([8, 1, 8, 6, 4, 1, 7, 8, 3, 9, 6, 6, 2, 1, 8, 2, 9, 4, 2, 2, 8, 9,\n",
      "       2, 8, 9, 8, 8, 8, 1, 7, 7, 8, 8, 5, 5, 7, 7, 2, 8, 9, 8, 1, 4, 6,\n",
      "       3, 2, 6, 2, 5, 9, 4, 9, 9, 4, 1, 9, 5, 5, 1, 7, 5, 8, 5, 3, 6, 6,\n",
      "       3, 3, 8, 6, 7, 3, 7, 6, 6, 6, 7, 7, 3, 7, 8, 8, 1, 4, 8, 1, 7, 9,\n",
      "       2, 4, 6, 2, 8, 8, 3, 1, 1, 5, 6, 8]))\n",
      "Mean: 5.21 Median: 5.0 Var: 6.945899999999999 SD: 2.635507541252728\n",
      "Min: 1 Max: 9 Range: 8\n",
      "Q1: -0.7977187352982203 Q3: 0.4917342229585248 IQR: 1.289452958256745\n"
     ]
    }
   ],
   "source": [
    "pop=np.random.randn(50)\n",
    "print(x)\n",
    "print(\"Mean:\",np.mean(x),\"Median:\",np.median(x),\"Var:\",np.var(x),\"SD:\",np.std(x))\n",
    "print(\"Min:\",np.min(x),\"Max:\",np.max(x),\"Range:\",np.max(x)-np.min(x))\n",
    "print(\"Q1:\",np.percentile(pop,25),\"Q3:\",np.percentile(pop,75),\"IQR:\",np.percentile(pop,75)-np.percentile(pop,25))\n"
   ]
  },
  {
   "cell_type": "code",
   "execution_count": 18,
   "id": "fdff40ae",
   "metadata": {},
   "outputs": [
    {
     "name": "stdout",
     "output_type": "stream",
     "text": [
      "Mean Age: 24.25\n",
      "Mean Age: 24.25\n",
      "Modal Age: 24\n",
      "Skewness: -0.14372042988251965\n",
      "Kurtosis: -0.6857051824937703\n"
     ]
    }
   ],
   "source": [
    "df1=pd.DataFrame(dict(id=range(60),age=np.random.randint(18,31,size=60)))\n",
    "print(\"Mean Age:\", df1.age.mean())\n",
    "print(\"Mean Age:\", df1[\"age\"].mean())\n",
    "print(\"Modal Age:\", df1.age.mode()[0])\n",
    "print(\"Skewness:\", df1.age.skew())\n",
    "print(\"Kurtosis:\", df1.age.kurt())"
   ]
  },
  {
   "cell_type": "code",
   "execution_count": 14,
   "id": "85a497cd",
   "metadata": {},
   "outputs": [],
   "source": [
    "mu, sigma=0,1\n",
    "x=np.random.normal(mu,sigma,size=100)"
   ]
  },
  {
   "cell_type": "code",
   "execution_count": 16,
   "id": "3656dd1b",
   "metadata": {},
   "outputs": [
    {
     "name": "stdout",
     "output_type": "stream",
     "text": [
      "[-1.58694338e+00  6.28202736e-01 -6.04204751e-01  1.74206693e-01\n",
      " -5.93238022e-01 -8.78760283e-02 -3.66539561e-01  9.74821256e-01\n",
      " -2.50071386e-01 -1.04511903e+00 -3.81990909e-01  8.92731279e-01\n",
      " -2.35776256e-01  4.90554861e-01  2.08428490e+00 -1.54678410e+00\n",
      "  1.84564921e+00 -3.03574676e-01  4.28631467e-01 -4.09684447e-01\n",
      "  1.03150110e+00  2.87068454e-01 -5.76566018e-01 -7.42330308e-01\n",
      "  1.24634671e+00  1.54983690e+00 -9.37960753e-01  8.73369023e-01\n",
      " -1.97130408e-01  1.51600622e+00  2.34623373e-01 -1.37505828e-01\n",
      " -2.41324651e-02 -1.17119880e+00 -1.18796491e-03  2.63926076e-01\n",
      "  1.82209521e+00  1.26946550e+00  1.50984235e-01  2.89628905e-01\n",
      " -1.32010262e+00  8.09622977e-01  1.30974102e+00  8.67023386e-01\n",
      "  1.57238362e+00  4.84020360e-02 -5.33432265e-01 -9.27900981e-01\n",
      "  4.49849495e-01  1.24657016e+00  7.34133834e-01  5.67667191e-01\n",
      "  3.12187797e-01 -6.67745788e-01 -2.52545819e-01 -1.02568155e+00\n",
      " -1.07576061e-01 -2.59176804e+00  9.30777336e-01 -9.29647345e-01\n",
      "  1.08278168e+00 -5.76790078e-01  3.60869312e-01  1.14183607e+00\n",
      "  9.98831562e-01  8.01407615e-01 -2.03127706e+00  3.82186484e-01\n",
      "  1.45330180e+00 -2.40029638e+00 -4.55319120e-01  4.68105507e-01\n",
      "  1.10745711e-01 -1.07622349e+00 -1.01091487e-01 -1.36077134e+00\n",
      " -7.42557503e-01  8.40788768e-02  5.17174201e-02 -6.48911922e-02\n",
      "  4.19915671e-01 -3.65976786e-01  5.14014151e-01  3.56268783e-01\n",
      "  2.10794279e+00 -2.25749115e-02 -1.32728862e+00  1.14995098e+00\n",
      "  1.37414507e+00  4.21566996e-01  3.85725659e-01  6.44324265e-01\n",
      "  1.85089279e-01  1.16468885e+00 -8.04074832e-01  6.60988555e-01\n",
      " -2.11520670e+00 -5.02046838e-01 -6.19425564e-01  8.31391815e-01]\n",
      "Mean: 0.09932140429910014 Median: 0.16259546404596228 Var: 0.9437139851440637 SD: 0.9714494249028426\n",
      "Min: -2.591768044011152 Max: 2.1079427915606312 Range: 4.699710835571784\n",
      "Q1: -0.5442157032683786 Q3: 0.815065186775686 IQR: 1.3592808900440647\n",
      "Skewness: -0.35017077759318727  Kurtosis: 0.0435340251611529\n"
     ]
    }
   ],
   "source": [
    "print(x)\n",
    "print(\"Mean:\",np.mean(x),\"Median:\",np.median(x),\"Var:\",np.var(x),\"SD:\",np.std(x))\n",
    "print(\"Min:\",np.min(x),\"Max:\",np.max(x),\"Range:\",np.max(x)-np.min(x))\n",
    "print(\"Q1:\",np.percentile(x,25),\"Q3:\",np.percentile(x,75),\"IQR:\",np.percentile(x,75)-np.percentile(x,25))\n",
    "print(\"Skewness:\", pd.DataFrame(x).skew()[0],\" Kurtosis:\", pd.DataFrame(x).kurt()[0])"
   ]
  },
  {
   "cell_type": "code",
   "execution_count": 17,
   "id": "dea110e3",
   "metadata": {},
   "outputs": [
    {
     "name": "stdout",
     "output_type": "stream",
     "text": [
      "Pop mean: 0.09932140429910014 Mean of Sample Means: 0.13201129809502515\n",
      "Pop var: 0.9437139851440637 Mean of Sample Means: 0.874812710824268\n"
     ]
    },
    {
     "data": {
      "text/plain": [
       "<AxesSubplot:ylabel='Density'>"
      ]
     },
     "execution_count": 17,
     "metadata": {},
     "output_type": "execute_result"
    },
    {
     "data": {
      "image/png": "[encoded data removed]",
      "text/plain": [
       "<Figure size 432x288 with 1 Axes>"
      ]
     },
     "metadata": {
      "needs_background": "light"
     },
     "output_type": "display_data"
    }
   ],
   "source": [
    "Xbar, SVar=[],[]\n",
    "for i in range(100):\n",
    "    SampleX=np.random.choice(x,size=20)\n",
    "    Xbar.append(np.mean(SampleX))\n",
    "    SVar.append(np.var(SampleX))\n",
    "print(\"Pop mean:\",np.mean(x),\"Mean of Sample Means:\",np.mean(Xbar))\n",
    "print(\"Pop var:\",np.var(x),\"Mean of Sample Means:\",np.mean(SVar))\n",
    "pd.DataFrame(Xbar).plot(kind=\"density\")"
   ]
  },
  {
   "cell_type": "markdown",
   "id": "e2b7c700",
   "metadata": {},
   "source": [
    "# Sampling in Python"
   ]
  },
  {
   "cell_type": "markdown",
   "id": "76db68f3",
   "metadata": {},
   "source": [
    "# Simple Random Sampling"
   ]
  },
  {
   "cell_type": "code",
   "execution_count": 19,
   "id": "18e54f0b",
   "metadata": {},
   "outputs": [
    {
     "data": {
      "text/html": [
       "<div>\n",
       "<style scoped>\n",
       "    .dataframe tbody tr th:only-of-type {\n",
       "        vertical-align: middle;\n",
       "    }\n",
       "\n",
       "    .dataframe tbody tr th {\n",
       "        vertical-align: top;\n",
       "    }\n",
       "\n",
       "    .dataframe thead th {\n",
       "        text-align: right;\n",
       "    }\n",
       "</style>\n",
       "<table border=\"1\" class=\"dataframe\">\n",
       "  <thead>\n",
       "    <tr style=\"text-align: right;\">\n",
       "      <th></th>\n",
       "      <th>id</th>\n",
       "      <th>Age</th>\n",
       "    </tr>\n",
       "  </thead>\n",
       "  <tbody>\n",
       "    <tr>\n",
       "      <th>0</th>\n",
       "      <td>1</td>\n",
       "      <td>20</td>\n",
       "    </tr>\n",
       "    <tr>\n",
       "      <th>1</th>\n",
       "      <td>2</td>\n",
       "      <td>22</td>\n",
       "    </tr>\n",
       "    <tr>\n",
       "      <th>2</th>\n",
       "      <td>3</td>\n",
       "      <td>21</td>\n",
       "    </tr>\n",
       "    <tr>\n",
       "      <th>3</th>\n",
       "      <td>4</td>\n",
       "      <td>22</td>\n",
       "    </tr>\n",
       "    <tr>\n",
       "      <th>4</th>\n",
       "      <td>5</td>\n",
       "      <td>22</td>\n",
       "    </tr>\n",
       "  </tbody>\n",
       "</table>\n",
       "</div>"
      ],
      "text/plain": [
       "   id  Age\n",
       "0   1   20\n",
       "1   2   22\n",
       "2   3   21\n",
       "3   4   22\n",
       "4   5   22"
      ]
     },
     "execution_count": 19,
     "metadata": {},
     "output_type": "execute_result"
    }
   ],
   "source": [
    "data=pd.DataFrame({'id': range(1,31), 'Age': np.random.randint(19,24,30)})\n",
    "data.head()"
   ]
  },
  {
   "cell_type": "code",
   "execution_count": null,
   "id": "51902d1d",
   "metadata": {},
   "outputs": [],
   "source": [
    "SRSWR_sample=data.sample(n=10,replace=True).sort_values(by='id')\n",
    "SRSWR_mean=SRS_sample['Age'].mean()\n",
    "SRSWR_sample"
   ]
  },
  {
   "cell_type": "code",
   "execution_count": null,
   "id": "4008e381",
   "metadata": {},
   "outputs": [],
   "source": [
    "SRSwOR_sample=data.sample(n=10,replace=False).sort_values(by='id')\n",
    "SRSwOR_mean=SRS_sample['Age'].mean()\n",
    "SRSwOR_sample"
   ]
  },
  {
   "cell_type": "markdown",
   "id": "9141dfdf",
   "metadata": {},
   "source": [
    "# Systematic Sampling"
   ]
  },
  {
   "cell_type": "code",
   "execution_count": 21,
   "id": "2e5badc4",
   "metadata": {},
   "outputs": [
    {
     "data": {
      "text/html": [
       "<div>\n",
       "<style scoped>\n",
       "    .dataframe tbody tr th:only-of-type {\n",
       "        vertical-align: middle;\n",
       "    }\n",
       "\n",
       "    .dataframe tbody tr th {\n",
       "        vertical-align: top;\n",
       "    }\n",
       "\n",
       "    .dataframe thead th {\n",
       "        text-align: right;\n",
       "    }\n",
       "</style>\n",
       "<table border=\"1\" class=\"dataframe\">\n",
       "  <thead>\n",
       "    <tr style=\"text-align: right;\">\n",
       "      <th></th>\n",
       "      <th>id</th>\n",
       "      <th>Age</th>\n",
       "    </tr>\n",
       "  </thead>\n",
       "  <tbody>\n",
       "    <tr>\n",
       "      <th>4</th>\n",
       "      <td>5</td>\n",
       "      <td>22</td>\n",
       "    </tr>\n",
       "    <tr>\n",
       "      <th>9</th>\n",
       "      <td>10</td>\n",
       "      <td>19</td>\n",
       "    </tr>\n",
       "    <tr>\n",
       "      <th>14</th>\n",
       "      <td>15</td>\n",
       "      <td>21</td>\n",
       "    </tr>\n",
       "    <tr>\n",
       "      <th>19</th>\n",
       "      <td>20</td>\n",
       "      <td>21</td>\n",
       "    </tr>\n",
       "    <tr>\n",
       "      <th>24</th>\n",
       "      <td>25</td>\n",
       "      <td>19</td>\n",
       "    </tr>\n",
       "    <tr>\n",
       "      <th>29</th>\n",
       "      <td>30</td>\n",
       "      <td>21</td>\n",
       "    </tr>\n",
       "  </tbody>\n",
       "</table>\n",
       "</div>"
      ],
      "text/plain": [
       "    id  Age\n",
       "4    5   22\n",
       "9   10   19\n",
       "14  15   21\n",
       "19  20   21\n",
       "24  25   19\n",
       "29  30   21"
      ]
     },
     "execution_count": 21,
     "metadata": {},
     "output_type": "execute_result"
    }
   ],
   "source": [
    "n=6\n",
    "N_pop=len(data.index)\n",
    "k=round(N_pop/n)\n",
    "i=np.random.randint(1,k)\n",
    "SyS_sample=data.iloc[np.arange(i,N_pop+1,k)]\n",
    "SyS_mean=SyS_sample['Age'].mean()\n",
    "SyS_sample"
   ]
  },
  {
   "cell_type": "code",
   "execution_count": 22,
   "id": "3d2cae53",
   "metadata": {},
   "outputs": [
    {
     "data": {
      "text/html": [
       "<div>\n",
       "<style scoped>\n",
       "    .dataframe tbody tr th:only-of-type {\n",
       "        vertical-align: middle;\n",
       "    }\n",
       "\n",
       "    .dataframe tbody tr th {\n",
       "        vertical-align: top;\n",
       "    }\n",
       "\n",
       "    .dataframe thead th {\n",
       "        text-align: right;\n",
       "    }\n",
       "</style>\n",
       "<table border=\"1\" class=\"dataframe\">\n",
       "  <thead>\n",
       "    <tr style=\"text-align: right;\">\n",
       "      <th></th>\n",
       "      <th>id</th>\n",
       "      <th>Age</th>\n",
       "      <th>Gender</th>\n",
       "    </tr>\n",
       "  </thead>\n",
       "  <tbody>\n",
       "    <tr>\n",
       "      <th>0</th>\n",
       "      <td>1</td>\n",
       "      <td>20</td>\n",
       "      <td>M</td>\n",
       "    </tr>\n",
       "    <tr>\n",
       "      <th>1</th>\n",
       "      <td>2</td>\n",
       "      <td>22</td>\n",
       "      <td>F</td>\n",
       "    </tr>\n",
       "    <tr>\n",
       "      <th>7</th>\n",
       "      <td>8</td>\n",
       "      <td>22</td>\n",
       "      <td>F</td>\n",
       "    </tr>\n",
       "    <tr>\n",
       "      <th>9</th>\n",
       "      <td>10</td>\n",
       "      <td>19</td>\n",
       "      <td>M</td>\n",
       "    </tr>\n",
       "    <tr>\n",
       "      <th>10</th>\n",
       "      <td>11</td>\n",
       "      <td>20</td>\n",
       "      <td>M</td>\n",
       "    </tr>\n",
       "    <tr>\n",
       "      <th>12</th>\n",
       "      <td>13</td>\n",
       "      <td>23</td>\n",
       "      <td>F</td>\n",
       "    </tr>\n",
       "    <tr>\n",
       "      <th>14</th>\n",
       "      <td>15</td>\n",
       "      <td>21</td>\n",
       "      <td>M</td>\n",
       "    </tr>\n",
       "    <tr>\n",
       "      <th>19</th>\n",
       "      <td>20</td>\n",
       "      <td>21</td>\n",
       "      <td>F</td>\n",
       "    </tr>\n",
       "    <tr>\n",
       "      <th>22</th>\n",
       "      <td>23</td>\n",
       "      <td>19</td>\n",
       "      <td>F</td>\n",
       "    </tr>\n",
       "    <tr>\n",
       "      <th>23</th>\n",
       "      <td>24</td>\n",
       "      <td>23</td>\n",
       "      <td>F</td>\n",
       "    </tr>\n",
       "    <tr>\n",
       "      <th>27</th>\n",
       "      <td>28</td>\n",
       "      <td>21</td>\n",
       "      <td>M</td>\n",
       "    </tr>\n",
       "    <tr>\n",
       "      <th>28</th>\n",
       "      <td>29</td>\n",
       "      <td>22</td>\n",
       "      <td>F</td>\n",
       "    </tr>\n",
       "  </tbody>\n",
       "</table>\n",
       "</div>"
      ],
      "text/plain": [
       "    id  Age Gender\n",
       "0    1   20      M\n",
       "1    2   22      F\n",
       "7    8   22      F\n",
       "9   10   19      M\n",
       "10  11   20      M\n",
       "12  13   23      F\n",
       "14  15   21      M\n",
       "19  20   21      F\n",
       "22  23   19      F\n",
       "23  24   23      F\n",
       "27  28   21      M\n",
       "28  29   22      F"
      ]
     },
     "execution_count": 22,
     "metadata": {},
     "output_type": "execute_result"
    }
   ],
   "source": [
    "data['Gender']=np.random.choice(['M','F'],30)\n",
    "\n",
    "StrS=pd.DataFrame()\n",
    "nh={'M':5,'F':7}\n",
    "\n",
    "for i in np.unique(data.Gender):\n",
    "  data_temp=data[data.Gender==i]\n",
    "  StrS=pd.concat([StrS,data_temp.sample(n=nh[i])])\n",
    "\n",
    "StrS=StrS.sort_index()\n",
    "StrS"
   ]
  },
  {
   "cell_type": "code",
   "execution_count": 23,
   "id": "624f9d34",
   "metadata": {},
   "outputs": [],
   "source": [
    "s1=np.array([5, 4, 1, 2, 4, 3, 7, 5, 0, 3])\n",
    "s2=np.array([11, 9, 13, 9, 4, 5, 5, 14, 8, 9, 11, 7, 10, 14, 7])\n",
    "s3=np.array([22, 16, 18, 18, 23, 20, 20, 19, 20, 16, 21, 20, 26, 20, 26, 18, 21, 17, 22, 21])\n",
    "N1, N2, N3=1000, 1500, 2500\n",
    "n1, n2, n3= 10, 15, 20\n",
    "N=N1+N2+N3\n",
    "n=n1+n2+n3\n",
    "\n",
    "nh=np.array([10,15,20])\n",
    "Nh=np.array([1000,1500,2500])\n",
    "\n",
    "ybarh=np.array([np.mean(s1),np.mean(s2),np.mean(s3)])\n",
    "ybarh\n",
    "\n",
    "Wh=np.array([N1,N2,N3])/N\n",
    "\n",
    "ybarst=sum(Wh*ybarh)\n",
    "\n",
    "S2h=np.array([np.var(s1,ddof=1),np.var(s2,ddof=1),np.var(s3,ddof=1)])\n",
    "S2h\n",
    "\n",
    "se_st=np.sqrt(sum(Wh*Wh*S2h*(1/nh-1/Nh)))"
   ]
  },
  {
   "cell_type": "code",
   "execution_count": 24,
   "id": "6cc477e0",
   "metadata": {},
   "outputs": [
    {
     "data": {
      "text/plain": [
       "13.5"
      ]
     },
     "execution_count": 24,
     "metadata": {},
     "output_type": "execute_result"
    }
   ],
   "source": [
    "ybarst"
   ]
  },
  {
   "cell_type": "code",
   "execution_count": 25,
   "id": "a169cbbf",
   "metadata": {},
   "outputs": [
    {
     "data": {
      "text/plain": [
       "0.41407016949202935"
      ]
     },
     "execution_count": 25,
     "metadata": {},
     "output_type": "execute_result"
    }
   ],
   "source": [
    "se_st"
   ]
  },
  {
   "cell_type": "code",
   "execution_count": null,
   "id": "a7bc357f",
   "metadata": {},
   "outputs": [],
   "source": [
    "x=[368,384,361,347,403,529,703,396,473,509,512,503,472,429,387,376,412,345,297,633]\n",
    "y=[31,33,37,39,43,61,68,42,41,49,31,29,38,41,40,38,42,45,32,50]\n",
    "x1=sample(x,5)\n",
    "y1=sample(y,5)\n",
    "n=5;N=20\n",
    "xbar=mean(x)\n",
    "Xbar=mean(x1)\n",
    "Ybar=mean(y1)\n",
    "ythat=N*Ybar; ythat\n",
    "sx=var(x)*(n-1)\n",
    "sy=var(y)*(n-1)\n",
    "sxy=cov(x,y)*(n-1)\n",
    "Rhat=Ybar/Xbar\n",
    "Ybar_R=Rhat*xbar; Ybar_R\n",
    "ythat_R=N*Ybar_R; ythat_R\n",
    "betahat=sxy/sx\n",
    "Ybar_reg=Ybar+betahat*(xbar-Xbar); Ybar_reg\n",
    "MSE_Ythat_R=N^2*(1/n-1/N)*(sy+betahat^2*sx-2*betahat*sxy); MSE_Ythat_R\n",
    "sh2=var(y)\n",
    "var_ythat=N^2*(1/n-1/N)*sh2; var_ythat\n",
    "eff=var_ythat/MSE_Ythat_R; eff"
   ]
  },
  {
   "cell_type": "markdown",
   "id": "c60adb10",
   "metadata": {},
   "source": [
    "Generate random sample of size 10,000 from Poisson(lamb=3\n",
    "\n",
    "). Treat this generated sample data as characteristic values of study variables of the population of the size 10,000.\n",
    "\n",
    "Now, draw 5 random samples of size 100 each from this population using SRSWOR Obtain estimate of population mean based on each sample data by using sample mean as an estimator for population mean. Also find the amount of sampling error from your estimates."
   ]
  },
  {
   "cell_type": "code",
   "execution_count": 26,
   "id": "5f1e67f4",
   "metadata": {},
   "outputs": [],
   "source": [
    "import numpy as np\n",
    "import pandas as pd"
   ]
  },
  {
   "cell_type": "code",
   "execution_count": 27,
   "id": "f9b85e54",
   "metadata": {},
   "outputs": [
    {
     "name": "stdout",
     "output_type": "stream",
     "text": [
      "Sample Mean of 1 sample is 2.880\n",
      "Sample Mean of 2 sample is 2.590\n",
      "Sample Mean of 3 sample is 3.010\n",
      "Sample Mean of 4 sample is 3.110\n",
      "Sample Mean of 5 sample is 2.940\n",
      "Population Mean is 3.012\n",
      "Sampling Errors are as follows: [0.1318 0.4218 0.0018 0.0982 0.0718]\n"
     ]
    }
   ],
   "source": [
    "population = pd.DataFrame({'id':np.arange(1,10001),'X':np.random.poisson(3,10000)})\n",
    "population.head()   \n",
    "sample_means=np.zeros(5)\n",
    "pop_mean=np.mean(population.X)\n",
    "for i in range(5):\n",
    "    temp=population.X[np.random.choice(10000,100)]\n",
    "    sample_means[i]=np.mean(temp)\n",
    "    print('Sample Mean of %d sample is %1.3f'%(i+1,sample_means[i]))\n",
    "print('Population Mean is %1.3f'%(pop_mean))\n",
    "print('Sampling Errors are as follows:',abs(sample_means-pop_mean))"
   ]
  },
  {
   "cell_type": "markdown",
   "id": "e2db95f8",
   "metadata": {},
   "source": [
    "Draw 10,000 samples of size 25 from Normal\n",
    "and study the sampling distribution of following statistics for n=5,10,25\n"
   ]
  },
  {
   "cell_type": "code",
   "execution_count": 28,
   "id": "0b1a54e6",
   "metadata": {},
   "outputs": [],
   "source": [
    "pop1=np.random.normal(100,3,(10000,25))"
   ]
  },
  {
   "cell_type": "code",
   "execution_count": 29,
   "id": "b6caeef8",
   "metadata": {},
   "outputs": [
    {
     "data": {
      "text/html": [
       "<div>\n",
       "<style scoped>\n",
       "    .dataframe tbody tr th:only-of-type {\n",
       "        vertical-align: middle;\n",
       "    }\n",
       "\n",
       "    .dataframe tbody tr th {\n",
       "        vertical-align: top;\n",
       "    }\n",
       "\n",
       "    .dataframe thead th {\n",
       "        text-align: right;\n",
       "    }\n",
       "</style>\n",
       "<table border=\"1\" class=\"dataframe\">\n",
       "  <thead>\n",
       "    <tr style=\"text-align: right;\">\n",
       "      <th></th>\n",
       "      <th>En5</th>\n",
       "      <th>Vn5</th>\n",
       "      <th>En10</th>\n",
       "      <th>Vn10</th>\n",
       "      <th>En25</th>\n",
       "      <th>Vn25</th>\n",
       "    </tr>\n",
       "  </thead>\n",
       "  <tbody>\n",
       "    <tr>\n",
       "      <th>Ybar</th>\n",
       "      <td>0.0</td>\n",
       "      <td>0.0</td>\n",
       "      <td>0.0</td>\n",
       "      <td>0.0</td>\n",
       "      <td>0.0</td>\n",
       "      <td>0.0</td>\n",
       "    </tr>\n",
       "    <tr>\n",
       "      <th>S2Y</th>\n",
       "      <td>0.0</td>\n",
       "      <td>0.0</td>\n",
       "      <td>0.0</td>\n",
       "      <td>0.0</td>\n",
       "      <td>0.0</td>\n",
       "      <td>0.0</td>\n",
       "    </tr>\n",
       "    <tr>\n",
       "      <th>Min</th>\n",
       "      <td>0.0</td>\n",
       "      <td>0.0</td>\n",
       "      <td>0.0</td>\n",
       "      <td>0.0</td>\n",
       "      <td>0.0</td>\n",
       "      <td>0.0</td>\n",
       "    </tr>\n",
       "    <tr>\n",
       "      <th>Max</th>\n",
       "      <td>0.0</td>\n",
       "      <td>0.0</td>\n",
       "      <td>0.0</td>\n",
       "      <td>0.0</td>\n",
       "      <td>0.0</td>\n",
       "      <td>0.0</td>\n",
       "    </tr>\n",
       "    <tr>\n",
       "      <th>Range</th>\n",
       "      <td>0.0</td>\n",
       "      <td>0.0</td>\n",
       "      <td>0.0</td>\n",
       "      <td>0.0</td>\n",
       "      <td>0.0</td>\n",
       "      <td>0.0</td>\n",
       "    </tr>\n",
       "  </tbody>\n",
       "</table>\n",
       "</div>"
      ],
      "text/plain": [
       "       En5  Vn5  En10  Vn10  En25  Vn25\n",
       "Ybar   0.0  0.0   0.0   0.0   0.0   0.0\n",
       "S2Y    0.0  0.0   0.0   0.0   0.0   0.0\n",
       "Min    0.0  0.0   0.0   0.0   0.0   0.0\n",
       "Max    0.0  0.0   0.0   0.0   0.0   0.0\n",
       "Range  0.0  0.0   0.0   0.0   0.0   0.0"
      ]
     },
     "execution_count": 29,
     "metadata": {},
     "output_type": "execute_result"
    }
   ],
   "source": [
    "df=pd.DataFrame(np.zeros((5,6)))\n",
    "df.columns=['En5','Vn5','En10','Vn10','En25','Vn25']\n",
    "df.index=['Ybar','S2Y','Min','Max','Range']\n",
    "df"
   ]
  },
  {
   "cell_type": "code",
   "execution_count": 30,
   "id": "f899e90a",
   "metadata": {},
   "outputs": [
    {
     "data": {
      "text/html": [
       "<div>\n",
       "<style scoped>\n",
       "    .dataframe tbody tr th:only-of-type {\n",
       "        vertical-align: middle;\n",
       "    }\n",
       "\n",
       "    .dataframe tbody tr th {\n",
       "        vertical-align: top;\n",
       "    }\n",
       "\n",
       "    .dataframe thead th {\n",
       "        text-align: right;\n",
       "    }\n",
       "</style>\n",
       "<table border=\"1\" class=\"dataframe\">\n",
       "  <thead>\n",
       "    <tr style=\"text-align: right;\">\n",
       "      <th></th>\n",
       "      <th>En5</th>\n",
       "      <th>Vn5</th>\n",
       "      <th>En10</th>\n",
       "      <th>Vn10</th>\n",
       "      <th>En25</th>\n",
       "      <th>Vn25</th>\n",
       "    </tr>\n",
       "  </thead>\n",
       "  <tbody>\n",
       "    <tr>\n",
       "      <th>Ybar</th>\n",
       "      <td>100.018642</td>\n",
       "      <td>1.833118</td>\n",
       "      <td>100.006196</td>\n",
       "      <td>0.897921</td>\n",
       "      <td>100.000110</td>\n",
       "      <td>0.368051</td>\n",
       "    </tr>\n",
       "    <tr>\n",
       "      <th>S2Y</th>\n",
       "      <td>8.988736</td>\n",
       "      <td>40.483964</td>\n",
       "      <td>8.959849</td>\n",
       "      <td>17.630720</td>\n",
       "      <td>8.975752</td>\n",
       "      <td>6.558943</td>\n",
       "    </tr>\n",
       "    <tr>\n",
       "      <th>Min</th>\n",
       "      <td>96.534109</td>\n",
       "      <td>16.009627</td>\n",
       "      <td>95.386960</td>\n",
       "      <td>24.323532</td>\n",
       "      <td>94.106578</td>\n",
       "      <td>37.032546</td>\n",
       "    </tr>\n",
       "    <tr>\n",
       "      <th>Max</th>\n",
       "      <td>103.519022</td>\n",
       "      <td>16.435826</td>\n",
       "      <td>104.608403</td>\n",
       "      <td>24.272152</td>\n",
       "      <td>105.872509</td>\n",
       "      <td>36.753414</td>\n",
       "    </tr>\n",
       "    <tr>\n",
       "      <th>Range</th>\n",
       "      <td>6.984913</td>\n",
       "      <td>55.436385</td>\n",
       "      <td>9.221443</td>\n",
       "      <td>90.695329</td>\n",
       "      <td>11.765931</td>\n",
       "      <td>142.822420</td>\n",
       "    </tr>\n",
       "  </tbody>\n",
       "</table>\n",
       "</div>"
      ],
      "text/plain": [
       "              En5        Vn5        En10       Vn10        En25        Vn25\n",
       "Ybar   100.018642   1.833118  100.006196   0.897921  100.000110    0.368051\n",
       "S2Y      8.988736  40.483964    8.959849  17.630720    8.975752    6.558943\n",
       "Min     96.534109  16.009627   95.386960  24.323532   94.106578   37.032546\n",
       "Max    103.519022  16.435826  104.608403  24.272152  105.872509   36.753414\n",
       "Range    6.984913  55.436385    9.221443  90.695329   11.765931  142.822420"
      ]
     },
     "execution_count": 30,
     "metadata": {},
     "output_type": "execute_result"
    }
   ],
   "source": [
    "n=[5,10,25]\n",
    "for i in range(3):\n",
    "    x=pop1[:,:n[i]]\n",
    "    df.iloc[0,2*i]=np.mean(np.mean(x,axis=1))\n",
    "    df.iloc[0,2*i+1]=np.mean((np.mean(x,axis=1)-100)**2)\n",
    "    \n",
    "    df.iloc[1,2*i]=np.mean(np.var(x,axis=1,ddof=1))\n",
    "    df.iloc[1,2*i+1]=np.mean((np.var(x,axis=1,ddof=1)-9)**2)\n",
    "    \n",
    "    df.iloc[2,2*i]=np.mean(np.min(x,axis=1))\n",
    "    df.iloc[2,2*i+1]=np.mean((np.min(x,axis=1)-100)**2)\n",
    "\n",
    "    df.iloc[3,2*i]=np.mean(np.max(x,axis=1))\n",
    "    df.iloc[3,2*i+1]=np.mean((np.max(x,axis=1)-100)**2)\n",
    "\n",
    "    df.iloc[4,2*i]=np.mean(np.max(x,axis=1)-np.min(x,axis=1))\n",
    "    df.iloc[4,2*i+1]=np.mean((np.max(x,axis=1)-np.min(x,axis=1))**2)\n",
    "    \n",
    "df"
   ]
  },
  {
   "cell_type": "code",
   "execution_count": null,
   "id": "9111f389",
   "metadata": {},
   "outputs": [],
   "source": [
    "#!pip install itertools"
   ]
  },
  {
   "cell_type": "code",
   "execution_count": null,
   "id": "18a06363",
   "metadata": {},
   "outputs": [],
   "source": [
    "#import itertools\n",
    "pd.DataFrame(list(itertools.combinations([138, 142, 145, 155,143],3)))"
   ]
  },
  {
   "cell_type": "code",
   "execution_count": 33,
   "id": "2fa32872",
   "metadata": {},
   "outputs": [
    {
     "name": "stdout",
     "output_type": "stream",
     "text": [
      "[0. 1. 2. 3. 4. 5.]\n",
      "[3.0, 0.0, 2.0]\n",
      "[7, 5, 1, 2, 4]\n",
      "[[0.70652117 0.65931451 0.81480959]\n",
      " [0.05761041 0.77682894 0.33848651]]\n",
      "[-0.67648225 -0.73049133  0.05460984 -0.78468199]\n",
      "[28 27 14 39 18]\n",
      "[0.94040142 0.14246364 0.52734903]\n"
     ]
    }
   ],
   "source": [
    "import numpy as np\n",
    "x = np.linspace(0, 5, 6)\n",
    "print(x)\n",
    "from random import sample\n",
    "print(sample(list(x), 3))\n",
    "print(sample([1,2,3,4,5,6,7],5))\n",
    "print(np.random.rand(2,3))\n",
    "print(np.random.randn(4))\n",
    "print(np.random.randint(10, 40, 5))\n",
    "print(np.random.random(3))\n"
   ]
  },
  {
   "cell_type": "code",
   "execution_count": 36,
   "id": "17205051",
   "metadata": {},
   "outputs": [
    {
     "name": "stdout",
     "output_type": "stream",
     "text": [
      "[[[[[8.92877293e-01 6.15130441e-01 8.09259828e-01 2.37451624e-01]\n",
      "    [2.30482409e-01 8.90979120e-01 7.21912485e-01 2.83547204e-01]\n",
      "    [1.18750600e-01 5.45733452e-01 5.39772321e-01 9.43610697e-01]]\n",
      "\n",
      "   [[1.37631295e-01 9.47642419e-01 6.72822762e-01 6.82840551e-01]\n",
      "    [5.39080916e-01 1.72342972e-01 4.85486341e-01 7.21805166e-02]\n",
      "    [7.33231998e-01 8.42044697e-01 2.54581205e-01 8.65822191e-01]]]\n",
      "\n",
      "\n",
      "  [[[1.62464729e-01 3.54935214e-01 4.34190458e-01 9.58379071e-01]\n",
      "    [1.21237002e-01 8.83224767e-01 1.36508854e-01 4.91359282e-01]\n",
      "    [6.93893503e-01 3.85481741e-01 3.88567867e-01 3.66339112e-01]]\n",
      "\n",
      "   [[3.89913199e-01 6.02642499e-01 2.92776721e-01 5.76630413e-01]\n",
      "    [7.56694702e-01 2.06584184e-01 2.29761462e-01 7.52854903e-01]\n",
      "    [8.47330995e-01 4.47232758e-01 7.71817432e-01 4.71843061e-02]]]\n",
      "\n",
      "\n",
      "  [[[4.50225185e-01 2.86548728e-01 1.34602170e-01 4.97118482e-01]\n",
      "    [2.50626980e-02 3.80068357e-01 4.80512500e-01 1.72185756e-01]\n",
      "    [2.05648123e-01 4.02081491e-01 9.23647517e-01 7.28230190e-01]]\n",
      "\n",
      "   [[4.29084064e-01 2.22470566e-01 2.82272943e-01 1.20984624e-01]\n",
      "    [5.80934063e-01 3.61630084e-01 4.20861601e-01 9.27969063e-01]\n",
      "    [7.43435467e-01 8.22476193e-01 6.71506793e-01 9.74232946e-02]]]]\n",
      "\n",
      "\n",
      "\n",
      " [[[[9.60140229e-01 4.19014153e-01 5.89654604e-01 3.30221571e-01]\n",
      "    [6.08106603e-01 7.69431038e-01 9.81459099e-02 8.95247140e-02]\n",
      "    [5.21458824e-01 5.21445117e-01 4.74715556e-02 3.29845986e-02]]\n",
      "\n",
      "   [[5.99168934e-01 4.99961609e-01 4.44359281e-01 8.10840129e-03]\n",
      "    [2.29751075e-01 3.70169313e-01 3.10950078e-01 2.54067868e-01]\n",
      "    [4.79141401e-01 8.72097524e-01 2.44955942e-01 1.91991705e-04]]]\n",
      "\n",
      "\n",
      "  [[[2.97510973e-01 3.73359473e-01 5.02303643e-01 4.11204418e-02]\n",
      "    [2.16264049e-01 9.80044115e-01 4.79717215e-01 8.76763889e-01]\n",
      "    [8.60157707e-01 7.31878767e-01 1.43612271e-02 5.65344360e-01]]\n",
      "\n",
      "   [[6.73410558e-01 6.93271182e-01 9.66102187e-01 4.85756583e-01]\n",
      "    [5.11048405e-01 7.51502051e-01 1.14293045e-01 5.96364827e-01]\n",
      "    [9.29619900e-01 6.97946958e-01 3.20433874e-01 4.97640243e-01]]]\n",
      "\n",
      "\n",
      "  [[[6.83370694e-01 2.62991037e-01 3.14775609e-01 4.80084765e-01]\n",
      "    [2.32802789e-01 4.90383609e-01 8.15607780e-01 2.43083581e-01]\n",
      "    [1.63210802e-01 9.08419159e-01 5.32628472e-01 5.39655537e-02]]\n",
      "\n",
      "   [[5.67537331e-02 8.33712120e-02 4.63148463e-01 9.40297101e-01]\n",
      "    [4.25275881e-01 5.87364496e-01 3.08273292e-01 3.14982923e-01]\n",
      "    [3.64825220e-02 4.71894573e-01 2.03533388e-01 4.41123857e-01]]]]]\n",
      "[ 0.25797419  1.42157667  0.43607953 -0.39777709]\n",
      "[3]\n",
      "[0.03098215 0.12012076 0.04775427]\n",
      "[3. 4. 1. 4. 4. 2. 6. 2.]\n",
      "None\n",
      "[4. 5. 3. 6. 1. 2.]\n",
      "[2 2 2 3 1 1]\n",
      "[4 3 2 3 1]\n",
      "[2 2 1 1 1]\n",
      "[3 1 3 4]\n",
      "[0.62591395 3.17504356 2.57414422 4.68415166 3.30896582 4.67344312]\n",
      "[2.50699188 3.09123697 1.56607581 2.265297   2.66681006]\n",
      "[-1.29018794 -1.79153889  0.08687889  0.17508442  0.21076172  0.41927869]\n",
      "[0.33562289 0.55060362 0.05197249 1.3600711  0.57426032]\n",
      "[0.10544473 1.50058533 0.48335024 0.11560399 0.67100672]\n",
      "[0.96639579 1.60985963 0.73588405 0.59209687 2.37204071]\n",
      "[ 0.77135915  3.60257249  8.33264463 13.63403759  8.52839749]\n",
      "[ 0.3012719  31.78373373  0.2172552   1.69456221  0.46479581]\n",
      "[0.46686791 1.12996885 0.65796165 1.92784995 1.15608574]\n"
     ]
    }
   ],
   "source": [
    "#print(np.random.choice([1,2,3,4],5,p=[0.2,0.3,0.4,0.1]))\n",
    "#print(np.random.permutation([1,2,3,4]))\n",
    "#print(np.random.shuffle((1,2,3,4)))\n",
    "import numpy as np\n",
    "print(np.random.rand(2, 3, 2, 3, 4))\n",
    "print(np.random.randn(4))\n",
    "print(np.random.randint(0, 4, 1))\n",
    "print(np.random.random(3))\n",
    "print(np.random.choice(np.linspace(1, 6, 6), 8, replace=True))\n",
    "print(np.random.shuffle(np.linspace(1, 6, 6)))\n",
    "print(np.random.permutation(np.linspace(1, 6, 6)))\n",
    "print(np.random.binomial(3, 0.5, 6))\n",
    "print(np.random.poisson(2, 5))\n",
    "print(np.random.geometric(0.6, 5))\n",
    "print(np.random.hypergeometric(12, 10, 5, 4))\n",
    "print(np.random.uniform(0, 5, 6))\n",
    "print(np.random.normal(3, 1, 5))\n",
    "print(np.random.standard_t(25, 6))\n",
    "print(np.random.exponential(1 / 2, 5))\n",
    "print(np.random.f(2, 3, 5))\n",
    "print(np.random.chisquare(3, 5))\n",
    "print(np.random.gamma(2, 3, 5))\n",
    "# print(np.random.beta(0, 1, 5))\n",
    "print(np.random.pareto(1, 5))\n",
    "print(np.random.weibull(2, 5))"
   ]
  },
  {
   "cell_type": "code",
   "execution_count": 37,
   "id": "a69c603a",
   "metadata": {},
   "outputs": [
    {
     "name": "stdout",
     "output_type": "stream",
     "text": [
      "------------------------------------------------\n",
      "Uniform:\n",
      "0.5\n",
      "1.5 0.8660254037844386 0.75\n",
      "0.8\n",
      "[0.44823962 0.02507943]\n",
      "[1.47731112 1.39476469 0.05052298 1.87234264 0.18997511]\n",
      "------------------------------------------------\n",
      "Normal Distribution\n",
      "F(1)=0.159\n",
      "Mean=0.000,SD=1.000,Var=1.000\n",
      "F(0.685)=0.65\n",
      "[ 0.87689097 -1.01080608]\n",
      "[11.3088075  13.35278389]\n",
      "------------------------------------------------\n",
      "Exponential:\n",
      "F(1)=0.632\n",
      "Mean=1.000,SD=1.000,Var=1.000\n",
      "F(1.693)=0.5\n",
      "[0.17151011 1.02352853]\n",
      "[4.01903345 3.75372039 4.03977098 2.36316071 3.13251473 2.74685218]\n"
     ]
    }
   ],
   "source": [
    "from scipy import stats\n",
    "\n",
    "print(\"------------------------------------------------\")\n",
    "print(\"Uniform:\")\n",
    "print(stats.uniform.cdf(0.5, 0, 1))\n",
    "print(stats.uniform.mean(0, 3), stats.uniform.std(0, 3), stats.uniform.var(0, 3))\n",
    "print(stats.uniform.ppf(0.5, 0.3, 1))\n",
    "print(stats.uniform.rvs(size=2))\n",
    "print(stats.uniform.rvs(0,2,size=5))\n",
    "\n",
    "from scipy.stats import norm\n",
    "\n",
    "print(\"------------------------------------------------\")\n",
    "print(\"Normal Distribution\")\n",
    "print(\"F(1)=%1.3f\"%norm.cdf(0, 1, 1))\n",
    "print(\"Mean=%1.3f,SD=%1.3f,Var=%1.3f\"%(norm.mean(), norm.std(), norm.var()))\n",
    "print(\"F(%1.3f)=0.65\"% norm.ppf(0.65, 0.3, 1))\n",
    "print(norm.rvs(size=2))\n",
    "print(norm.rvs(10, 2, size=2))\n",
    "\n",
    "from scipy.stats import expon\n",
    "\n",
    "print(\"------------------------------------------------\")\n",
    "print('Exponential:')\n",
    "print(\"F(1)=%1.3f\"%expon.cdf(1))\n",
    "print(\"Mean=%1.3f,SD=%1.3f,Var=%1.3f\"%(expon.mean(), expon.std(), expon.var()))\n",
    "print(\"F(%1.3f)=0.5\"% expon.ppf(0.5, 1))\n",
    "print(expon.rvs(size=2))\n",
    "print(expon.rvs(2,size=6))"
   ]
  },
  {
   "cell_type": "code",
   "execution_count": null,
   "id": "97bdc040",
   "metadata": {},
   "outputs": [],
   "source": []
  }
 ],
 "metadata": {
  "kernelspec": {
   "display_name": "Python 3 (ipykernel)",
   "language": "python",
   "name": "python3"
  },
  "language_info": {
   "codemirror_mode": {
    "name": "ipython",
    "version": 3
   },
   "file_extension": ".py",
   "mimetype": "text/x-python",
   "name": "python",
   "nbconvert_exporter": "python",
   "pygments_lexer": "ipython3",
   "version": "3.9.7"
  }
 },
 "nbformat": 4,
 "nbformat_minor": 5
}
