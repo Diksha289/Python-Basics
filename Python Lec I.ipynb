{
 "cells": [
  {
   "cell_type": "markdown",
   "id": "75d8cdf1",
   "metadata": {},
   "source": [
    "# Introduction to Python "
   ]
  },
  {
   "cell_type": "code",
   "execution_count": 1,
   "id": "49ef6df7",
   "metadata": {},
   "outputs": [
    {
     "name": "stdout",
     "output_type": "stream",
     "text": [
      "Hello, World\n",
      "Hello, World Diksha\n"
     ]
    }
   ],
   "source": [
    "print(\"Hello, World\")\n",
    "print('Hello, World',\"Diksha\")"
   ]
  },
  {
   "cell_type": "code",
   "execution_count": 2,
   "id": "f400c196",
   "metadata": {},
   "outputs": [],
   "source": [
    "# print \"fg\" # Missing parentheses"
   ]
  },
  {
   "cell_type": "code",
   "execution_count": 3,
   "id": "f74845f5",
   "metadata": {},
   "outputs": [
    {
     "name": "stdout",
     "output_type": "stream",
     "text": [
      "Fail to reject Ho with p-value as 0.08\n",
      "End\n",
      "End Outside\n"
     ]
    }
   ],
   "source": [
    "pval=0.08\n",
    "if pval<=0.05:\n",
    "    print(\"Reject Ho with p-value as\", pval)\n",
    "    print(\"Hello\")\n",
    "else:\n",
    "    print(\"Fail to reject Ho with p-value as\", pval)\n",
    "    print(\"End\")\n",
    "print(\"End Outside\")"
   ]
  },
  {
   "cell_type": "markdown",
   "id": "bd7818df",
   "metadata": {},
   "source": [
    "# Reserved Keywords\n",
    "\n",
    "and, if, else, def, break, not, continue, for, goto, import, while, elif, return, print, from, class, with etc\n",
    "Comment\n"
   ]
  },
  {
   "cell_type": "markdown",
   "id": "d0e74a87",
   "metadata": {},
   "source": [
    "Comment"
   ]
  },
  {
   "cell_type": "code",
   "execution_count": 4,
   "id": "1cf77c56",
   "metadata": {},
   "outputs": [
    {
     "data": {
      "text/plain": [
       "2"
      ]
     },
     "execution_count": 4,
     "metadata": {},
     "output_type": "execute_result"
    }
   ],
   "source": [
    "# First Comment\n",
    "x=2   # sample\n",
    "x\n",
    "# Multiple line comment \"\"\"not working\"\"\" "
   ]
  },
  {
   "cell_type": "code",
   "execution_count": 5,
   "id": "a71c7df5",
   "metadata": {},
   "outputs": [],
   "source": [
    "# Nonopndvanspo\n",
    "# dnvsd"
   ]
  },
  {
   "cell_type": "markdown",
   "id": "b33de167",
   "metadata": {},
   "source": [
    "# Assigning values to Variables"
   ]
  },
  {
   "cell_type": "code",
   "execution_count": 6,
   "id": "c55bacfa",
   "metadata": {},
   "outputs": [
    {
     "name": "stdout",
     "output_type": "stream",
     "text": [
      "2 3\n"
     ]
    }
   ],
   "source": [
    "a=2\n",
    "b=3\n",
    "print(a,b)"
   ]
  },
  {
   "cell_type": "code",
   "execution_count": 7,
   "id": "9fd01d20",
   "metadata": {},
   "outputs": [
    {
     "name": "stdout",
     "output_type": "stream",
     "text": [
      "3 4\n"
     ]
    }
   ],
   "source": [
    "x,y=3,4\n",
    "print(x,y)"
   ]
  },
  {
   "cell_type": "code",
   "execution_count": 8,
   "id": "deef85bb",
   "metadata": {},
   "outputs": [
    {
     "name": "stdout",
     "output_type": "stream",
     "text": [
      "1\n",
      "1\n",
      "2\n",
      "3\n"
     ]
    }
   ],
   "source": [
    "x=y=1\n",
    "print(x)\n",
    "print(y)\n",
    "y=2\n",
    "print(y)\n",
    "print(x+y)"
   ]
  },
  {
   "cell_type": "code",
   "execution_count": 9,
   "id": "0b1e19a6",
   "metadata": {},
   "outputs": [
    {
     "data": {
      "text/plain": [
       "'Some String'"
      ]
     },
     "execution_count": 9,
     "metadata": {},
     "output_type": "execute_result"
    }
   ],
   "source": [
    "x='Some String'\n",
    "x"
   ]
  },
  {
   "cell_type": "code",
   "execution_count": 10,
   "id": "18303cc6",
   "metadata": {},
   "outputs": [
    {
     "data": {
      "text/plain": [
       "'Some StringAnother String'"
      ]
     },
     "execution_count": 10,
     "metadata": {},
     "output_type": "execute_result"
    }
   ],
   "source": [
    "y=\"Another String\"\n",
    "x+y"
   ]
  },
  {
   "cell_type": "code",
   "execution_count": 11,
   "id": "682fc49b",
   "metadata": {},
   "outputs": [
    {
     "data": {
      "text/plain": [
       "(5.4, 3, 'Diksha')"
      ]
     },
     "execution_count": 11,
     "metadata": {},
     "output_type": "execute_result"
    }
   ],
   "source": [
    "x,y,z=\"Diksha\", 3, 5.4\n",
    "z,y,x"
   ]
  },
  {
   "cell_type": "markdown",
   "id": "a0ccd81f",
   "metadata": {},
   "source": [
    "# Standard Datatypes\n",
    "\n",
    "   1. Number\n",
    "   2. String\n",
    "   3. List\n",
    "   4. Tuples\n",
    "   5. Dictionary"
   ]
  },
  {
   "cell_type": "code",
   "execution_count": 12,
   "id": "6f31b34b",
   "metadata": {},
   "outputs": [
    {
     "data": {
      "text/plain": [
       "(1, -2, 0)"
      ]
     },
     "execution_count": 12,
     "metadata": {},
     "output_type": "execute_result"
    }
   ],
   "source": [
    "int_1,int_2,int_3=1, -2, 0\n",
    "int_1,int_2,int_3"
   ]
  },
  {
   "cell_type": "code",
   "execution_count": null,
   "id": "8f0c8e99",
   "metadata": {},
   "outputs": [],
   "source": [
    "float_1=3.1454373367\n",
    "float_1"
   ]
  },
  {
   "cell_type": "code",
   "execution_count": 14,
   "id": "3886a4f9",
   "metadata": {},
   "outputs": [
    {
     "data": {
      "text/plain": [
       "3.14544"
      ]
     },
     "execution_count": 14,
     "metadata": {},
     "output_type": "execute_result"
    }
   ],
   "source": [
    "round(float_1,5)"
   ]
  },
  {
   "cell_type": "code",
   "execution_count": 15,
   "id": "7f43f7d5",
   "metadata": {},
   "outputs": [
    {
     "data": {
      "text/plain": [
       "124325849879460000005165156616543"
      ]
     },
     "execution_count": 15,
     "metadata": {},
     "output_type": "execute_result"
    }
   ],
   "source": [
    "Long_1=124325849879460000005165156616543   # Long Number ????\n",
    "Long_1"
   ]
  },
  {
   "cell_type": "code",
   "execution_count": 16,
   "id": "55f7ab7d",
   "metadata": {},
   "outputs": [
    {
     "data": {
      "text/plain": [
       "(2+4.34j)"
      ]
     },
     "execution_count": 16,
     "metadata": {},
     "output_type": "execute_result"
    }
   ],
   "source": [
    "complex_1,complex_2=3.14j, 2+1.2j\n",
    "complex_2+complex_1"
   ]
  },
  {
   "cell_type": "markdown",
   "id": "bdccc1f2",
   "metadata": {},
   "source": [
    "# String"
   ]
  },
  {
   "cell_type": "code",
   "execution_count": 17,
   "id": "c5f7bfd8",
   "metadata": {},
   "outputs": [
    {
     "data": {
      "text/plain": [
       "'abcdefghij'"
      ]
     },
     "execution_count": 17,
     "metadata": {},
     "output_type": "execute_result"
    }
   ],
   "source": [
    "str=\"abcdefghij\"\n",
    "str"
   ]
  },
  {
   "cell_type": "code",
   "execution_count": 18,
   "id": "b2830d85",
   "metadata": {},
   "outputs": [
    {
     "name": "stdout",
     "output_type": "stream",
     "text": [
      "abcdefghij\n",
      "a\n",
      "abc\n",
      "bcd\n",
      "h\n"
     ]
    }
   ],
   "source": [
    "### indexing and Slicing\n",
    "print(str)       # 0123456789\n",
    "print(str[0])    # 0\n",
    "print(str[0:3])  # 012\n",
    "print(str[1:4])  # 123\n",
    "print(str[-3])   # 7"
   ]
  },
  {
   "cell_type": "code",
   "execution_count": 19,
   "id": "7c1be4ff",
   "metadata": {},
   "outputs": [
    {
     "data": {
      "text/plain": [
       "'Hello Hello Hello '"
      ]
     },
     "execution_count": 19,
     "metadata": {},
     "output_type": "execute_result"
    }
   ],
   "source": [
    "str=\"Hello \"\n",
    "str+str+str"
   ]
  },
  {
   "cell_type": "code",
   "execution_count": 20,
   "id": "04d80ffc",
   "metadata": {},
   "outputs": [
    {
     "name": "stdout",
     "output_type": "stream",
     "text": [
      "The t-statistics value is 0.45601, so the pvalue is 0.002\n"
     ]
    }
   ],
   "source": [
    "tstat=0.456005498\n",
    "pval=0.002\n",
    "print(\"The t-statistics value is %.5f, so the pvalue is %.3f\"%(tstat,pval))"
   ]
  },
  {
   "cell_type": "markdown",
   "id": "e7fef893",
   "metadata": {},
   "source": [
    "# Lists"
   ]
  },
  {
   "cell_type": "code",
   "execution_count": 21,
   "id": "0d24a750",
   "metadata": {},
   "outputs": [
    {
     "data": {
      "text/plain": [
       "['Manoj', 816, 2009, 'Asst Prof', [2, 3, 4]]"
      ]
     },
     "execution_count": 21,
     "metadata": {},
     "output_type": "execute_result"
    }
   ],
   "source": [
    "list=[\"Manoj\",816,2009,\"Asst Prof\",[2,3,4]]\n",
    "list"
   ]
  },
  {
   "cell_type": "code",
   "execution_count": 22,
   "id": "da90c5ae",
   "metadata": {},
   "outputs": [
    {
     "data": {
      "text/plain": [
       "2"
      ]
     },
     "execution_count": 22,
     "metadata": {},
     "output_type": "execute_result"
    }
   ],
   "source": [
    "list2=[list, 23.6]\n",
    "len(list2)"
   ]
  },
  {
   "cell_type": "code",
   "execution_count": 23,
   "id": "622166d4",
   "metadata": {},
   "outputs": [
    {
     "data": {
      "text/plain": [
       "'Asst Prof'"
      ]
     },
     "execution_count": 23,
     "metadata": {},
     "output_type": "execute_result"
    }
   ],
   "source": [
    "list[-2]"
   ]
  },
  {
   "cell_type": "code",
   "execution_count": 24,
   "id": "44e6348e",
   "metadata": {},
   "outputs": [
    {
     "data": {
      "text/plain": [
       "15"
      ]
     },
     "execution_count": 24,
     "metadata": {},
     "output_type": "execute_result"
    }
   ],
   "source": [
    "list+list\n",
    "len(list*3)"
   ]
  },
  {
   "cell_type": "markdown",
   "id": "be438c29",
   "metadata": {},
   "source": [
    "# Oprations on List"
   ]
  },
  {
   "cell_type": "code",
   "execution_count": 25,
   "id": "10c2006b",
   "metadata": {},
   "outputs": [
    {
     "name": "stdout",
     "output_type": "stream",
     "text": [
      "6\n",
      "2\n",
      "[2, 4, 5, 6, 2, 3, 5]\n",
      "11\n",
      "None\n"
     ]
    }
   ],
   "source": [
    "List1=[2,4,5,6,2,3]\n",
    "print(max(List1))\n",
    "print(min(List1))\n",
    "List1.append(5)\n",
    "print(List1)\n",
    "List1.extend([5,8,9,0])\n",
    "print(len(List1))\n",
    "List1=List1.sort()\n",
    "print(List1)"
   ]
  },
  {
   "cell_type": "code",
   "execution_count": 26,
   "id": "276b0792",
   "metadata": {},
   "outputs": [
    {
     "data": {
      "text/plain": [
       "['Rajaa', 816, 2009, 'Asst Prof', [2, 3, 4]]"
      ]
     },
     "execution_count": 26,
     "metadata": {},
     "output_type": "execute_result"
    }
   ],
   "source": [
    "list\n",
    "list[0]=\"Rajaa\"\n",
    "list"
   ]
  },
  {
   "cell_type": "markdown",
   "id": "4992a965",
   "metadata": {},
   "source": [
    "# Tuples"
   ]
  },
  {
   "cell_type": "code",
   "execution_count": 27,
   "id": "c8353c3a",
   "metadata": {},
   "outputs": [
    {
     "data": {
      "text/plain": [
       "('Manoj', 23, 1.2)"
      ]
     },
     "execution_count": 27,
     "metadata": {},
     "output_type": "execute_result"
    }
   ],
   "source": [
    "tuple1=('Manoj',23,1.2)\n",
    "tuple1"
   ]
  },
  {
   "cell_type": "code",
   "execution_count": 28,
   "id": "072ac3a3",
   "metadata": {},
   "outputs": [],
   "source": [
    "#tuple1[1]=32"
   ]
  },
  {
   "cell_type": "code",
   "execution_count": 29,
   "id": "a4d0bb45",
   "metadata": {},
   "outputs": [
    {
     "data": {
      "text/plain": [
       "('Manoj', 23, 1.2, 'Manoj', 23, 1.2)"
      ]
     },
     "execution_count": 29,
     "metadata": {},
     "output_type": "execute_result"
    }
   ],
   "source": [
    "tuple1*2"
   ]
  },
  {
   "cell_type": "markdown",
   "id": "abcac96a",
   "metadata": {},
   "source": [
    "# Dictionary"
   ]
  },
  {
   "cell_type": "code",
   "execution_count": 30,
   "id": "07bd2cc9",
   "metadata": {},
   "outputs": [
    {
     "data": {
      "text/plain": [
       "{'name': 'Manoj', 'Age': 35, 'Edu': 'Stats'}"
      ]
     },
     "execution_count": 30,
     "metadata": {},
     "output_type": "execute_result"
    }
   ],
   "source": [
    "dict1={'name':\"Manoj\",'Age':35,\"Edu\":\"Stats\"}\n",
    "dict1"
   ]
  },
  {
   "cell_type": "code",
   "execution_count": 31,
   "id": "0abeee23",
   "metadata": {},
   "outputs": [
    {
     "data": {
      "text/plain": [
       "'Manoj'"
      ]
     },
     "execution_count": 31,
     "metadata": {},
     "output_type": "execute_result"
    }
   ],
   "source": [
    "dict1['name']"
   ]
  },
  {
   "cell_type": "code",
   "execution_count": 33,
   "id": "4cd4c2fb",
   "metadata": {},
   "outputs": [],
   "source": [
    "# dict1[1]"
   ]
  },
  {
   "cell_type": "code",
   "execution_count": 32,
   "id": "ebb234ec",
   "metadata": {},
   "outputs": [
    {
     "data": {
      "text/plain": [
       "'Stats'"
      ]
     },
     "execution_count": 32,
     "metadata": {},
     "output_type": "execute_result"
    }
   ],
   "source": [
    "dict1['Edu']"
   ]
  },
  {
   "cell_type": "code",
   "execution_count": 34,
   "id": "4612ea8d",
   "metadata": {},
   "outputs": [
    {
     "data": {
      "text/plain": [
       "['Manoj', 35, 'stat']"
      ]
     },
     "execution_count": 34,
     "metadata": {},
     "output_type": "execute_result"
    }
   ],
   "source": [
    "list1=[\"Manoj\",35,'stat']\n",
    "list1"
   ]
  },
  {
   "cell_type": "code",
   "execution_count": 35,
   "id": "6b9683ab",
   "metadata": {},
   "outputs": [
    {
     "data": {
      "text/plain": [
       "[3, 1, 2, 2, 4, 2, 3]"
      ]
     },
     "execution_count": 35,
     "metadata": {},
     "output_type": "execute_result"
    }
   ],
   "source": [
    "list2=[3,1,2]\n",
    "list2+=[2,4,2,3]\n",
    "list2"
   ]
  },
  {
   "cell_type": "code",
   "execution_count": 36,
   "id": "1f89af6b",
   "metadata": {},
   "outputs": [],
   "source": [
    "set1=set(list2)"
   ]
  },
  {
   "cell_type": "code",
   "execution_count": 37,
   "id": "b37ac2c4",
   "metadata": {},
   "outputs": [
    {
     "data": {
      "text/plain": [
       "{1, 2, 3, 4}"
      ]
     },
     "execution_count": 37,
     "metadata": {},
     "output_type": "execute_result"
    }
   ],
   "source": [
    "set1"
   ]
  },
  {
   "cell_type": "code",
   "execution_count": 38,
   "id": "4f687943",
   "metadata": {},
   "outputs": [],
   "source": [
    "#set1[1]"
   ]
  },
  {
   "cell_type": "markdown",
   "id": "a7384f6c",
   "metadata": {},
   "source": [
    "# Operators\n",
    "\n",
    "    Arithmatic +, - , *, /, %, //, **\n",
    "\n",
    "    Comparison < > == !=, <=, >=\n",
    "\n",
    "    Assignment =, -=, +=, *=, /=, //=, %=, **=\n",
    "\n",
    "    Logical and &&, or |, not !\n",
    "\n",
    "    Boolean &, |, ^, ~"
   ]
  },
  {
   "cell_type": "code",
   "execution_count": 39,
   "id": "f529c0c2",
   "metadata": {},
   "outputs": [],
   "source": [
    "x,y=2,3"
   ]
  },
  {
   "cell_type": "code",
   "execution_count": 40,
   "id": "ca88fb7e",
   "metadata": {},
   "outputs": [
    {
     "data": {
      "text/plain": [
       "8"
      ]
     },
     "execution_count": 40,
     "metadata": {},
     "output_type": "execute_result"
    }
   ],
   "source": [
    "x**y"
   ]
  },
  {
   "cell_type": "code",
   "execution_count": 41,
   "id": "d9e2f87b",
   "metadata": {},
   "outputs": [
    {
     "data": {
      "text/plain": [
       "False"
      ]
     },
     "execution_count": 41,
     "metadata": {},
     "output_type": "execute_result"
    }
   ],
   "source": [
    "x==y"
   ]
  },
  {
   "cell_type": "code",
   "execution_count": 42,
   "id": "8240dced",
   "metadata": {},
   "outputs": [
    {
     "data": {
      "text/plain": [
       "True"
      ]
     },
     "execution_count": 42,
     "metadata": {},
     "output_type": "execute_result"
    }
   ],
   "source": [
    "x!=y"
   ]
  },
  {
   "cell_type": "code",
   "execution_count": 43,
   "id": "36757f46",
   "metadata": {},
   "outputs": [],
   "source": [
    "#x<>y"
   ]
  },
  {
   "cell_type": "markdown",
   "id": "eb2b1956",
   "metadata": {},
   "source": [
    "# Some Functions"
   ]
  },
  {
   "cell_type": "code",
   "execution_count": 44,
   "id": "5cc6bb10",
   "metadata": {},
   "outputs": [
    {
     "data": {
      "text/plain": [
       "34.563529645"
      ]
     },
     "execution_count": 44,
     "metadata": {},
     "output_type": "execute_result"
    }
   ],
   "source": [
    "x=-34.563529645\n",
    "abs(x)"
   ]
  },
  {
   "cell_type": "code",
   "execution_count": 45,
   "id": "215a31f3",
   "metadata": {},
   "outputs": [
    {
     "data": {
      "text/plain": [
       "6.0"
      ]
     },
     "execution_count": 45,
     "metadata": {},
     "output_type": "execute_result"
    }
   ],
   "source": [
    "import numpy \n",
    "y=5.6\n",
    "numpy.ceil(y)"
   ]
  },
  {
   "cell_type": "code",
   "execution_count": 46,
   "id": "38a715f2",
   "metadata": {},
   "outputs": [
    {
     "data": {
      "text/plain": [
       "49.0"
      ]
     },
     "execution_count": 46,
     "metadata": {},
     "output_type": "execute_result"
    }
   ],
   "source": [
    "import numpy as np\n",
    "x=48.6\n",
    "np.ceil(x)"
   ]
  },
  {
   "cell_type": "code",
   "execution_count": 47,
   "id": "a8136685",
   "metadata": {},
   "outputs": [
    {
     "data": {
      "text/plain": [
       "20.085536923187668"
      ]
     },
     "execution_count": 47,
     "metadata": {},
     "output_type": "execute_result"
    }
   ],
   "source": [
    "np.exp(3)"
   ]
  },
  {
   "cell_type": "markdown",
   "id": "ebaa40dc",
   "metadata": {},
   "source": [
    "#                      Numpy Tutorial"
   ]
  },
  {
   "cell_type": "markdown",
   "id": "b32579bc",
   "metadata": {},
   "source": [
    "Import Numpy"
   ]
  },
  {
   "cell_type": "code",
   "execution_count": 48,
   "id": "f4ff3a4d",
   "metadata": {},
   "outputs": [],
   "source": [
    "#!pip install numpy\n",
    "import numpy as np"
   ]
  },
  {
   "cell_type": "markdown",
   "id": "7b9d2e52",
   "metadata": {},
   "source": [
    "# Check Python and Numpy Version"
   ]
  },
  {
   "cell_type": "code",
   "execution_count": 49,
   "id": "62e652eb",
   "metadata": {},
   "outputs": [
    {
     "name": "stdout",
     "output_type": "stream",
     "text": [
      "Python version: 3.9.7\n",
      "Numpy version: 1.20.3\n"
     ]
    }
   ],
   "source": [
    "import platform\n",
    "print('Python version: ' + platform.python_version())\n",
    "print('Numpy version: ' + np.__version__)"
   ]
  },
  {
   "cell_type": "markdown",
   "id": "3658ad9c",
   "metadata": {},
   "source": [
    "Numpy Data Types"
   ]
  },
  {
   "cell_type": "markdown",
   "id": "f39bdaca",
   "metadata": {},
   "source": [
    "A list of Numpy Data Types"
   ]
  },
  {
   "cell_type": "code",
   "execution_count": 50,
   "id": "afdf8e71",
   "metadata": {},
   "outputs": [
    {
     "data": {
      "text/html": [
       "<div>\n",
       "<style scoped>\n",
       "    .dataframe tbody tr th:only-of-type {\n",
       "        vertical-align: middle;\n",
       "    }\n",
       "\n",
       "    .dataframe tbody tr th {\n",
       "        vertical-align: top;\n",
       "    }\n",
       "\n",
       "    .dataframe thead th {\n",
       "        text-align: right;\n",
       "    }\n",
       "</style>\n",
       "<table border=\"1\" class=\"dataframe\">\n",
       "  <thead>\n",
       "    <tr style=\"text-align: right;\">\n",
       "      <th></th>\n",
       "      <th>Type</th>\n",
       "      <th>Type Code</th>\n",
       "    </tr>\n",
       "  </thead>\n",
       "  <tbody>\n",
       "    <tr>\n",
       "      <th>0</th>\n",
       "      <td>int8</td>\n",
       "      <td>i1</td>\n",
       "    </tr>\n",
       "    <tr>\n",
       "      <th>1</th>\n",
       "      <td>uint8</td>\n",
       "      <td>u1</td>\n",
       "    </tr>\n",
       "    <tr>\n",
       "      <th>2</th>\n",
       "      <td>int16</td>\n",
       "      <td>i2</td>\n",
       "    </tr>\n",
       "    <tr>\n",
       "      <th>3</th>\n",
       "      <td>uint16</td>\n",
       "      <td>u2</td>\n",
       "    </tr>\n",
       "    <tr>\n",
       "      <th>4</th>\n",
       "      <td>int32</td>\n",
       "      <td>i4</td>\n",
       "    </tr>\n",
       "    <tr>\n",
       "      <th>5</th>\n",
       "      <td>uint32</td>\n",
       "      <td>u4</td>\n",
       "    </tr>\n",
       "    <tr>\n",
       "      <th>6</th>\n",
       "      <td>int64</td>\n",
       "      <td>i8</td>\n",
       "    </tr>\n",
       "    <tr>\n",
       "      <th>7</th>\n",
       "      <td>uint64</td>\n",
       "      <td>u8</td>\n",
       "    </tr>\n",
       "    <tr>\n",
       "      <th>8</th>\n",
       "      <td>float16</td>\n",
       "      <td>f2</td>\n",
       "    </tr>\n",
       "    <tr>\n",
       "      <th>9</th>\n",
       "      <td>float32</td>\n",
       "      <td>f4 or f</td>\n",
       "    </tr>\n",
       "    <tr>\n",
       "      <th>10</th>\n",
       "      <td>float64</td>\n",
       "      <td>f8 or d</td>\n",
       "    </tr>\n",
       "    <tr>\n",
       "      <th>11</th>\n",
       "      <td>float128</td>\n",
       "      <td>f16 or g</td>\n",
       "    </tr>\n",
       "    <tr>\n",
       "      <th>12</th>\n",
       "      <td>complex64</td>\n",
       "      <td>c8</td>\n",
       "    </tr>\n",
       "    <tr>\n",
       "      <th>13</th>\n",
       "      <td>complex128</td>\n",
       "      <td>c16</td>\n",
       "    </tr>\n",
       "    <tr>\n",
       "      <th>14</th>\n",
       "      <td>bool</td>\n",
       "      <td></td>\n",
       "    </tr>\n",
       "    <tr>\n",
       "      <th>15</th>\n",
       "      <td>object</td>\n",
       "      <td>O</td>\n",
       "    </tr>\n",
       "    <tr>\n",
       "      <th>16</th>\n",
       "      <td>string_</td>\n",
       "      <td>S</td>\n",
       "    </tr>\n",
       "    <tr>\n",
       "      <th>17</th>\n",
       "      <td>unicode_</td>\n",
       "      <td>U</td>\n",
       "    </tr>\n",
       "  </tbody>\n",
       "</table>\n",
       "</div>"
      ],
      "text/plain": [
       "          Type Type Code\n",
       "0         int8        i1\n",
       "1        uint8        u1\n",
       "2        int16        i2\n",
       "3       uint16        u2\n",
       "4        int32        i4\n",
       "5       uint32        u4\n",
       "6        int64        i8\n",
       "7       uint64        u8\n",
       "8      float16        f2\n",
       "9      float32   f4 or f\n",
       "10     float64   f8 or d\n",
       "11    float128  f16 or g\n",
       "12   complex64        c8\n",
       "13  complex128       c16\n",
       "14        bool          \n",
       "15      object         O\n",
       "16     string_         S\n",
       "17    unicode_         U"
      ]
     },
     "execution_count": 50,
     "metadata": {},
     "output_type": "execute_result"
    }
   ],
   "source": [
    "import pandas as pd\n",
    "dtypes = pd.DataFrame({'Type': ['int8', 'uint8', 'int16', 'uint16', 'int32', 'uint32', 'int64', 'uint64', 'float16', 'float32', 'float64', 'float128', 'complex64', 'complex128', 'bool', 'object', 'string_', 'unicode_'],\n",
    "        'Type Code': ['i1', 'u1', 'i2', 'u2', 'i4', 'u4', 'i8', 'u8', 'f2', 'f4 or f', 'f8 or d', 'f16 or g', 'c8', 'c16', '', 'O', 'S', 'U']})\n",
    "dtypes"
   ]
  },
  {
   "cell_type": "markdown",
   "id": "b2c65cd4",
   "metadata": {},
   "source": [
    "# Create an array with a specified data type"
   ]
  },
  {
   "cell_type": "code",
   "execution_count": 51,
   "id": "8e177382",
   "metadata": {},
   "outputs": [
    {
     "name": "stdout",
     "output_type": "stream",
     "text": [
      "The datatype of  [1.  2.  3.2]  is  float16\n"
     ]
    }
   ],
   "source": [
    "arr = np.array([1,2,3.2],dtype='f2')\n",
    "print(\"The datatype of \",arr,\" is \",arr.dtype)"
   ]
  },
  {
   "cell_type": "code",
   "execution_count": 52,
   "id": "639451e7",
   "metadata": {},
   "outputs": [
    {
     "name": "stdout",
     "output_type": "stream",
     "text": [
      "The datatype of  [1.+2.j 3.-4.j]  is  complex64\n"
     ]
    }
   ],
   "source": [
    "arr = np.array([1+2j, 3-4j], dtype=np.complex64)\n",
    "print(\"The datatype of \",arr,\" is \",arr.dtype)"
   ]
  },
  {
   "cell_type": "code",
   "execution_count": 53,
   "id": "711ca7b2",
   "metadata": {},
   "outputs": [
    {
     "name": "stdout",
     "output_type": "stream",
     "text": [
      "The datatype of  [False  True  True]  is  bool\n"
     ]
    }
   ],
   "source": [
    "arr = np.array([0, 1, 1], dtype=bool)\n",
    "print(\"The datatype of \",arr,\" is \",arr.dtype)"
   ]
  },
  {
   "cell_type": "markdown",
   "id": "6c687d64",
   "metadata": {},
   "source": [
    "# String data type\n",
    "\n",
    "Set the max length of the string using S + some number, such as 'S3' any string longer than the max length will be truncated\n"
   ]
  },
  {
   "cell_type": "code",
   "execution_count": 54,
   "id": "5d548644",
   "metadata": {},
   "outputs": [
    {
     "name": "stdout",
     "output_type": "stream",
     "text": [
      "The datatype of  [b'abc' b'defg']  is  |S4\n"
     ]
    }
   ],
   "source": [
    "s = np.array(['abc', 'defg'], dtype='S4')\n",
    "print(\"The datatype of \",s,\" is \",s.dtype)"
   ]
  },
  {
   "cell_type": "markdown",
   "id": "3cf5c9f5",
   "metadata": {},
   "source": [
    "# Create Arrays\n",
    "\n",
    "Create an Array From A Python Array"
   ]
  },
  {
   "cell_type": "code",
   "execution_count": 55,
   "id": "6d1d85d5",
   "metadata": {},
   "outputs": [
    {
     "name": "stdout",
     "output_type": "stream",
     "text": [
      "[1 3 5 7 9]\n"
     ]
    }
   ],
   "source": [
    "arr = np.array(range(1,10,2))\n",
    "print(arr)"
   ]
  },
  {
   "cell_type": "code",
   "execution_count": 56,
   "id": "79c3dab6",
   "metadata": {},
   "outputs": [
    {
     "name": "stdout",
     "output_type": "stream",
     "text": [
      "[1 2 3 4 5]\n"
     ]
    }
   ],
   "source": [
    "arr = np.array([1,2,3,4,5])\n",
    "print(arr)"
   ]
  },
  {
   "cell_type": "markdown",
   "id": "1aa47afa",
   "metadata": {},
   "source": [
    "# Create an Array in a Specified Data Type"
   ]
  },
  {
   "cell_type": "code",
   "execution_count": 57,
   "id": "1fb90a59",
   "metadata": {},
   "outputs": [
    {
     "name": "stdout",
     "output_type": "stream",
     "text": [
      "[[1 2 3]\n",
      " [4 5 6]]\n"
     ]
    }
   ],
   "source": [
    "arr = np.array([[1,2,3], [4,5,6]], dtype='i2')\n",
    "print(arr)"
   ]
  },
  {
   "cell_type": "markdown",
   "id": "20cc1d76",
   "metadata": {},
   "source": [
    "# Create An Array Of Evenly Spaced Values Within A Specified Interval"
   ]
  },
  {
   "cell_type": "code",
   "execution_count": 58,
   "id": "628c2426",
   "metadata": {},
   "outputs": [
    {
     "name": "stdout",
     "output_type": "stream",
     "text": [
      "[ 0  2  4  6  8 10 12 14 16 18]\n"
     ]
    }
   ],
   "source": [
    "arr = np.arange(0, 20, 2)  # np.arange(start, stop, step)\n",
    "print(arr)"
   ]
  },
  {
   "cell_type": "markdown",
   "id": "a2b46d6e",
   "metadata": {},
   "source": [
    "# Create An Array Of Evenly Spaced Numbers In A Specified Interval"
   ]
  },
  {
   "cell_type": "code",
   "execution_count": 59,
   "id": "c988d2b4",
   "metadata": {},
   "outputs": [
    {
     "name": "stdout",
     "output_type": "stream",
     "text": [
      "[ 0.  5. 10.]\n"
     ]
    }
   ],
   "source": [
    "# np.linspace(start, stop, num_of_elements, endpoint=True, retstep=False) \n",
    "arr = np.linspace(0, 10, 3)\n",
    "print(arr)"
   ]
  },
  {
   "cell_type": "code",
   "execution_count": 60,
   "id": "c59fae91",
   "metadata": {},
   "outputs": [
    {
     "name": "stdout",
     "output_type": "stream",
     "text": [
      "array:  [0. 2. 4. 6. 8.]\n",
      "step : 2.0\n"
     ]
    }
   ],
   "source": [
    "# exclude endpoint and return step size\n",
    "arr, step = np.linspace(0, 10, 5, endpoint=False, retstep=True)\n",
    "print(\"array: \",arr)\n",
    "print(\"step :\",step)"
   ]
  },
  {
   "cell_type": "markdown",
   "id": "55b95672",
   "metadata": {},
   "source": [
    "# Create An Array Of Random Values In A Given Shape"
   ]
  },
  {
   "cell_type": "code",
   "execution_count": 61,
   "id": "7119c528",
   "metadata": {},
   "outputs": [
    {
     "name": "stdout",
     "output_type": "stream",
     "text": [
      "[[0.98710165 0.31965317 0.36703614]\n",
      " [0.12110528 0.89896295 0.14149117]]\n"
     ]
    }
   ],
   "source": [
    "arr = np.random.rand(2, 3)\n",
    "print(arr)"
   ]
  },
  {
   "cell_type": "markdown",
   "id": "bf558548",
   "metadata": {},
   "source": [
    "# Create an Array of Zeros in a Given Shape"
   ]
  },
  {
   "cell_type": "code",
   "execution_count": 63,
   "id": "ec817a50",
   "metadata": {},
   "outputs": [
    {
     "name": "stdout",
     "output_type": "stream",
     "text": [
      "[[0. 0. 0.]\n",
      " [0. 0. 0.]]\n"
     ]
    }
   ],
   "source": [
    "zeros = np.zeros((2,3))\n",
    "print(zeros)"
   ]
  },
  {
   "cell_type": "markdown",
   "id": "067a67b6",
   "metadata": {},
   "source": [
    "# Create An Array Of Zeros With The Same Shape And Data Type As A Given Array"
   ]
  },
  {
   "cell_type": "code",
   "execution_count": 64,
   "id": "54f786b1",
   "metadata": {},
   "outputs": [
    {
     "name": "stdout",
     "output_type": "stream",
     "text": [
      "[[0 0 0 0]\n",
      " [0 0 0 0]]\n"
     ]
    }
   ],
   "source": [
    "zeros = np.zeros_like(np.array([[1,2,3,4],[3,4,5,6]]))\n",
    "print(zeros)"
   ]
  },
  {
   "cell_type": "markdown",
   "id": "b818fac9",
   "metadata": {},
   "source": [
    "# Create An Array Of Ones In A Given Shape"
   ]
  },
  {
   "cell_type": "code",
   "execution_count": 65,
   "id": "0374173a",
   "metadata": {},
   "outputs": [
    {
     "name": "stdout",
     "output_type": "stream",
     "text": [
      "[[1. 1. 1.]\n",
      " [1. 1. 1.]]\n"
     ]
    }
   ],
   "source": [
    "ones = np.ones((2,3))\n",
    "print(ones)"
   ]
  },
  {
   "cell_type": "markdown",
   "id": "42824571",
   "metadata": {},
   "source": [
    "# Create an array of ones with the same shape and data type as a given array"
   ]
  },
  {
   "cell_type": "code",
   "execution_count": 66,
   "id": "2d2993b7",
   "metadata": {},
   "outputs": [
    {
     "name": "stdout",
     "output_type": "stream",
     "text": [
      "[[1. 1. 1.]\n",
      " [1. 1. 1.]]\n"
     ]
    }
   ],
   "source": [
    "ones = np.ones_like(arr)\n",
    "print(ones)"
   ]
  },
  {
   "cell_type": "markdown",
   "id": "d19e4051",
   "metadata": {},
   "source": [
    "# Create an array of arbitrary values in a given shape"
   ]
  },
  {
   "cell_type": "code",
   "execution_count": 67,
   "id": "15d2c388",
   "metadata": {},
   "outputs": [
    {
     "name": "stdout",
     "output_type": "stream",
     "text": [
      "[[1. 1. 1.]\n",
      " [1. 1. 1.]]\n"
     ]
    }
   ],
   "source": [
    "empty1 = np.empty((2,3))\n",
    "print(empty1)"
   ]
  },
  {
   "cell_type": "markdown",
   "id": "19aec40c",
   "metadata": {},
   "source": [
    "# Create an array of arbitrary values with the same shape and data type as a given array"
   ]
  },
  {
   "cell_type": "code",
   "execution_count": 68,
   "id": "e41e4b14",
   "metadata": {},
   "outputs": [
    {
     "name": "stdout",
     "output_type": "stream",
     "text": [
      "[[1. 1. 1.]\n",
      " [1. 1. 1.]]\n"
     ]
    }
   ],
   "source": [
    "empty = np.empty_like(arr)\n",
    "print(empty)"
   ]
  },
  {
   "cell_type": "markdown",
   "id": "5f8c606d",
   "metadata": {},
   "source": [
    "# Create an array of constant values in a given shape"
   ]
  },
  {
   "cell_type": "code",
   "execution_count": 69,
   "id": "87db9c19",
   "metadata": {},
   "outputs": [
    {
     "name": "stdout",
     "output_type": "stream",
     "text": [
      "[[5 5 5]\n",
      " [5 5 5]]\n"
     ]
    }
   ],
   "source": [
    "p = np.full((2,3), 5)\n",
    "print(p)"
   ]
  },
  {
   "cell_type": "markdown",
   "id": "46848374",
   "metadata": {},
   "source": [
    "# Create an array of constant values with the same shape and data type as a given array"
   ]
  },
  {
   "cell_type": "code",
   "execution_count": 70,
   "id": "20568d84",
   "metadata": {},
   "outputs": [
    {
     "name": "stdout",
     "output_type": "stream",
     "text": [
      "[[5. 5. 5.]\n",
      " [5. 5. 5.]]\n"
     ]
    }
   ],
   "source": [
    "p = np.full_like(arr, 5)\n",
    "print(p)"
   ]
  },
  {
   "cell_type": "markdown",
   "id": "9d182d16",
   "metadata": {},
   "source": [
    "# Create an array by repetition\n",
    "\n",
    "Repeat each element of an array by a specified number of times\n"
   ]
  },
  {
   "cell_type": "code",
   "execution_count": 71,
   "id": "392d50ef",
   "metadata": {},
   "outputs": [
    {
     "name": "stdout",
     "output_type": "stream",
     "text": [
      "[[0 1 2]\n",
      " [3 4 5]]\n",
      "[[0 1 2]\n",
      " [3 4 5]\n",
      " [3 4 5]]\n"
     ]
    },
    {
     "data": {
      "text/plain": [
       "numpy.ndarray"
      ]
     },
     "execution_count": 71,
     "metadata": {},
     "output_type": "execute_result"
    }
   ],
   "source": [
    "# np.repeat(iterable, reps, axis=None)\n",
    "arr = np.array([[0, 1, 2],[3,4,5]])\n",
    "print(arr)\n",
    "print(np.repeat(arr, [1,2],axis=0))    # or np.repeat(range(3), 3)\n",
    "type(arr)"
   ]
  },
  {
   "cell_type": "markdown",
   "id": "72b8a53c",
   "metadata": {},
   "source": [
    "# Repeat along a specified axis with specified number of repetitions."
   ]
  },
  {
   "cell_type": "code",
   "execution_count": 73,
   "id": "536d7ae1",
   "metadata": {},
   "outputs": [
    {
     "name": "stdout",
     "output_type": "stream",
     "text": [
      "[[1 2 2]\n",
      " [3 4 4]]\n"
     ]
    }
   ],
   "source": [
    "arr = [[1,2], [3,4]]\n",
    "print(np.repeat(arr, [1,2], axis=1))"
   ]
  },
  {
   "cell_type": "markdown",
   "id": "34eec22d",
   "metadata": {},
   "source": [
    "# Repeat an array by a specified number of times"
   ]
  },
  {
   "cell_type": "code",
   "execution_count": 74,
   "id": "24036342",
   "metadata": {},
   "outputs": [
    {
     "name": "stdout",
     "output_type": "stream",
     "text": [
      "[[0 1 2 0 1 2 0 1 2]\n",
      " [0 1 2 0 1 2 0 1 2]]\n"
     ]
    }
   ],
   "source": [
    "arr = [0, 1, 2]\n",
    "print(np.tile(arr,(2,3)))"
   ]
  },
  {
   "cell_type": "code",
   "execution_count": 75,
   "id": "edd6305b",
   "metadata": {},
   "outputs": [
    {
     "name": "stdout",
     "output_type": "stream",
     "text": [
      "[[0 1 2 0 1 2]\n",
      " [0 1 2 0 1 2]]\n"
     ]
    }
   ],
   "source": [
    "# repeat along specified axes\n",
    "print(np.tile(arr, (2,2)))"
   ]
  },
  {
   "cell_type": "markdown",
   "id": "ffcd6556",
   "metadata": {},
   "source": [
    "# create an identity matrix with a given diagonal size"
   ]
  },
  {
   "cell_type": "code",
   "execution_count": 76,
   "id": "b6e74d8f",
   "metadata": {},
   "outputs": [
    {
     "name": "stdout",
     "output_type": "stream",
     "text": [
      "[[1. 0. 0.]\n",
      " [0. 1. 0.]\n",
      " [0. 0. 1.]]\n"
     ]
    }
   ],
   "source": [
    "identity_matrix = np.eye(3)\n",
    "print(identity_matrix)"
   ]
  },
  {
   "cell_type": "code",
   "execution_count": 77,
   "id": "85e2461b",
   "metadata": {},
   "outputs": [
    {
     "name": "stdout",
     "output_type": "stream",
     "text": [
      "[[1. 0. 0.]\n",
      " [0. 1. 0.]\n",
      " [0. 0. 1.]]\n"
     ]
    }
   ],
   "source": [
    "identity_matrix = np.identity(3)\n",
    "print(identity_matrix)"
   ]
  },
  {
   "cell_type": "markdown",
   "id": "6a8819c5",
   "metadata": {},
   "source": [
    "# Create an identity matrix with a diagonal offset"
   ]
  },
  {
   "cell_type": "code",
   "execution_count": 260,
   "id": "7ba3dbec",
   "metadata": {},
   "outputs": [
    {
     "name": "stdout",
     "output_type": "stream",
     "text": [
      "[[0. 1. 0. 0. 0.]\n",
      " [0. 0. 1. 0. 0.]\n",
      " [0. 0. 0. 1. 0.]\n",
      " [0. 0. 0. 0. 1.]\n",
      " [0. 0. 0. 0. 0.]]\n"
     ]
    }
   ],
   "source": [
    "identity_matrix = np.eye(5, k=1)    # positive number shifts the diagonal upward\n",
    "print(identity_matrix)"
   ]
  },
  {
   "cell_type": "code",
   "execution_count": 79,
   "id": "0d9e688b",
   "metadata": {},
   "outputs": [
    {
     "name": "stdout",
     "output_type": "stream",
     "text": [
      "[[0. 0. 0. 0. 0.]\n",
      " [0. 0. 0. 0. 0.]\n",
      " [1. 0. 0. 0. 0.]\n",
      " [0. 1. 0. 0. 0.]\n",
      " [0. 0. 1. 0. 0.]]\n"
     ]
    }
   ],
   "source": [
    "identity_matrix = np.eye(5, k=-2)   # negative number shifts the diagonal downward\n",
    "print(identity_matrix)"
   ]
  },
  {
   "cell_type": "markdown",
   "id": "28a1f249",
   "metadata": {},
   "source": [
    "# Extract the diagonal array / create a diagonal array"
   ]
  },
  {
   "cell_type": "code",
   "execution_count": 80,
   "id": "462152cd",
   "metadata": {},
   "outputs": [
    {
     "name": "stdout",
     "output_type": "stream",
     "text": [
      "[[0.17845628 0.04522858 0.1731363  0.71552073]\n",
      " [0.74728047 0.83354046 0.40640678 0.54448897]\n",
      " [0.2279927  0.18544943 0.09331295 0.28249351]\n",
      " [0.04138785 0.45954829 0.38032347 0.47118742]]\n"
     ]
    }
   ],
   "source": [
    "arr = np.random.rand(4,4)\n",
    "print(arr)"
   ]
  },
  {
   "cell_type": "code",
   "execution_count": 81,
   "id": "9abbcd8c",
   "metadata": {},
   "outputs": [
    {
     "name": "stdout",
     "output_type": "stream",
     "text": [
      "[0.17845628 0.83354046 0.09331295 0.47118742]\n"
     ]
    }
   ],
   "source": [
    "print(np.diag(arr)) # extract the diagonal"
   ]
  },
  {
   "cell_type": "code",
   "execution_count": 82,
   "id": "3c72285a",
   "metadata": {},
   "outputs": [
    {
     "name": "stdout",
     "output_type": "stream",
     "text": [
      "[[1 0 0]\n",
      " [0 2 0]\n",
      " [0 0 3]]\n"
     ]
    }
   ],
   "source": [
    "arr = np.diag([1,2,3])    # create a matrix with a specified diagonal array\n",
    "print(arr)"
   ]
  },
  {
   "cell_type": "markdown",
   "id": "55f3c09f",
   "metadata": {},
   "source": [
    "# Inspect Arrays"
   ]
  },
  {
   "cell_type": "code",
   "execution_count": 83,
   "id": "afea317f",
   "metadata": {},
   "outputs": [],
   "source": [
    "arr = np.array([[1,2,3], [4,5,6]], dtype=np.int64)"
   ]
  },
  {
   "cell_type": "markdown",
   "id": "2221d271",
   "metadata": {},
   "source": [
    "# Inspect general information of an array"
   ]
  },
  {
   "cell_type": "code",
   "execution_count": 84,
   "id": "61490d6a",
   "metadata": {},
   "outputs": [
    {
     "name": "stdout",
     "output_type": "stream",
     "text": [
      "class:  ndarray\n",
      "shape:  (2, 3)\n",
      "strides:  (24, 8)\n",
      "itemsize:  8\n",
      "aligned:  True\n",
      "contiguous:  True\n",
      "fortran:  False\n",
      "data pointer: 0x225db00c7c0\n",
      "byteorder:  little\n",
      "byteswap:  False\n",
      "type: int64\n",
      "None\n"
     ]
    }
   ],
   "source": [
    "print(np.info(arr))"
   ]
  },
  {
   "cell_type": "markdown",
   "id": "5b4bc98d",
   "metadata": {},
   "source": [
    "# Inspect the data type of an array"
   ]
  },
  {
   "cell_type": "code",
   "execution_count": 85,
   "id": "0e05c356",
   "metadata": {},
   "outputs": [
    {
     "name": "stdout",
     "output_type": "stream",
     "text": [
      "int64\n"
     ]
    }
   ],
   "source": [
    "print(arr.dtype)"
   ]
  },
  {
   "cell_type": "markdown",
   "id": "ebab5d1d",
   "metadata": {},
   "source": [
    "# inspect the dimension of an array"
   ]
  },
  {
   "cell_type": "code",
   "execution_count": 86,
   "id": "aa385e25",
   "metadata": {},
   "outputs": [
    {
     "name": "stdout",
     "output_type": "stream",
     "text": [
      "2 3\n"
     ]
    }
   ],
   "source": [
    "nrow, ncol =arr.shape\n",
    "print(nrow, ncol)"
   ]
  },
  {
   "cell_type": "markdown",
   "id": "9de7d491",
   "metadata": {},
   "source": [
    "# Inspect length of an array"
   ]
  },
  {
   "cell_type": "code",
   "execution_count": 87,
   "id": "3e2b8b8a",
   "metadata": {},
   "outputs": [
    {
     "name": "stdout",
     "output_type": "stream",
     "text": [
      "2\n"
     ]
    }
   ],
   "source": [
    "print(len(arr))"
   ]
  },
  {
   "cell_type": "markdown",
   "id": "92a1ec24",
   "metadata": {},
   "source": [
    "# Inspect the number of dimensions of an array"
   ]
  },
  {
   "cell_type": "code",
   "execution_count": 88,
   "id": "e7007d3f",
   "metadata": {},
   "outputs": [
    {
     "name": "stdout",
     "output_type": "stream",
     "text": [
      "2\n"
     ]
    }
   ],
   "source": [
    "print(arr.ndim)"
   ]
  },
  {
   "cell_type": "markdown",
   "id": "58838b85",
   "metadata": {},
   "source": [
    "# Inspect the number of elements in an array"
   ]
  },
  {
   "cell_type": "code",
   "execution_count": 89,
   "id": "8e9dce9a",
   "metadata": {},
   "outputs": [
    {
     "name": "stdout",
     "output_type": "stream",
     "text": [
      "6\n"
     ]
    }
   ],
   "source": [
    "print(arr.size)"
   ]
  },
  {
   "cell_type": "markdown",
   "id": "343ea5f0",
   "metadata": {},
   "source": [
    "# Inspect the number of bytes of each element in an array"
   ]
  },
  {
   "cell_type": "code",
   "execution_count": 90,
   "id": "2bd3af78",
   "metadata": {},
   "outputs": [
    {
     "name": "stdout",
     "output_type": "stream",
     "text": [
      "8\n"
     ]
    }
   ],
   "source": [
    "print(arr.itemsize)"
   ]
  },
  {
   "cell_type": "markdown",
   "id": "c4734a9b",
   "metadata": {},
   "source": [
    "# Inspect the memory size of an array (in byte)"
   ]
  },
  {
   "cell_type": "code",
   "execution_count": 91,
   "id": "143dc1b2",
   "metadata": {},
   "outputs": [
    {
     "name": "stdout",
     "output_type": "stream",
     "text": [
      "48\n"
     ]
    }
   ],
   "source": [
    "# arr.nbytes = arr.size * arr.itemsize\n",
    "print(arr.nbytes)"
   ]
  },
  {
   "cell_type": "markdown",
   "id": "a1495fc6",
   "metadata": {},
   "source": [
    "# Sampling Methods\n",
    "\n",
    "Set seed"
   ]
  },
  {
   "cell_type": "code",
   "execution_count": 93,
   "id": "80330c6a",
   "metadata": {},
   "outputs": [],
   "source": [
    "np.random.seed(123)"
   ]
  },
  {
   "cell_type": "markdown",
   "id": "ba1d966e",
   "metadata": {},
   "source": [
    "# Generate a random sample from interval [0, 1) in a given shape"
   ]
  },
  {
   "cell_type": "code",
   "execution_count": 94,
   "id": "231226b1",
   "metadata": {},
   "outputs": [
    {
     "name": "stdout",
     "output_type": "stream",
     "text": [
      "0.6964691855978616\n"
     ]
    }
   ],
   "source": [
    "print(np.random.rand())   # generate a random scalar  "
   ]
  },
  {
   "cell_type": "code",
   "execution_count": 95,
   "id": "0032a84c",
   "metadata": {},
   "outputs": [
    {
     "name": "stdout",
     "output_type": "stream",
     "text": [
      "[[0.28613933 0.22685145 0.55131477]]\n"
     ]
    }
   ],
   "source": [
    "print(np.random.rand(1,3))        # generate a 1-D array"
   ]
  },
  {
   "cell_type": "code",
   "execution_count": 96,
   "id": "a4f3dbfe",
   "metadata": {},
   "outputs": [
    {
     "name": "stdout",
     "output_type": "stream",
     "text": [
      "[[0.71946897 0.42310646 0.9807642 ]\n",
      " [0.68482974 0.4809319  0.39211752]\n",
      " [0.34317802 0.72904971 0.43857224]]\n"
     ]
    }
   ],
   "source": [
    "print(np.random.rand(3,3))          # generate a 2-D array"
   ]
  },
  {
   "cell_type": "markdown",
   "id": "e5ac8b51",
   "metadata": {},
   "source": [
    "# Generate a sample from the standard normal distribution (mean = 0, var = 1)"
   ]
  },
  {
   "cell_type": "code",
   "execution_count": 97,
   "id": "3f0ae0e3",
   "metadata": {},
   "outputs": [
    {
     "name": "stdout",
     "output_type": "stream",
     "text": [
      "[[-0.14337247 -0.6191909  -0.76943347]\n",
      " [ 0.57674602  0.12652592 -1.30148897]\n",
      " [ 2.20742744  0.52274247  0.46564476]]\n"
     ]
    }
   ],
   "source": [
    "print(np.random.randn(3,3))"
   ]
  },
  {
   "cell_type": "markdown",
   "id": "c233bd3e",
   "metadata": {},
   "source": [
    "# Generate an array of random integers in a given interval [low, high)"
   ]
  },
  {
   "cell_type": "code",
   "execution_count": 98,
   "id": "c74c9091",
   "metadata": {},
   "outputs": [
    {
     "name": "stdout",
     "output_type": "stream",
     "text": [
      "[5 7 2 6 7 3 2 9 4 6 1 3 7 3 5 5 7 4 1 7 5 8 7 8 2 6 8 3 5 9]\n"
     ]
    }
   ],
   "source": [
    "# np.ranodm.randint(low, high, size, dtype)\n",
    "print(np.random.randint(1, 10, 30, 'i8'))"
   ]
  },
  {
   "cell_type": "markdown",
   "id": "bf62f1a1",
   "metadata": {},
   "source": [
    "# Generate an array of random floating-point numbers in the interval [0.0, 1.0)"
   ]
  },
  {
   "cell_type": "code",
   "execution_count": 99,
   "id": "d0500b1d",
   "metadata": {},
   "outputs": [
    {
     "name": "stdout",
     "output_type": "stream",
     "text": [
      "[0.12062867 0.8263408  0.60306013 0.54506801 0.34276383]\n",
      "[0.30412079 0.41702221 0.68130077 0.87545684 0.51042234]\n",
      "[0.66931378 0.58593655 0.6249035  0.67468905 0.84234244]\n",
      "[0.08319499 0.76368284 0.24366637 0.19422296 0.57245696]\n"
     ]
    }
   ],
   "source": [
    "# the following methods are the same as np.random.rand()\n",
    "print(np.random.random_sample(5))\n",
    "print(np.random.random(5))\n",
    "print(np.random.ranf(5))\n",
    "print(np.random.sample(5))"
   ]
  },
  {
   "cell_type": "markdown",
   "id": "f48ce653",
   "metadata": {},
   "source": [
    "# Sampling Discrete Distribution\n",
    "\n",
    "Generate a random sample from a given Discrete Distribution\n"
   ]
  },
  {
   "cell_type": "code",
   "execution_count": 100,
   "id": "a244e655",
   "metadata": {},
   "outputs": [
    {
     "name": "stdout",
     "output_type": "stream",
     "text": [
      "[0 2 2 2 0 2 2 1 1 2]\n"
     ]
    }
   ],
   "source": [
    "# np.random.choice(iterable_or_int, size, replace=True, p=weights)\n",
    "print(np.random.choice(range(4), 10, replace=True, p=[0.1, 0.4, 0.4,0.1]))"
   ]
  },
  {
   "cell_type": "code",
   "execution_count": 113,
   "id": "7c7a6361",
   "metadata": {},
   "outputs": [
    {
     "name": "stdout",
     "output_type": "stream",
     "text": [
      "['a' 'a' 'a' 'a' 'b' 'c' 'c' 'c' 'a' 'b']\n"
     ]
    }
   ],
   "source": [
    "print(np.random.choice(['a','b','c'], 10))"
   ]
  },
  {
   "cell_type": "code",
   "execution_count": 114,
   "id": "868b3f41",
   "metadata": {},
   "outputs": [
    {
     "name": "stdout",
     "output_type": "stream",
     "text": [
      "[3 1 1 1 3 2 3 3 3 1]\n"
     ]
    }
   ],
   "source": [
    "print(np.random.choice([1,2,3], 10))"
   ]
  },
  {
   "cell_type": "markdown",
   "id": "876d6cfc",
   "metadata": {},
   "source": [
    "# Sampling from Various Distributions"
   ]
  },
  {
   "cell_type": "code",
   "execution_count": 115,
   "id": "9fd3b445",
   "metadata": {},
   "outputs": [
    {
     "data": {
      "text/plain": [
       "8.755284423570027"
      ]
     },
     "execution_count": 115,
     "metadata": {},
     "output_type": "execute_result"
    }
   ],
   "source": [
    "x=np.random.normal(loc=100,scale=10,size=10)\n",
    "np.std(x)"
   ]
  },
  {
   "cell_type": "code",
   "execution_count": 116,
   "id": "12ec72c6",
   "metadata": {},
   "outputs": [
    {
     "data": {
      "text/plain": [
       "array([2, 2, 4, 3, 2, 3, 4, 5, 3, 2])"
      ]
     },
     "execution_count": 116,
     "metadata": {},
     "output_type": "execute_result"
    }
   ],
   "source": [
    "np.random.binomial(n=10,p=0.3,size=10)"
   ]
  },
  {
   "cell_type": "code",
   "execution_count": 117,
   "id": "d699c049",
   "metadata": {},
   "outputs": [
    {
     "data": {
      "text/plain": [
       "array([3, 2, 4, 1, 3])"
      ]
     },
     "execution_count": 117,
     "metadata": {},
     "output_type": "execute_result"
    }
   ],
   "source": [
    "np.random.poisson(lam=3,size=5)\n",
    "np.random.poisson(3,5)"
   ]
  },
  {
   "cell_type": "code",
   "execution_count": 118,
   "id": "1e2a7c6c",
   "metadata": {},
   "outputs": [
    {
     "data": {
      "text/plain": [
       "array([ 0.41533905,  4.04595912, 29.39721383,  9.61444954,  4.60251087,\n",
       "        9.46690763,  2.30837494,  1.8040313 ,  4.49130619, 19.90356893])"
      ]
     },
     "execution_count": 118,
     "metadata": {},
     "output_type": "execute_result"
    }
   ],
   "source": [
    "np.random.exponential(scale=10,size=10)"
   ]
  },
  {
   "cell_type": "code",
   "execution_count": 119,
   "id": "4aebf384",
   "metadata": {},
   "outputs": [
    {
     "data": {
      "text/plain": [
       "array([15.09401727, 12.96901516, 19.50251625, 18.1596609 , 13.22973943])"
      ]
     },
     "execution_count": 119,
     "metadata": {},
     "output_type": "execute_result"
    }
   ],
   "source": [
    "np.random.uniform(low=10,high=20,size=5)"
   ]
  },
  {
   "cell_type": "code",
   "execution_count": 120,
   "id": "af42c7b1",
   "metadata": {},
   "outputs": [
    {
     "data": {
      "text/plain": [
       "array([ 2.88591852,  3.67703767, -0.20172426,  0.37374293, -0.20910949])"
      ]
     },
     "execution_count": 120,
     "metadata": {},
     "output_type": "execute_result"
    }
   ],
   "source": [
    "np.random.laplace(loc=0,scale=1,size=5)"
   ]
  },
  {
   "cell_type": "markdown",
   "id": "4a60f317",
   "metadata": {},
   "source": [
    "# Sampling from some standard distributions"
   ]
  },
  {
   "cell_type": "code",
   "execution_count": 121,
   "id": "76179c0a",
   "metadata": {},
   "outputs": [
    {
     "data": {
      "text/plain": [
       "array([-1.01229175, -0.32385978, -0.18829686, -0.90000857, -0.931002  ,\n",
       "       -1.22273696, -0.39331085, -0.95758184,  2.05646734, -1.88849238])"
      ]
     },
     "execution_count": 121,
     "metadata": {},
     "output_type": "execute_result"
    }
   ],
   "source": [
    "np.random.standard_normal(10)"
   ]
  },
  {
   "cell_type": "code",
   "execution_count": 122,
   "id": "b613d222",
   "metadata": {},
   "outputs": [
    {
     "data": {
      "text/plain": [
       "1.0665173576639133"
      ]
     },
     "execution_count": 122,
     "metadata": {},
     "output_type": "execute_result"
    }
   ],
   "source": [
    "np.mean(np.random.standard_exponential(100))"
   ]
  },
  {
   "cell_type": "code",
   "execution_count": 123,
   "id": "f73bcdb5",
   "metadata": {},
   "outputs": [
    {
     "data": {
      "text/plain": [
       "array([-1.28463286, -0.6982525 ,  1.37349904,  0.03891925, -0.59407886,\n",
       "        0.03539451, -3.85049431, -0.48148219,  0.57479552,  3.80819648])"
      ]
     },
     "execution_count": 123,
     "metadata": {},
     "output_type": "execute_result"
    }
   ],
   "source": [
    "np.random.standard_t(2,10)"
   ]
  },
  {
   "cell_type": "code",
   "execution_count": 124,
   "id": "367d2a1d",
   "metadata": {},
   "outputs": [
    {
     "data": {
      "text/plain": [
       "array([0.50740207, 3.44665378, 1.76684472, 2.16648909, 1.1743428 ,\n",
       "       0.57397202, 0.69744557, 2.11117868, 2.97103095, 1.74203881])"
      ]
     },
     "execution_count": 124,
     "metadata": {},
     "output_type": "execute_result"
    }
   ],
   "source": [
    "np.random.standard_gamma(2,10)"
   ]
  },
  {
   "cell_type": "markdown",
   "id": "544ddc88",
   "metadata": {},
   "source": [
    "# Shuffle an array in place"
   ]
  },
  {
   "cell_type": "code",
   "execution_count": 261,
   "id": "8cb27b59",
   "metadata": {},
   "outputs": [
    {
     "name": "stdout",
     "output_type": "stream",
     "text": [
      "[0 1 2 3 4 5 6 7 8 9]\n"
     ]
    }
   ],
   "source": [
    "arr = np.array(range(10))\n",
    "print(arr)"
   ]
  },
  {
   "cell_type": "code",
   "execution_count": 126,
   "id": "0fa41f40",
   "metadata": {},
   "outputs": [
    {
     "name": "stdout",
     "output_type": "stream",
     "text": [
      "[2 1 5 6 7 0 8 3 4 9]\n"
     ]
    }
   ],
   "source": [
    "np.random.shuffle(arr)\n",
    "print(arr)"
   ]
  },
  {
   "cell_type": "markdown",
   "id": "459b74b3",
   "metadata": {},
   "source": [
    "# Generate a permutation of an array"
   ]
  },
  {
   "cell_type": "code",
   "execution_count": 127,
   "id": "f45a1a9d",
   "metadata": {},
   "outputs": [
    {
     "name": "stdout",
     "output_type": "stream",
     "text": [
      "A permutation of the array:  [6 5 7 4 0 8 3 9 2 1]\n",
      "The initial array:  [0 1 2 3 4 5 6 7 8 9]\n"
     ]
    }
   ],
   "source": [
    "# similar to np.random.shuffle(), but it returns a copy rather than making changes in place\n",
    "arr = np.array(range(10))\n",
    "print('A permutation of the array: ', np.random.permutation(arr))\n",
    "print('The initial array: ', arr)"
   ]
  },
  {
   "cell_type": "markdown",
   "id": "0e356a60",
   "metadata": {},
   "source": [
    "# Math Functions"
   ]
  },
  {
   "cell_type": "code",
   "execution_count": 128,
   "id": "01a5f357",
   "metadata": {},
   "outputs": [
    {
     "data": {
      "text/plain": [
       "array([[4, 5, 6],\n",
       "       [3, 5, 8],\n",
       "       [7, 6, 4]])"
      ]
     },
     "execution_count": 128,
     "metadata": {},
     "output_type": "execute_result"
    }
   ],
   "source": [
    "arr = np.random.randint(1,9,size=(3,3))\n",
    "arr"
   ]
  },
  {
   "cell_type": "markdown",
   "id": "eb4287c8",
   "metadata": {},
   "source": [
    "# element-wise operations"
   ]
  },
  {
   "cell_type": "code",
   "execution_count": 129,
   "id": "fe8a0052",
   "metadata": {},
   "outputs": [
    {
     "name": "stdout",
     "output_type": "stream",
     "text": [
      "[[14 15 16]\n",
      " [13 15 18]\n",
      " [17 16 14]]\n",
      "[[-6 -5 -4]\n",
      " [-7 -5 -2]\n",
      " [-3 -4 -6]]\n",
      "[[40 50 60]\n",
      " [30 50 80]\n",
      " [70 60 40]]\n",
      "[[0.4 0.5 0.6]\n",
      " [0.3 0.5 0.8]\n",
      " [0.7 0.6 0.4]]\n"
     ]
    }
   ],
   "source": [
    "print(arr + 10) # addition, subtraction, multiplication and division\n",
    "print(arr - 10)\n",
    "print(arr * 10)\n",
    "print(arr / 10)"
   ]
  },
  {
   "cell_type": "code",
   "execution_count": 130,
   "id": "3a41359f",
   "metadata": {},
   "outputs": [
    {
     "data": {
      "text/plain": [
       "array([ 9, 11, 13])"
      ]
     },
     "execution_count": 130,
     "metadata": {},
     "output_type": "execute_result"
    }
   ],
   "source": [
    "arr1 = np.array([1,2,3])\n",
    "arr2=np.array([8,9,10])\n",
    "arr3=np.add(arr1,arr2)\n",
    "arr3"
   ]
  },
  {
   "cell_type": "code",
   "execution_count": 131,
   "id": "82d29c3a",
   "metadata": {},
   "outputs": [
    {
     "name": "stdout",
     "output_type": "stream",
     "text": [
      "[-7 -7 -7]\n"
     ]
    }
   ],
   "source": [
    "np.subtract(arr1, [8,9,10], out=arr1)\n",
    "print(arr1)"
   ]
  },
  {
   "cell_type": "code",
   "execution_count": 132,
   "id": "734c72ef",
   "metadata": {},
   "outputs": [
    {
     "name": "stdout",
     "output_type": "stream",
     "text": [
      "Multiplication: [ 4 10  9]\n"
     ]
    },
    {
     "data": {
      "text/plain": [
       "array([4., 3., 3.])"
      ]
     },
     "execution_count": 132,
     "metadata": {},
     "output_type": "execute_result"
    }
   ],
   "source": [
    "np.multiply([4,5,3], [1,2,3], out=arr1)\n",
    "print(\"Multiplication:\",arr1)\n",
    "np.divide([4,6,9],[1,2,3])"
   ]
  },
  {
   "cell_type": "markdown",
   "id": "300a9123",
   "metadata": {},
   "source": [
    "# Element-wise Exponentiation"
   ]
  },
  {
   "cell_type": "code",
   "execution_count": 133,
   "id": "5827df11",
   "metadata": {},
   "outputs": [
    {
     "name": "stdout",
     "output_type": "stream",
     "text": [
      "[   54.59815003 22026.46579481  8103.08392758]\n"
     ]
    }
   ],
   "source": [
    "print(np.exp(arr1))"
   ]
  },
  {
   "cell_type": "markdown",
   "id": "89c97657",
   "metadata": {},
   "source": [
    "# Element-wise Logorithm"
   ]
  },
  {
   "cell_type": "code",
   "execution_count": 134,
   "id": "70499e03",
   "metadata": {},
   "outputs": [
    {
     "name": "stdout",
     "output_type": "stream",
     "text": [
      "[[1.38629436 1.60943791 1.79175947]\n",
      " [1.09861229 1.60943791 2.07944154]\n",
      " [1.94591015 1.79175947 1.38629436]]\n"
     ]
    }
   ],
   "source": [
    "# natural log\n",
    "print(np.log(arr)) "
   ]
  },
  {
   "cell_type": "code",
   "execution_count": 135,
   "id": "85884d2d",
   "metadata": {},
   "outputs": [
    {
     "name": "stdout",
     "output_type": "stream",
     "text": [
      "[[2.         2.32192809 2.5849625 ]\n",
      " [1.5849625  2.32192809 3.        ]\n",
      " [2.80735492 2.5849625  2.        ]]\n"
     ]
    }
   ],
   "source": [
    "# base 2\n",
    "print(np.log2(arr)) "
   ]
  },
  {
   "cell_type": "code",
   "execution_count": 136,
   "id": "ac5aa2f0",
   "metadata": {},
   "outputs": [
    {
     "name": "stdout",
     "output_type": "stream",
     "text": [
      "[[0.60205999 0.69897    0.77815125]\n",
      " [0.47712125 0.69897    0.90308999]\n",
      " [0.84509804 0.77815125 0.60205999]]\n"
     ]
    }
   ],
   "source": [
    "# base 10\n",
    "print(np.log10(arr))    "
   ]
  },
  {
   "cell_type": "markdown",
   "id": "d160580f",
   "metadata": {},
   "source": [
    "# Element-wise square root"
   ]
  },
  {
   "cell_type": "code",
   "execution_count": 137,
   "id": "6776f946",
   "metadata": {},
   "outputs": [
    {
     "name": "stdout",
     "output_type": "stream",
     "text": [
      "[1. 2. 3.]\n"
     ]
    }
   ],
   "source": [
    "print(np.sqrt([1,4,9]))"
   ]
  },
  {
   "cell_type": "markdown",
   "id": "03122f99",
   "metadata": {},
   "source": [
    "# Element-wise sine and cosine"
   ]
  },
  {
   "cell_type": "code",
   "execution_count": 140,
   "id": "03ab1d1d",
   "metadata": {},
   "outputs": [
    {
     "name": "stdout",
     "output_type": "stream",
     "text": [
      "[[-0.7568025  -0.95892427 -0.2794155 ]\n",
      " [ 0.14112001 -0.95892427  0.98935825]\n",
      " [ 0.6569866  -0.2794155  -0.7568025 ]]\n"
     ]
    }
   ],
   "source": [
    "print(np.sin(arr))"
   ]
  },
  {
   "cell_type": "code",
   "execution_count": 139,
   "id": "19393dfd",
   "metadata": {},
   "outputs": [
    {
     "name": "stdout",
     "output_type": "stream",
     "text": [
      "[[-0.65364362  0.28366219  0.96017029]\n",
      " [-0.9899925   0.28366219 -0.14550003]\n",
      " [ 0.75390225  0.96017029 -0.65364362]]\n"
     ]
    }
   ],
   "source": [
    "print(np.cos(arr))"
   ]
  },
  {
   "cell_type": "markdown",
   "id": "e7b16e9d",
   "metadata": {},
   "source": [
    "# Sum along a specified axis"
   ]
  },
  {
   "cell_type": "code",
   "execution_count": 141,
   "id": "aa87f91e",
   "metadata": {},
   "outputs": [
    {
     "name": "stdout",
     "output_type": "stream",
     "text": [
      "[[4 5 6]\n",
      " [3 5 8]\n",
      " [7 6 4]]\n",
      "[14 16 18]\n"
     ]
    }
   ],
   "source": [
    "# Sum along the row\n",
    "print(arr)\n",
    "print(np.sum(arr, axis=0))"
   ]
  },
  {
   "cell_type": "code",
   "execution_count": 142,
   "id": "fb534b87",
   "metadata": {},
   "outputs": [
    {
     "name": "stdout",
     "output_type": "stream",
     "text": [
      "[15 16 17]\n"
     ]
    }
   ],
   "source": [
    "# sum along the column\n",
    "print(np.sum(arr, axis=1))  "
   ]
  },
  {
   "cell_type": "markdown",
   "id": "aa214e6d",
   "metadata": {},
   "source": [
    "# Compute the min and max along a specified axis"
   ]
  },
  {
   "cell_type": "code",
   "execution_count": 143,
   "id": "1a562051",
   "metadata": {},
   "outputs": [
    {
     "name": "stdout",
     "output_type": "stream",
     "text": [
      "[3 5 4]\n"
     ]
    }
   ],
   "source": [
    "# calculate min along the row\n",
    "print(np.min(arr, axis=0))"
   ]
  },
  {
   "cell_type": "code",
   "execution_count": 144,
   "id": "4ebedc4f",
   "metadata": {},
   "outputs": [
    {
     "name": "stdout",
     "output_type": "stream",
     "text": [
      "[6 8 7]\n"
     ]
    }
   ],
   "source": [
    "# calculate max along the column\n",
    "print(np.max(arr, axis=1))  "
   ]
  },
  {
   "cell_type": "code",
   "execution_count": 145,
   "id": "92e656f4",
   "metadata": {},
   "outputs": [
    {
     "name": "stdout",
     "output_type": "stream",
     "text": [
      "8\n",
      "3\n"
     ]
    }
   ],
   "source": [
    "# if axis not specified, calculate the max/min value of all elements\n",
    "print(np.max(arr))\n",
    "print(np.min(arr))"
   ]
  },
  {
   "cell_type": "markdown",
   "id": "af5da6e1",
   "metadata": {},
   "source": [
    "# Indices of the min and max along a specified axis"
   ]
  },
  {
   "cell_type": "code",
   "execution_count": 146,
   "id": "fe7bc740",
   "metadata": {},
   "outputs": [
    {
     "name": "stdout",
     "output_type": "stream",
     "text": [
      "[[4 5 6]\n",
      " [3 5 8]\n",
      " [7 6 4]]\n",
      "[1 0 2]\n",
      "[2 2 1]\n"
     ]
    }
   ],
   "source": [
    "# along the row\n",
    "print(arr)\n",
    "print(np.argmin(arr, axis=0)) # Index of Column Minimum\n",
    "print(np.argmax(arr, axis=0)) # Index of Row Minimum"
   ]
  },
  {
   "cell_type": "code",
   "execution_count": 147,
   "id": "48aa48da",
   "metadata": {},
   "outputs": [
    {
     "name": "stdout",
     "output_type": "stream",
     "text": [
      "[0 0 2]\n",
      "[2 2 0]\n"
     ]
    }
   ],
   "source": [
    "# along the column\n",
    "print(np.argmin(arr, axis=1))\n",
    "print(np.argmax(arr, axis=1))"
   ]
  },
  {
   "cell_type": "code",
   "execution_count": 148,
   "id": "d4a48038",
   "metadata": {},
   "outputs": [
    {
     "name": "stdout",
     "output_type": "stream",
     "text": [
      "3\n",
      "5\n"
     ]
    }
   ],
   "source": [
    "# if axis not specified, return the index of the flattened array\n",
    "print(np.argmin(arr))\n",
    "print(np.argmax(arr))"
   ]
  },
  {
   "cell_type": "markdown",
   "id": "b2c32cb3",
   "metadata": {},
   "source": [
    "# Element-wise min and max of two arrays"
   ]
  },
  {
   "cell_type": "code",
   "execution_count": 149,
   "id": "608e3ba8",
   "metadata": {},
   "outputs": [
    {
     "name": "stdout",
     "output_type": "stream",
     "text": [
      "[1 4 5 8 9]\n",
      "[0 3 3 7 7]\n"
     ]
    }
   ],
   "source": [
    "arr1 = np.array([1, 3, 5, 7, 9])\n",
    "arr2 = np.array([0, 4, 3, 8, 7])\n",
    "print(np.maximum(arr1, arr2))\n",
    "print(np.minimum(arr1, arr2))"
   ]
  },
  {
   "cell_type": "markdown",
   "id": "59e58b38",
   "metadata": {},
   "source": [
    "# Split fractional and integral parts of a floating-point array"
   ]
  },
  {
   "cell_type": "code",
   "execution_count": 150,
   "id": "8ad8a605",
   "metadata": {},
   "outputs": [
    {
     "name": "stdout",
     "output_type": "stream",
     "text": [
      "Original : [ 2.75429297  3.19179876 70.1359801  70.75811186 95.99391337]\n",
      "integral:  [ 2.  3. 70. 70. 95.]\n",
      "fractional:  [0.75429297 0.19179876 0.1359801  0.75811186 0.99391337]\n"
     ]
    }
   ],
   "source": [
    "arr1 = np.random.rand(5) * 100\n",
    "re, intg = np.modf(arr1)\n",
    "print(\"Original :\", arr1)\n",
    "print('integral: ', intg)\n",
    "print('fractional: ', re)"
   ]
  },
  {
   "cell_type": "markdown",
   "id": "c9e263ef",
   "metadata": {},
   "source": [
    "# Compute the mean"
   ]
  },
  {
   "cell_type": "code",
   "execution_count": 151,
   "id": "ff670c2d",
   "metadata": {},
   "outputs": [
    {
     "name": "stdout",
     "output_type": "stream",
     "text": [
      "5.333333333333333\n"
     ]
    }
   ],
   "source": [
    "# compute the overall mean\n",
    "print(np.mean(arr))"
   ]
  },
  {
   "cell_type": "code",
   "execution_count": 152,
   "id": "c2c6ab4e",
   "metadata": {},
   "outputs": [
    {
     "name": "stdout",
     "output_type": "stream",
     "text": [
      "[4.66666667 5.33333333 6.        ]\n"
     ]
    }
   ],
   "source": [
    "# compute the mean along the row\n",
    "print(np.mean(arr, axis=0))  "
   ]
  },
  {
   "cell_type": "code",
   "execution_count": 153,
   "id": "a59f175f",
   "metadata": {},
   "outputs": [
    {
     "name": "stdout",
     "output_type": "stream",
     "text": [
      "[5.         5.33333333 5.66666667]\n"
     ]
    }
   ],
   "source": [
    "# compute the mean along the column\n",
    "print(np.mean(arr, axis=1)) "
   ]
  },
  {
   "cell_type": "markdown",
   "id": "3a521602",
   "metadata": {},
   "source": [
    "# Median"
   ]
  },
  {
   "cell_type": "code",
   "execution_count": 154,
   "id": "11d65f60",
   "metadata": {},
   "outputs": [
    {
     "name": "stdout",
     "output_type": "stream",
     "text": [
      "5.0\n"
     ]
    }
   ],
   "source": [
    "# compute the overall median\n",
    "print(np.median(arr))"
   ]
  },
  {
   "cell_type": "code",
   "execution_count": 155,
   "id": "bc77cd1b",
   "metadata": {},
   "outputs": [
    {
     "name": "stdout",
     "output_type": "stream",
     "text": [
      "[4. 5. 6.]\n"
     ]
    }
   ],
   "source": [
    "# compute the median along the row\n",
    "print(np.median(arr, axis=0)) "
   ]
  },
  {
   "cell_type": "code",
   "execution_count": 156,
   "id": "00ced09e",
   "metadata": {},
   "outputs": [
    {
     "name": "stdout",
     "output_type": "stream",
     "text": [
      "[5. 5. 6.]\n"
     ]
    }
   ],
   "source": [
    "# compute the median along the column\n",
    "print(np.median(arr, axis=1))"
   ]
  },
  {
   "cell_type": "markdown",
   "id": "a413c00f",
   "metadata": {},
   "source": [
    "# Compute the percentile"
   ]
  },
  {
   "cell_type": "code",
   "execution_count": 157,
   "id": "26a654a6",
   "metadata": {},
   "outputs": [
    {
     "name": "stdout",
     "output_type": "stream",
     "text": [
      "[0.48267405 0.63449797 0.94482371]\n"
     ]
    }
   ],
   "source": [
    "arr1 = np.random.rand(100)\n",
    "# print(arr1)\n",
    "# compute 5, 65, and 95 percentiles of the array\n",
    "print(np.percentile(arr1, [50, 60, 90]))"
   ]
  },
  {
   "cell_type": "markdown",
   "id": "6d172562",
   "metadata": {},
   "source": [
    "# Compute the standard deviation & variance"
   ]
  },
  {
   "cell_type": "code",
   "execution_count": 158,
   "id": "67c1bb4e",
   "metadata": {},
   "outputs": [
    {
     "name": "stdout",
     "output_type": "stream",
     "text": [
      "1.4907119849998598\n"
     ]
    }
   ],
   "source": [
    "# compute the overall standard deviation\n",
    "print(np.std(arr))"
   ]
  },
  {
   "cell_type": "code",
   "execution_count": 159,
   "id": "6d8bddad",
   "metadata": {},
   "outputs": [
    {
     "name": "stdout",
     "output_type": "stream",
     "text": [
      "[1.69967317 0.47140452 1.63299316]\n"
     ]
    }
   ],
   "source": [
    "# compute the standard deviation along the row\n",
    "print(np.std(arr, axis=0))"
   ]
  },
  {
   "cell_type": "code",
   "execution_count": 160,
   "id": "64bc794f",
   "metadata": {},
   "outputs": [
    {
     "name": "stdout",
     "output_type": "stream",
     "text": [
      "[0.81649658 2.05480467 1.24721913]\n"
     ]
    }
   ],
   "source": [
    "# compute the standard deviation along the column\n",
    "print(np.std(arr, axis=1))"
   ]
  },
  {
   "cell_type": "code",
   "execution_count": 161,
   "id": "eed115e7",
   "metadata": {},
   "outputs": [
    {
     "name": "stdout",
     "output_type": "stream",
     "text": [
      "2.2222222222222223\n"
     ]
    }
   ],
   "source": [
    "# compute the overall variance\n",
    "print(np.var(arr))"
   ]
  },
  {
   "cell_type": "code",
   "execution_count": 162,
   "id": "2ba63356",
   "metadata": {},
   "outputs": [
    {
     "name": "stdout",
     "output_type": "stream",
     "text": [
      "[2.88888889 0.22222222 2.66666667]\n"
     ]
    }
   ],
   "source": [
    "# compute the variance along the row\n",
    "print(np.var(arr, axis=0))"
   ]
  },
  {
   "cell_type": "code",
   "execution_count": 163,
   "id": "bb964f45",
   "metadata": {},
   "outputs": [
    {
     "name": "stdout",
     "output_type": "stream",
     "text": [
      "[0.66666667 4.22222222 1.55555556]\n"
     ]
    }
   ],
   "source": [
    "# compute the variance along the column\n",
    "print(np.var(arr, axis=1))"
   ]
  },
  {
   "cell_type": "markdown",
   "id": "7167b4c7",
   "metadata": {},
   "source": [
    "# Compute the covariance & correlation"
   ]
  },
  {
   "cell_type": "code",
   "execution_count": 164,
   "id": "c01b923c",
   "metadata": {},
   "outputs": [
    {
     "name": "stdout",
     "output_type": "stream",
     "text": [
      "[[0.01501615 0.87914244 0.06393855]\n",
      " [0.7333954  0.99461039 0.50118978]\n",
      " [0.20933399 0.59464358 0.62414998]\n",
      " [0.66807274 0.17261174 0.89871269]\n",
      " [0.62099137 0.0435687  0.68404106]]\n"
     ]
    }
   ],
   "source": [
    "arr = np.random.rand(5,3)\n",
    "print(arr)"
   ]
  },
  {
   "cell_type": "code",
   "execution_count": 165,
   "id": "7b2a9c8c",
   "metadata": {},
   "outputs": [
    {
     "name": "stdout",
     "output_type": "stream",
     "text": [
      "[[ 0.23561084  0.10276685  0.05486604 -0.16812962 -0.16966619]\n",
      " [ 0.10276685  0.0609361  -0.0017055  -0.09020848 -0.08024903]\n",
      " [ 0.05486604 -0.0017055   0.05356774 -0.01230135 -0.02957241]\n",
      " [-0.16812962 -0.09020848 -0.01230135  0.13764983  0.1276133 ]\n",
      " [-0.16966619 -0.08024903 -0.02957241  0.1276133   0.12459951]]\n"
     ]
    }
   ],
   "source": [
    "print(np.cov(arr))"
   ]
  },
  {
   "cell_type": "code",
   "execution_count": 166,
   "id": "110a4c57",
   "metadata": {},
   "outputs": [
    {
     "name": "stdout",
     "output_type": "stream",
     "text": [
      "[[ 1.         -0.36847081]\n",
      " [-0.36847081  1.        ]]\n"
     ]
    }
   ],
   "source": [
    "print(np.corrcoef(arr[:,0], arr[:,1]))"
   ]
  },
  {
   "cell_type": "markdown",
   "id": "317639b6",
   "metadata": {},
   "source": [
    "# Compute cumulative sum & product"
   ]
  },
  {
   "cell_type": "code",
   "execution_count": 167,
   "id": "476463f2",
   "metadata": {},
   "outputs": [
    {
     "name": "stdout",
     "output_type": "stream",
     "text": [
      "[[0.01501615 0.87914244 0.06393855]\n",
      " [0.74841155 1.87375283 0.56512833]\n",
      " [0.95774554 2.46839641 1.18927831]\n",
      " [1.62581828 2.64100815 2.087991  ]\n",
      " [2.24680964 2.68457685 2.77203207]]\n"
     ]
    }
   ],
   "source": [
    "# calculate the cumulative sums along the row\n",
    "print(np.cumsum(arr, axis=0)) "
   ]
  },
  {
   "cell_type": "code",
   "execution_count": 168,
   "id": "d9b680e2",
   "metadata": {},
   "outputs": [
    {
     "name": "stdout",
     "output_type": "stream",
     "text": [
      "[[0.01501615 0.89415859 0.95809714]\n",
      " [0.7333954  1.72800579 2.22919557]\n",
      " [0.20933399 0.80397757 1.42812755]\n",
      " [0.66807274 0.84068448 1.73939717]\n",
      " [0.62099137 0.66456007 1.34860114]]\n"
     ]
    }
   ],
   "source": [
    "# calculate the cumulative sums along the column\n",
    "print(np.cumsum(arr, axis=1))    "
   ]
  },
  {
   "cell_type": "code",
   "execution_count": 169,
   "id": "0c3ead45",
   "metadata": {},
   "outputs": [
    {
     "name": "stdout",
     "output_type": "stream",
     "text": [
      "[[0.01501615 0.87914244 0.06393855]\n",
      " [0.01101277 0.8744042  0.03204535]\n",
      " [0.00230535 0.51995885 0.0200011 ]\n",
      " [0.00154014 0.089751   0.01797525]\n",
      " [0.00095641 0.00391033 0.01229581]]\n"
     ]
    }
   ],
   "source": [
    "# calculate the cumulative product along the row\n",
    "print(np.cumprod(arr, axis=0)) "
   ]
  },
  {
   "cell_type": "code",
   "execution_count": 170,
   "id": "fc804361",
   "metadata": {},
   "outputs": [
    {
     "name": "stdout",
     "output_type": "stream",
     "text": [
      "[[0.01501615 0.01320133 0.00084407]\n",
      " [0.7333954  0.72944268 0.36558922]\n",
      " [0.20933399 0.12447911 0.07769364]\n",
      " [0.66807274 0.1153172  0.10363703]\n",
      " [0.62099137 0.02705579 0.01850727]]\n"
     ]
    }
   ],
   "source": [
    "# calculate the cumulative product along the column\n",
    "print(np.cumprod(arr, axis=1))"
   ]
  },
  {
   "cell_type": "markdown",
   "id": "c45aafc0",
   "metadata": {},
   "source": [
    "# Element-wise comparison"
   ]
  },
  {
   "cell_type": "code",
   "execution_count": 171,
   "id": "9917ec41",
   "metadata": {},
   "outputs": [],
   "source": [
    "arr1 = np.array([1,2,3,4,5])\n",
    "arr2 = np.array([5,4,3,2,1])"
   ]
  },
  {
   "cell_type": "code",
   "execution_count": 172,
   "id": "e16571db",
   "metadata": {},
   "outputs": [
    {
     "name": "stdout",
     "output_type": "stream",
     "text": [
      "[False False  True False False]\n",
      "[ True  True False False False]\n"
     ]
    }
   ],
   "source": [
    "# return an array of bools\n",
    "print(arr1 == arr2)    \n",
    "print(arr1 < 3)"
   ]
  },
  {
   "cell_type": "markdown",
   "id": "5d22a768",
   "metadata": {},
   "source": [
    "# Slicing & Indexing"
   ]
  },
  {
   "cell_type": "code",
   "execution_count": 173,
   "id": "ed315c6c",
   "metadata": {},
   "outputs": [],
   "source": [
    "import numpy as np\n",
    "arr=np.array(range(1,13)).reshape(3,4)"
   ]
  },
  {
   "cell_type": "markdown",
   "id": "668d7b8a",
   "metadata": {},
   "source": [
    "# Row and Column indices\n",
    "\n",
    "Select an element by row and column indices\n"
   ]
  },
  {
   "cell_type": "code",
   "execution_count": 174,
   "id": "8f22707c",
   "metadata": {},
   "outputs": [
    {
     "name": "stdout",
     "output_type": "stream",
     "text": [
      "[[ 1  2  3  4]\n",
      " [ 5  6  7  8]\n",
      " [ 9 10 11 12]]\n",
      "7\n",
      "11\n"
     ]
    }
   ],
   "source": [
    "print(arr)\n",
    "print(arr[1][2])\n",
    "# or more concisely\n",
    "print(arr[2,2])"
   ]
  },
  {
   "cell_type": "markdown",
   "id": "e076e736",
   "metadata": {},
   "source": [
    "# Indexing with slicing"
   ]
  },
  {
   "cell_type": "code",
   "execution_count": 175,
   "id": "b5968200",
   "metadata": {},
   "outputs": [
    {
     "name": "stdout",
     "output_type": "stream",
     "text": [
      "[[ 1  2  3  4]\n",
      " [ 5  6  7  8]\n",
      " [ 9 10 11 12]]\n",
      "[[ 6  7  8]\n",
      " [10 11 12]]\n"
     ]
    }
   ],
   "source": [
    "print(arr)\n",
    "print(arr[1:,1:])"
   ]
  },
  {
   "cell_type": "code",
   "execution_count": 176,
   "id": "447ca92b",
   "metadata": {},
   "outputs": [
    {
     "name": "stdout",
     "output_type": "stream",
     "text": [
      "[[[0 1]\n",
      "  [2 3]]\n",
      "\n",
      " [[4 5]\n",
      "  [6 7]]]\n"
     ]
    }
   ],
   "source": [
    "# ellipsis slicing: auto-complete the dimensions\n",
    "arr = np.array(range(16)).reshape(2,2,2,2)\n",
    "# print(arr)\n",
    "# equivalent to arr[0,:,:,:]\n",
    "print(arr[0, ...]) "
   ]
  },
  {
   "cell_type": "markdown",
   "id": "9dae6e9b",
   "metadata": {},
   "source": [
    "# Assign a scalar to a slice by broadcasting"
   ]
  },
  {
   "cell_type": "code",
   "execution_count": 177,
   "id": "ff77739b",
   "metadata": {},
   "outputs": [
    {
     "name": "stdout",
     "output_type": "stream",
     "text": [
      "Original Array is \n",
      " [[[[ 0  1]\n",
      "   [ 2  3]]\n",
      "\n",
      "  [[ 4  5]\n",
      "   [ 6  7]]]\n",
      "\n",
      "\n",
      " [[[ 8  9]\n",
      "   [10 11]]\n",
      "\n",
      "  [[12 13]\n",
      "   [14 15]]]]\n",
      "Array is \n",
      " [[[[  0   1]\n",
      "   [  2   3]]\n",
      "\n",
      "  [[  4   5]\n",
      "   [  6   7]]]\n",
      "\n",
      "\n",
      " [[[100 100]\n",
      "   [100 100]]\n",
      "\n",
      "  [[100 100]\n",
      "   [100 100]]]]\n"
     ]
    }
   ],
   "source": [
    "print(\"Original Array is \\n\",arr)\n",
    "arr[1:3,:] = 100    # or simply arr[1:3]\n",
    "arr[:,8:] = 100\n",
    "print(\"Array is \\n\",arr)"
   ]
  },
  {
   "cell_type": "markdown",
   "id": "57d7513e",
   "metadata": {},
   "source": [
    "# Boolean Indexing"
   ]
  },
  {
   "cell_type": "code",
   "execution_count": 178,
   "id": "fadd351e",
   "metadata": {},
   "outputs": [
    {
     "name": "stdout",
     "output_type": "stream",
     "text": [
      "[[ 0  1  2  3  4]\n",
      " [ 5  6  7  8  9]\n",
      " [10 11 12 13 14]\n",
      " [15 16 17 18 19]\n",
      " [20 21 22 23 24]]\n",
      "[[ 0  1  2  3  4]\n",
      " [10 11 12 13 14]\n",
      " [15 16 17 18 19]]\n",
      "[[10 11 12 13 14]\n",
      " [15 16 17 18 19]\n",
      " [20 21 22 23 24]]\n"
     ]
    }
   ],
   "source": [
    "arr1 = np.arange(25).reshape((5,5))\n",
    "print(arr1)\n",
    "list1=[True,False,True,False,True]\n",
    "arr1[list1]\n",
    "list2=np.array(['M','F',\"M\",\"M\",\"F\"])\n",
    "print(arr1[list2==\"M\"])\n",
    "print(arr1[arr1[:,4]>=10])"
   ]
  },
  {
   "cell_type": "code",
   "execution_count": 179,
   "id": "57ffbd68",
   "metadata": {},
   "outputs": [
    {
     "name": "stdout",
     "output_type": "stream",
     "text": [
      "[[ 5  6  7  8  9]\n",
      " [20 21 22 23 24]]\n"
     ]
    }
   ],
   "source": [
    "# negate the condition\n",
    "print(arr1[~(list2==\"M\")])\n",
    "#print(arr1[~bools])   "
   ]
  },
  {
   "cell_type": "code",
   "execution_count": 180,
   "id": "170ef511",
   "metadata": {},
   "outputs": [
    {
     "name": "stdout",
     "output_type": "stream",
     "text": [
      "[[ 5  6  7  8  9]\n",
      " [10 11 12 13 14]\n",
      " [15 16 17 18 19]]\n"
     ]
    }
   ],
   "source": [
    "arr2 = np.array([1,2,3,4,5])\n",
    "# multiple conditions\n",
    "print(arr1[(arr2>=2) & (arr2<=4)])    "
   ]
  },
  {
   "cell_type": "markdown",
   "id": "86ef42be",
   "metadata": {},
   "source": [
    "# Fancy indexing"
   ]
  },
  {
   "cell_type": "code",
   "execution_count": 181,
   "id": "9e2deeda",
   "metadata": {},
   "outputs": [
    {
     "data": {
      "text/plain": [
       "array([[0.19608405, 0.02734078, 0.55095328, 0.81331364, 0.85994115],\n",
       "       [0.10352093, 0.66304279, 0.71007522, 0.29451699, 0.971364  ],\n",
       "       [0.27868747, 0.06998219, 0.51928036, 0.69431489, 0.24465979],\n",
       "       [0.3385822 , 0.56362798, 0.88667817, 0.74732591, 0.20959196],\n",
       "       [0.25177707, 0.52388069, 0.76895869, 0.61876178, 0.50132427],\n",
       "       [0.59712534, 0.75606003, 0.53707979, 0.89775274, 0.94706749],\n",
       "       [0.91535451, 0.75451834, 0.246321  , 0.38527145, 0.27999995],\n",
       "       [0.65766024, 0.32422162, 0.7543916 , 0.11350908, 0.77536476],\n",
       "       [0.58590197, 0.83538869, 0.43087565, 0.62496445, 0.55441213],\n",
       "       [0.97567127, 0.75547439, 0.54481325, 0.17403209, 0.90411422]])"
      ]
     },
     "execution_count": 181,
     "metadata": {},
     "output_type": "execute_result"
    }
   ],
   "source": [
    "arr = np.random.rand(10,5)\n",
    "arr"
   ]
  },
  {
   "cell_type": "code",
   "execution_count": 182,
   "id": "0b2238a7",
   "metadata": {},
   "outputs": [
    {
     "name": "stdout",
     "output_type": "stream",
     "text": [
      "[0.74732591 0.71007522 0.06998219]\n"
     ]
    }
   ],
   "source": [
    "# select arr[3,3], arr[1,2], arr[2,1]\n",
    "print(arr[[3,1,2], [3,2,1]])   "
   ]
  },
  {
   "cell_type": "code",
   "execution_count": 183,
   "id": "066f864b",
   "metadata": {},
   "outputs": [
    {
     "name": "stdout",
     "output_type": "stream",
     "text": [
      "[[0.20959196 0.88667817 0.74732591]\n",
      " [0.971364   0.71007522 0.29451699]\n",
      " [0.24465979 0.51928036 0.69431489]]\n"
     ]
    }
   ],
   "source": [
    "# select rows 3,1,2 and columns 6,4,8 \n",
    "print(arr[[3,1,2]][:, [4,2,3]])    "
   ]
  },
  {
   "cell_type": "markdown",
   "id": "1a400b86",
   "metadata": {},
   "source": [
    "# Dimension inference"
   ]
  },
  {
   "cell_type": "code",
   "execution_count": 184,
   "id": "0c0dd722",
   "metadata": {},
   "outputs": [
    {
     "name": "stdout",
     "output_type": "stream",
     "text": [
      "[[ 0  1  2  3  4]\n",
      " [ 5  6  7  8  9]\n",
      " [10 11 12 13 14]\n",
      " [15 16 17 18 19]]\n",
      "(4, 5)\n"
     ]
    }
   ],
   "source": [
    "# dimension inference using any negative number (usually -1)\n",
    "arr = np.array(range(20)).reshape((4,-1))\n",
    "print(arr)\n",
    "print(arr.shape)"
   ]
  },
  {
   "cell_type": "markdown",
   "id": "0cf3ab39",
   "metadata": {},
   "source": [
    "# Find elements/indices by conditions"
   ]
  },
  {
   "cell_type": "code",
   "execution_count": 185,
   "id": "92fc9868",
   "metadata": {},
   "outputs": [],
   "source": [
    "arr = np.arange(16).reshape(4,4)"
   ]
  },
  {
   "cell_type": "code",
   "execution_count": 186,
   "id": "f0559e08",
   "metadata": {},
   "outputs": [
    {
     "name": "stdout",
     "output_type": "stream",
     "text": [
      "[ 6  7  8  9 10 11 12 13 14 15]\n"
     ]
    }
   ],
   "source": [
    "# find the elements greater than 5 and return a flattened array\n",
    "print(arr[arr>5])    # or arr[np.where(arr>5)]"
   ]
  },
  {
   "cell_type": "code",
   "execution_count": 187,
   "id": "de0e9278",
   "metadata": {},
   "outputs": [
    {
     "name": "stdout",
     "output_type": "stream",
     "text": [
      "[[10 10 10 10]\n",
      " [10 10 -1 -1]\n",
      " [-1 -1 -1 -1]\n",
      " [-1 -1 -1 -1]]\n"
     ]
    }
   ],
   "source": [
    "# return values based on conditions \n",
    "# np.where(condition, true_return, false_return)\n",
    "print(np.where(arr>5, -1, 10))"
   ]
  },
  {
   "cell_type": "code",
   "execution_count": 188,
   "id": "e03635aa",
   "metadata": {},
   "outputs": [
    {
     "name": "stdout",
     "output_type": "stream",
     "text": [
      "[[1 2]\n",
      " [1 3]\n",
      " [2 0]\n",
      " [2 1]\n",
      " [2 2]\n",
      " [2 3]\n",
      " [3 0]\n",
      " [3 1]\n",
      " [3 2]\n",
      " [3 3]]\n"
     ]
    }
   ],
   "source": [
    "# find the indices of the elements on conditions\n",
    "print(np.argwhere(arr>5))"
   ]
  },
  {
   "cell_type": "markdown",
   "id": "3285a58b",
   "metadata": {},
   "source": [
    "# Sort an Array"
   ]
  },
  {
   "cell_type": "code",
   "execution_count": 189,
   "id": "172e2221",
   "metadata": {},
   "outputs": [
    {
     "data": {
      "text/plain": [
       "array([[0.20583778, 0.65004326, 0.93647185],\n",
       "       [0.22357963, 0.22592354, 0.85181891],\n",
       "       [0.82765503, 0.35170335, 0.26509629]])"
      ]
     },
     "execution_count": 189,
     "metadata": {},
     "output_type": "execute_result"
    }
   ],
   "source": [
    "arr = np.random.rand(3,3)\n",
    "arr"
   ]
  },
  {
   "cell_type": "markdown",
   "id": "12b4f9c2",
   "metadata": {},
   "source": [
    "# Sort an array along a specified axis"
   ]
  },
  {
   "cell_type": "code",
   "execution_count": 190,
   "id": "c0d8e7f8",
   "metadata": {},
   "outputs": [
    {
     "name": "stdout",
     "output_type": "stream",
     "text": [
      "[[0.20583778 0.22592354 0.26509629]\n",
      " [0.22357963 0.35170335 0.85181891]\n",
      " [0.82765503 0.65004326 0.93647185]]\n"
     ]
    }
   ],
   "source": [
    "# sort along the row and return a copy\n",
    "print(np.sort(arr, axis=0))  "
   ]
  },
  {
   "cell_type": "code",
   "execution_count": 191,
   "id": "5b6ac25d",
   "metadata": {},
   "outputs": [
    {
     "name": "stdout",
     "output_type": "stream",
     "text": [
      "[[0.20583778 0.22592354 0.26509629]\n",
      " [0.22357963 0.35170335 0.85181891]\n",
      " [0.82765503 0.65004326 0.93647185]]\n"
     ]
    }
   ],
   "source": [
    "# sort along the row in place\n",
    "arr.sort(axis=0)\n",
    "print(arr)"
   ]
  },
  {
   "cell_type": "code",
   "execution_count": 192,
   "id": "166ae5a0",
   "metadata": {},
   "outputs": [
    {
     "name": "stdout",
     "output_type": "stream",
     "text": [
      "[[0.20583778 0.22592354 0.26509629]\n",
      " [0.22357963 0.35170335 0.85181891]\n",
      " [0.65004326 0.82765503 0.93647185]]\n"
     ]
    }
   ],
   "source": [
    "# sort along the column and return a copy\n",
    "print(np.sort(arr, axis=1))    "
   ]
  },
  {
   "cell_type": "markdown",
   "id": "73061c1c",
   "metadata": {},
   "source": [
    "# compute the indices that would sort an array along a specified axis"
   ]
  },
  {
   "cell_type": "code",
   "execution_count": 193,
   "id": "3815768c",
   "metadata": {},
   "outputs": [],
   "source": [
    "arr = np.random.rand(5,5)"
   ]
  },
  {
   "cell_type": "code",
   "execution_count": 194,
   "id": "fd66c50f",
   "metadata": {},
   "outputs": [
    {
     "name": "stdout",
     "output_type": "stream",
     "text": [
      "[[1 1 4 3 2]\n",
      " [0 2 3 2 0]\n",
      " [4 4 1 4 3]\n",
      " [3 3 2 0 4]\n",
      " [2 0 0 1 1]]\n"
     ]
    }
   ],
   "source": [
    "# along the row\n",
    "print(np.argsort(arr, axis=0))"
   ]
  },
  {
   "cell_type": "code",
   "execution_count": 195,
   "id": "9cee86f2",
   "metadata": {},
   "outputs": [
    {
     "name": "stdout",
     "output_type": "stream",
     "text": [
      "[[0 4 2 3 1]\n",
      " [1 0 2 3 4]\n",
      " [1 4 3 2 0]\n",
      " [3 2 1 4 0]\n",
      " [2 0 3 1 4]]\n"
     ]
    }
   ],
   "source": [
    "# along the column\n",
    "print(np.argsort(arr, axis=1))"
   ]
  },
  {
   "cell_type": "code",
   "execution_count": 196,
   "id": "5165d523",
   "metadata": {},
   "outputs": [
    {
     "name": "stdout",
     "output_type": "stream",
     "text": [
      "[ 6 18  5  0 11 14 13 22 17  7 20 23 21 12 16  4 19 24 15  2 10  3  8  9\n",
      "  1]\n"
     ]
    }
   ],
   "source": [
    "# if axis=None, return the indices of a flattened array\n",
    "print(np.argsort(arr, axis=None))"
   ]
  },
  {
   "cell_type": "markdown",
   "id": "21c81b6f",
   "metadata": {},
   "source": [
    "# Manipulate an Array\n",
    "transpose an array\n",
    "\n"
   ]
  },
  {
   "cell_type": "code",
   "execution_count": 197,
   "id": "7ebc83e8",
   "metadata": {},
   "outputs": [
    {
     "name": "stdout",
     "output_type": "stream",
     "text": [
      "[[ 0  5 10]\n",
      " [ 1  6 11]\n",
      " [ 2  7 12]\n",
      " [ 3  8 13]\n",
      " [ 4  9 14]]\n",
      "[[ 0  5 10]\n",
      " [ 1  6 11]\n",
      " [ 2  7 12]\n",
      " [ 3  8 13]\n",
      " [ 4  9 14]]\n",
      "[[ 0  5 10]\n",
      " [ 1  6 11]\n",
      " [ 2  7 12]\n",
      " [ 3  8 13]\n",
      " [ 4  9 14]]\n"
     ]
    }
   ],
   "source": [
    "# the following methods return a copy\n",
    "arr=np.array(range(15)).reshape(3,5)\n",
    "print(arr.T)\n",
    "# or \n",
    "print(np.transpose(arr))\n",
    "# or\n",
    "print(arr.transpose())"
   ]
  },
  {
   "cell_type": "markdown",
   "id": "1b335626",
   "metadata": {},
   "source": [
    "# transpose of a high dimensional array with specified order of axes"
   ]
  },
  {
   "cell_type": "code",
   "execution_count": 198,
   "id": "7a38e702",
   "metadata": {},
   "outputs": [
    {
     "name": "stdout",
     "output_type": "stream",
     "text": [
      "[[[ 0  1  2  3]\n",
      "  [ 4  5  6  7]]\n",
      "\n",
      " [[ 8  9 10 11]\n",
      "  [12 13 14 15]]]\n",
      "[[[ 0  1  2  3]\n",
      "  [ 4  5  6  7]]\n",
      "\n",
      " [[ 8  9 10 11]\n",
      "  [12 13 14 15]]]\n"
     ]
    }
   ],
   "source": [
    "arr1 = np.arange(16).reshape((2,2,4))\n",
    "print(arr1)\n",
    "\n",
    "arr1.transpose((1,0,2))\n",
    "print(arr1)"
   ]
  },
  {
   "cell_type": "markdown",
   "id": "1638c978",
   "metadata": {},
   "source": [
    "# swap axes"
   ]
  },
  {
   "cell_type": "code",
   "execution_count": 199,
   "id": "35decc12",
   "metadata": {},
   "outputs": [
    {
     "name": "stdout",
     "output_type": "stream",
     "text": [
      "[[[ 0  4]\n",
      "  [ 1  5]\n",
      "  [ 2  6]\n",
      "  [ 3  7]]\n",
      "\n",
      " [[ 8 12]\n",
      "  [ 9 13]\n",
      "  [10 14]\n",
      "  [11 15]]]\n"
     ]
    }
   ],
   "source": [
    "arr1 = np.arange(16).reshape((2,2,4))\n",
    "print(arr1.swapaxes(1,2))"
   ]
  },
  {
   "cell_type": "markdown",
   "id": "c75572f5",
   "metadata": {},
   "source": [
    "# change the shape of an array"
   ]
  },
  {
   "cell_type": "code",
   "execution_count": 200,
   "id": "d81376a4",
   "metadata": {},
   "outputs": [
    {
     "name": "stdout",
     "output_type": "stream",
     "text": [
      "[[ 0  1  2  3  4  5]\n",
      " [ 6  7  8  9 10 11]]\n",
      "[ 0  1  2  3  4  5  6  7  8  9 10 11]\n"
     ]
    }
   ],
   "source": [
    "# change the shape of an array and return a copy\n",
    "arr=np.array(range(12))\n",
    "print(arr.reshape(2,6))\n",
    "print(arr)"
   ]
  },
  {
   "cell_type": "code",
   "execution_count": 201,
   "id": "cacb881e",
   "metadata": {},
   "outputs": [
    {
     "data": {
      "text/plain": [
       "array([[ 0,  1,  2,  3,  4,  5],\n",
       "       [ 6,  7,  8,  9, 10, 11]])"
      ]
     },
     "execution_count": 201,
     "metadata": {},
     "output_type": "execute_result"
    }
   ],
   "source": [
    "# change the shape of an array in place\n",
    "arr.resize((2,6))\n",
    "arr"
   ]
  },
  {
   "cell_type": "markdown",
   "id": "308a1227",
   "metadata": {},
   "source": [
    "# flatten an array"
   ]
  },
  {
   "cell_type": "code",
   "execution_count": 202,
   "id": "1a547e7d",
   "metadata": {},
   "outputs": [
    {
     "name": "stdout",
     "output_type": "stream",
     "text": [
      "[  0   1 100   3   4   5   6   7   8   9  10  11]\n",
      "[[ 0  1  2  3  4  5]\n",
      " [ 6  7  8  9 10 11]]\n"
     ]
    }
   ],
   "source": [
    "x=arr.flatten() # return a copy\n",
    "x[2]=100\n",
    "print(x)\n",
    "print(arr)"
   ]
  },
  {
   "cell_type": "code",
   "execution_count": 203,
   "id": "93c0d7d7",
   "metadata": {},
   "outputs": [
    {
     "name": "stdout",
     "output_type": "stream",
     "text": [
      "[  0   1 100   3   4   5   6   7   8   9  10  11]\n",
      "[[  0   1 100   3   4   5]\n",
      " [  6   7   8   9  10  11]]\n"
     ]
    }
   ],
   "source": [
    "# change any element in the view will change the initial array\n",
    "y=arr.ravel()   # return a view\n",
    "y[2]=100\n",
    "print(y)\n",
    "print(arr)"
   ]
  },
  {
   "cell_type": "markdown",
   "id": "48ddc6f7",
   "metadata": {},
   "source": [
    "# append elements to an array"
   ]
  },
  {
   "cell_type": "code",
   "execution_count": 204,
   "id": "bc28dd9f",
   "metadata": {},
   "outputs": [
    {
     "name": "stdout",
     "output_type": "stream",
     "text": [
      "[1 2 3 4]\n"
     ]
    }
   ],
   "source": [
    "arr = np.array([1,2,3])\n",
    "# append a scalar and return a copy\n",
    "arr1 = np.append(arr, 4)    \n",
    "print(arr1)"
   ]
  },
  {
   "cell_type": "code",
   "execution_count": 205,
   "id": "586e9c9b",
   "metadata": {},
   "outputs": [
    {
     "name": "stdout",
     "output_type": "stream",
     "text": [
      "[1 2 3 4 5 6]\n"
     ]
    }
   ],
   "source": [
    "# append an array and return a copy\n",
    "arr2 = np.append(arr, [4,5,6])    \n",
    "print(arr2)"
   ]
  },
  {
   "cell_type": "code",
   "execution_count": 206,
   "id": "ae361e36",
   "metadata": {},
   "outputs": [
    {
     "name": "stdout",
     "output_type": "stream",
     "text": [
      "[1, 2, 3, 4, 5, 6]\n"
     ]
    }
   ],
   "source": [
    "L1=[1,2,3]\n",
    "L2=[4,5,6]\n",
    "L1.extend(L2)\n",
    "print(L1)"
   ]
  },
  {
   "cell_type": "markdown",
   "id": "b57f69a0",
   "metadata": {},
   "source": [
    "# Insert elements into an array"
   ]
  },
  {
   "cell_type": "code",
   "execution_count": 214,
   "id": "e0d0491a",
   "metadata": {},
   "outputs": [
    {
     "name": "stdout",
     "output_type": "stream",
     "text": [
      "[1 2 3]\n",
      "[100   1   2   3]\n"
     ]
    }
   ],
   "source": [
    "# np.insert(array, position, element)\n",
    "# insert a scalar at a certain position\n",
    "print(arr)\n",
    "arr3 = np.insert(arr, 0, 100)    \n",
    "print(arr3)"
   ]
  },
  {
   "cell_type": "code",
   "execution_count": 215,
   "id": "49c54a3c",
   "metadata": {},
   "outputs": [
    {
     "name": "stdout",
     "output_type": "stream",
     "text": [
      "[1 2 3 1 2 3]\n"
     ]
    }
   ],
   "source": [
    "# insert multiple values at a certain position\n",
    "arr3 = np.insert(arr, 0, [1,2,3])    \n",
    "print(arr3)"
   ]
  },
  {
   "cell_type": "markdown",
   "id": "a6cc78f6",
   "metadata": {},
   "source": [
    "# delete elements from an array"
   ]
  },
  {
   "cell_type": "code",
   "execution_count": 216,
   "id": "a49dcd99",
   "metadata": {},
   "outputs": [
    {
     "name": "stdout",
     "output_type": "stream",
     "text": [
      "[2 3]\n"
     ]
    }
   ],
   "source": [
    "# remove the element at position 0\n",
    "arr4 = np.delete(arr, 0)    \n",
    "print(arr4)"
   ]
  },
  {
   "cell_type": "code",
   "execution_count": 217,
   "id": "0caa9e68",
   "metadata": {},
   "outputs": [
    {
     "name": "stdout",
     "output_type": "stream",
     "text": [
      "[2]\n"
     ]
    }
   ],
   "source": [
    "# remove the element at multiple positions\n",
    "arr4 = np.delete(arr, [0,2])    \n",
    "print(arr4)"
   ]
  },
  {
   "cell_type": "markdown",
   "id": "14dd21e5",
   "metadata": {},
   "source": [
    "# Copy an array"
   ]
  },
  {
   "cell_type": "code",
   "execution_count": 218,
   "id": "a0d21fea",
   "metadata": {},
   "outputs": [],
   "source": [
    "arr = np.array([1,2,3])"
   ]
  },
  {
   "cell_type": "code",
   "execution_count": 219,
   "id": "e60e2fac",
   "metadata": {},
   "outputs": [
    {
     "name": "stdout",
     "output_type": "stream",
     "text": [
      "[1 2 3]\n"
     ]
    }
   ],
   "source": [
    "# the following methods are all deep copy\n",
    "arr1 = np.copy(arr)\n",
    "# or \n",
    "arr1 = arr.copy()\n",
    "# or \n",
    "arr1 = np.array(arr, copy=True)\n",
    "arr1[1]=20\n",
    "print(arr)"
   ]
  },
  {
   "cell_type": "markdown",
   "id": "6babfa7c",
   "metadata": {},
   "source": [
    "# Combine & Split an Array"
   ]
  },
  {
   "cell_type": "code",
   "execution_count": 220,
   "id": "75ce72d6",
   "metadata": {},
   "outputs": [],
   "source": [
    "arr1 = np.array([[1,2,3,4], [1,2,3,4]])\n",
    "arr2 = np.array([[5,6,7,8], [5,6,7,8]])"
   ]
  },
  {
   "cell_type": "code",
   "execution_count": 221,
   "id": "dba6f5d0",
   "metadata": {},
   "outputs": [
    {
     "name": "stdout",
     "output_type": "stream",
     "text": [
      "[[1 2 3 4]\n",
      " [1 2 3 4]\n",
      " [5 6 7 8]\n",
      " [5 6 7 8]]\n"
     ]
    }
   ],
   "source": [
    "# concat along the row\n",
    "cat = np.concatenate((arr1, arr2), axis=0)        \n",
    "print(cat)"
   ]
  },
  {
   "cell_type": "code",
   "execution_count": 222,
   "id": "150867da",
   "metadata": {},
   "outputs": [
    {
     "name": "stdout",
     "output_type": "stream",
     "text": [
      "[[1 2 3 4 5 6 7 8]\n",
      " [1 2 3 4 5 6 7 8]]\n"
     ]
    }
   ],
   "source": [
    "# concat along the column\n",
    "cat = np.concatenate((arr1, arr2), axis=1)    \n",
    "print(cat)"
   ]
  },
  {
   "cell_type": "code",
   "execution_count": 223,
   "id": "e69fa83a",
   "metadata": {},
   "outputs": [
    {
     "name": "stdout",
     "output_type": "stream",
     "text": [
      "[[1 2 3 4]\n",
      " [1 2 3 4]\n",
      " [5 6 7 8]\n",
      " [5 6 7 8]]\n"
     ]
    }
   ],
   "source": [
    "# stack arrays vertically\n",
    "cat = np.vstack((arr1, arr2))\n",
    "print(cat)"
   ]
  },
  {
   "cell_type": "code",
   "execution_count": 224,
   "id": "48e19837",
   "metadata": {},
   "outputs": [
    {
     "name": "stdout",
     "output_type": "stream",
     "text": [
      "[[1 2 3 4]\n",
      " [1 2 3 4]\n",
      " [5 6 7 8]\n",
      " [5 6 7 8]]\n"
     ]
    }
   ],
   "source": [
    "# stack arrays vertically\n",
    "cat = np.r_[arr1, arr2]\n",
    "print(cat)"
   ]
  },
  {
   "cell_type": "code",
   "execution_count": 225,
   "id": "cd420ceb",
   "metadata": {},
   "outputs": [
    {
     "name": "stdout",
     "output_type": "stream",
     "text": [
      "[[1 2 3 4 5 6 7 8]\n",
      " [1 2 3 4 5 6 7 8]]\n"
     ]
    }
   ],
   "source": [
    "# stack arrays horizontally\n",
    "cat = np.hstack((arr1, arr2))\n",
    "print(cat)"
   ]
  },
  {
   "cell_type": "code",
   "execution_count": 226,
   "id": "40f8bab3",
   "metadata": {},
   "outputs": [
    {
     "name": "stdout",
     "output_type": "stream",
     "text": [
      "[[1 2 3 4 5 6 7 8]\n",
      " [1 2 3 4 5 6 7 8]]\n"
     ]
    }
   ],
   "source": [
    "# stack arrays horizontally\n",
    "cat = np.c_[arr1, arr2]\n",
    "print(cat)"
   ]
  },
  {
   "cell_type": "markdown",
   "id": "67497551",
   "metadata": {},
   "source": [
    "# Split an array"
   ]
  },
  {
   "cell_type": "code",
   "execution_count": 227,
   "id": "b6f894f9",
   "metadata": {},
   "outputs": [],
   "source": [
    "arr = np.random.rand(4,4)"
   ]
  },
  {
   "cell_type": "code",
   "execution_count": 228,
   "id": "c2e22c38",
   "metadata": {},
   "outputs": [
    {
     "name": "stdout",
     "output_type": "stream",
     "text": [
      "[array([[0.01414381, 0.847647  , 0.92191986, 0.55052969],\n",
      "       [0.26802112, 0.990239  , 0.38319403, 0.69365539]]), array([[0.68995255, 0.43430906, 0.19915816, 0.96657938],\n",
      "       [0.06369086, 0.48514939, 0.22073071, 0.29397413]])]\n"
     ]
    }
   ],
   "source": [
    "# split the array vertically into n evenly spaced chunks\n",
    "arr1 = np.vsplit(arr, 2)\n",
    "print(arr1)"
   ]
  },
  {
   "cell_type": "code",
   "execution_count": 229,
   "id": "becbdf55",
   "metadata": {},
   "outputs": [
    {
     "name": "stdout",
     "output_type": "stream",
     "text": [
      "[array([[0.01414381, 0.847647  ],\n",
      "       [0.26802112, 0.990239  ],\n",
      "       [0.68995255, 0.43430906],\n",
      "       [0.06369086, 0.48514939]]), array([[0.92191986, 0.55052969],\n",
      "       [0.38319403, 0.69365539],\n",
      "       [0.19915816, 0.96657938],\n",
      "       [0.22073071, 0.29397413]])]\n"
     ]
    }
   ],
   "source": [
    "# split the array horizontally into n evenly spaced chunks\n",
    "arr2 = np.hsplit(arr, 2)\n",
    "print(arr2)"
   ]
  },
  {
   "cell_type": "markdown",
   "id": "e21c4bdb",
   "metadata": {},
   "source": [
    "# Set Operations\n",
    "Select the unique elements from an array\n",
    "\n"
   ]
  },
  {
   "cell_type": "code",
   "execution_count": 230,
   "id": "9e93baa5",
   "metadata": {},
   "outputs": [
    {
     "name": "stdout",
     "output_type": "stream",
     "text": [
      "[1 2 3 4 5 6]\n"
     ]
    }
   ],
   "source": [
    "arr = np.array([1,1,2,2,3,3,4,5,6])\n",
    "print(np.unique(arr))"
   ]
  },
  {
   "cell_type": "code",
   "execution_count": 231,
   "id": "e7153bf9",
   "metadata": {},
   "outputs": [
    {
     "name": "stdout",
     "output_type": "stream",
     "text": [
      "[1 2 3 4 5 6]\n",
      "[2 2 2 1 1 1]\n"
     ]
    }
   ],
   "source": [
    "# return the number of times each unique item appears\n",
    "arr = np.array([1,1,2,2,3,3,4,5,6])\n",
    "uniques, counts = np.unique(arr, return_counts=True)\n",
    "print(uniques)\n",
    "print(counts)"
   ]
  },
  {
   "cell_type": "markdown",
   "id": "a6b7484d",
   "metadata": {},
   "source": [
    "# Intersection & union of two arrays"
   ]
  },
  {
   "cell_type": "code",
   "execution_count": 232,
   "id": "09e14387",
   "metadata": {},
   "outputs": [],
   "source": [
    "arr1 = np.array([1,2,3,4,5])\n",
    "arr2 = np.array([3,4,5,6,7])"
   ]
  },
  {
   "cell_type": "code",
   "execution_count": 233,
   "id": "9c075abe",
   "metadata": {},
   "outputs": [
    {
     "name": "stdout",
     "output_type": "stream",
     "text": [
      "[3 4 5]\n"
     ]
    }
   ],
   "source": [
    "# intersection\n",
    "print(np.intersect1d(arr1, arr2))"
   ]
  },
  {
   "cell_type": "code",
   "execution_count": 234,
   "id": "a3b69080",
   "metadata": {},
   "outputs": [
    {
     "name": "stdout",
     "output_type": "stream",
     "text": [
      "[1 2 3 4 5 6 7]\n"
     ]
    }
   ],
   "source": [
    "# union\n",
    "print(np.union1d(arr1, arr2))"
   ]
  },
  {
   "cell_type": "markdown",
   "id": "b2375f7a",
   "metadata": {},
   "source": [
    "# Compute whether each element of an array is contained in another\n"
   ]
  },
  {
   "cell_type": "code",
   "execution_count": 239,
   "id": "572474eb",
   "metadata": {},
   "outputs": [
    {
     "name": "stdout",
     "output_type": "stream",
     "text": [
      "[ True  True  True False False]\n"
     ]
    }
   ],
   "source": [
    "print(np.in1d([1,2,3,4,5], [1,2,3]))"
   ]
  },
  {
   "cell_type": "code",
   "execution_count": 240,
   "id": "4cb6cede",
   "metadata": {},
   "outputs": [
    {
     "name": "stdout",
     "output_type": "stream",
     "text": [
      "[[False False False False False]\n",
      " [False  True  True  True  True]]\n"
     ]
    }
   ],
   "source": [
    "# preserve the shape of the array in the output, if the array is of higher dimensions\n",
    "arr1=np.array(range(10)).reshape(2,5)\n",
    "arr2=np.array(range(6,15))\n",
    "print(np.isin(arr1, arr2))"
   ]
  },
  {
   "cell_type": "markdown",
   "id": "d7d1a836",
   "metadata": {},
   "source": [
    "# Compute the elements in an array that are not in another"
   ]
  },
  {
   "cell_type": "code",
   "execution_count": 241,
   "id": "dd95b9cb",
   "metadata": {},
   "outputs": [
    {
     "name": "stdout",
     "output_type": "stream",
     "text": [
      "Array1:\n",
      " [0 1 2 3 4 5 6 7 8 9]\n",
      "Array2:\n",
      " [ 6  7  8  9 10 11 12 13 14]\n",
      "[0 1 2 3 4 5]\n"
     ]
    }
   ],
   "source": [
    "print(\"Array1:\\n\",arr1.flatten())\n",
    "print(\"Array2:\\n\",arr2)\n",
    "print(np.setdiff1d(arr1, arr2))"
   ]
  },
  {
   "cell_type": "markdown",
   "id": "3b407e47",
   "metadata": {},
   "source": [
    "# Compute the elements in either of two arrays, but not both"
   ]
  },
  {
   "cell_type": "code",
   "execution_count": 242,
   "id": "3fa769db",
   "metadata": {},
   "outputs": [
    {
     "name": "stdout",
     "output_type": "stream",
     "text": [
      "[ 0  1  2  3  4  5 10 11 12 13 14]\n"
     ]
    }
   ],
   "source": [
    "print(np.setxor1d(arr1, arr2))"
   ]
  },
  {
   "cell_type": "markdown",
   "id": "8ed043d0",
   "metadata": {},
   "source": [
    "# Linear Algebra"
   ]
  },
  {
   "cell_type": "code",
   "execution_count": 243,
   "id": "799c6094",
   "metadata": {},
   "outputs": [
    {
     "name": "stdout",
     "output_type": "stream",
     "text": [
      "[[0 1]\n",
      " [2 3]]\n",
      "[[5 6]\n",
      " [7 8]]\n"
     ]
    }
   ],
   "source": [
    "arr1 = np.array(range(4)).reshape(2,2)\n",
    "arr2 = np.array(range(5,9)).reshape(2,2)\n",
    "print(arr1)\n",
    "print(arr2)"
   ]
  },
  {
   "cell_type": "markdown",
   "id": "62c3dcf8",
   "metadata": {},
   "source": [
    "# Matrix Multiplication"
   ]
  },
  {
   "cell_type": "code",
   "execution_count": 244,
   "id": "0963de32",
   "metadata": {},
   "outputs": [
    {
     "name": "stdout",
     "output_type": "stream",
     "text": [
      "[[ 7  8]\n",
      " [31 36]]\n",
      "[[ 7  8]\n",
      " [31 36]]\n",
      "[[ 7  8]\n",
      " [31 36]]\n"
     ]
    }
   ],
   "source": [
    "print(arr1.dot(arr2))# or\n",
    "print(np.dot(arr1, arr2))# or\n",
    "print(arr1 @ arr2)"
   ]
  },
  {
   "cell_type": "markdown",
   "id": "c00df6ec",
   "metadata": {},
   "source": [
    "# QR Factorization"
   ]
  },
  {
   "cell_type": "code",
   "execution_count": 245,
   "id": "713e03f7",
   "metadata": {},
   "outputs": [
    {
     "name": "stdout",
     "output_type": "stream",
     "text": [
      "q:\n",
      " [[-0.9949781 -0.1000929]\n",
      " [-0.1000929  0.9949781]]\n",
      "r:\n",
      " [[-0.83270911 -0.38507033]\n",
      " [ 0.          0.15856248]]\n",
      "Matrix:\n",
      " [[0.82852732 0.36726556]\n",
      " [0.08334827 0.19630901]]\n",
      "qr :\n",
      " [[0.82852732 0.36726556]\n",
      " [0.08334827 0.19630901]]\n"
     ]
    }
   ],
   "source": [
    "arr = np.random.rand(2,2)\n",
    "q, r = np.linalg.qr(arr) # Factor the matrix arr as qr, where q is orthonormal and r is upper-triangular.\n",
    "print(\"q:\\n\",q)\n",
    "print(\"r:\\n\",r)\n",
    "print(\"Matrix:\\n\",arr)\n",
    "print(\"qr :\\n\",q.dot(r))"
   ]
  },
  {
   "cell_type": "markdown",
   "id": "0235e705",
   "metadata": {},
   "source": [
    "# Singular Value Decomposition (SVD)"
   ]
  },
  {
   "cell_type": "code",
   "execution_count": 246,
   "id": "f15fe1f0",
   "metadata": {},
   "outputs": [
    {
     "name": "stdout",
     "output_type": "stream",
     "text": [
      "u\n",
      " [[-0.87978277 -0.47537593]\n",
      " [-0.47537593  0.87978277]]\n",
      "s\n",
      " [1.47511773 0.21644214]\n",
      "v\n",
      " [[-0.5995006 -0.8003743]\n",
      " [-0.8003743  0.5995006]]\n"
     ]
    }
   ],
   "source": [
    "arr = np.random.rand(2,2)\n",
    "u, s, v = np.linalg.svd(arr)\n",
    "print(\"u\\n\",u)\n",
    "print(\"s\\n\",s)\n",
    "print(\"v\\n\",v)"
   ]
  },
  {
   "cell_type": "markdown",
   "id": "94fcbc07",
   "metadata": {},
   "source": [
    "# Eigen values"
   ]
  },
  {
   "cell_type": "code",
   "execution_count": 247,
   "id": "da9b299d",
   "metadata": {},
   "outputs": [
    {
     "name": "stdout",
     "output_type": "stream",
     "text": [
      "[16.88536503 -0.86184557 -3.02351946]\n"
     ]
    }
   ],
   "source": [
    "arr = np.random.randint(0,10,(3,3))\n",
    "print(np.linalg.eigvals(arr))"
   ]
  },
  {
   "cell_type": "markdown",
   "id": "8b6dc431",
   "metadata": {},
   "source": [
    "# Eigen value decomposition"
   ]
  },
  {
   "cell_type": "code",
   "execution_count": 248,
   "id": "83b1650c",
   "metadata": {},
   "outputs": [
    {
     "name": "stdout",
     "output_type": "stream",
     "text": [
      "Matrix:\n",
      " [[4 1 3]\n",
      " [5 8 4]\n",
      " [2 8 9]]\n",
      "Eigen Values:  [15.57631803+0.j          2.71184098+2.27264675j  2.71184098-2.27264675j]\n",
      "Eigen Vectors:\n",
      " [[ 0.25129996+0.j          0.1653597 +0.53289295j  0.1653597 -0.53289295j]\n",
      " [ 0.57637918+0.j          0.44957085-0.31064667j  0.44957085+0.31064667j]\n",
      " [ 0.77758303+0.j         -0.62455262+0.j         -0.62455262-0.j        ]]\n"
     ]
    }
   ],
   "source": [
    "arr = np.random.randint(0,10,(3,3))\n",
    "print(\"Matrix:\\n\",arr)\n",
    "e, v = np.linalg.eig(arr)\n",
    "print(\"Eigen Values: \",e)    \n",
    "print(\"Eigen Vectors:\\n\",v)"
   ]
  },
  {
   "cell_type": "markdown",
   "id": "cabed79a",
   "metadata": {},
   "source": [
    "# Trace & Determinant"
   ]
  },
  {
   "cell_type": "code",
   "execution_count": 249,
   "id": "262f0b36",
   "metadata": {},
   "outputs": [
    {
     "name": "stdout",
     "output_type": "stream",
     "text": [
      "21\n"
     ]
    }
   ],
   "source": [
    "# notice this is not a function in linalg!!!\n",
    "print(np.trace(arr))  "
   ]
  },
  {
   "cell_type": "code",
   "execution_count": 250,
   "id": "a5513e8d",
   "metadata": {},
   "outputs": [
    {
     "name": "stdout",
     "output_type": "stream",
     "text": [
      "195.0\n"
     ]
    }
   ],
   "source": [
    "print(np.linalg.det(arr))"
   ]
  },
  {
   "cell_type": "markdown",
   "id": "854ee607",
   "metadata": {},
   "source": [
    "# Inverse/psedo-inverse of a matrix"
   ]
  },
  {
   "cell_type": "code",
   "execution_count": 251,
   "id": "05639978",
   "metadata": {},
   "outputs": [
    {
     "name": "stdout",
     "output_type": "stream",
     "text": [
      "Matrix:\n",
      " [[3 6 2]\n",
      " [9 8 0]\n",
      " [5 0 7]]\n",
      "Inverse of a matrix:\n",
      " [[-0.19310345  0.14482759  0.05517241]\n",
      " [ 0.21724138 -0.03793103 -0.06206897]\n",
      " [ 0.13793103 -0.10344828  0.10344828]]\n"
     ]
    }
   ],
   "source": [
    "arr=np.random.randint(0,10,(3,3))\n",
    "print(\"Matrix:\\n\",arr)\n",
    "print(\"Inverse of a matrix:\\n\",np.linalg.inv(arr))"
   ]
  },
  {
   "cell_type": "code",
   "execution_count": 252,
   "id": "741dc144",
   "metadata": {},
   "outputs": [
    {
     "name": "stdout",
     "output_type": "stream",
     "text": [
      "Psudo-inverse of a matrix:\n",
      " [[-0.19310345  0.14482759  0.05517241]\n",
      " [ 0.21724138 -0.03793103 -0.06206897]\n",
      " [ 0.13793103 -0.10344828  0.10344828]]\n"
     ]
    }
   ],
   "source": [
    "print(\"Psudo-inverse of a matrix:\\n\",np.linalg.pinv(arr))"
   ]
  },
  {
   "cell_type": "markdown",
   "id": "f84a9590",
   "metadata": {},
   "source": [
    "# Solve a Linear System"
   ]
  },
  {
   "cell_type": "code",
   "execution_count": 253,
   "id": "565828e0",
   "metadata": {},
   "outputs": [
    {
     "name": "stdout",
     "output_type": "stream",
     "text": [
      "Matrix:\n",
      " [[3 6 2]\n",
      " [9 8 0]\n",
      " [5 0 7]]\n",
      "[ 0.26206897 -0.04482759  0.24137931]\n"
     ]
    }
   ],
   "source": [
    "# Solve a linear system in closed form\n",
    "\n",
    "print(\"Matrix:\\n\",arr)\n",
    "y = [1,2,3]\n",
    "print(np.linalg.solve(arr, y))"
   ]
  },
  {
   "cell_type": "code",
   "execution_count": 254,
   "id": "31c645c3",
   "metadata": {},
   "outputs": [],
   "source": [
    "# Calculate the least-squares solution of a linear system"
   ]
  },
  {
   "cell_type": "code",
   "execution_count": 256,
   "id": "dfa526c2",
   "metadata": {},
   "outputs": [
    {
     "name": "stdout",
     "output_type": "stream",
     "text": [
      "[0.27586207 0.18965517 0.51724138]\n",
      "[]\n",
      "3\n",
      "[14.40230742  7.27397624  2.76817819]\n"
     ]
    },
    {
     "name": "stderr",
     "output_type": "stream",
     "text": [
      "C:\\Users\\FLUTE\\AppData\\Local\\Temp/ipykernel_12192/1258724668.py:2: FutureWarning: `rcond` parameter will change to the default of machine precision times ``max(M, N)`` where M and N are the input matrix dimensions.\n",
      "To use the future default and silence this warning we advise to pass `rcond=None`, to keep using the old, explicitly pass `rcond=-1`.\n",
      "  solution, residuals, rank, singular = np.linalg.lstsq(arr, y)\n"
     ]
    }
   ],
   "source": [
    "y = [3,4,5]\n",
    "solution, residuals, rank, singular = np.linalg.lstsq(arr, y)\n",
    "print(solution)\n",
    "print(residuals)\n",
    "print(rank)\n",
    "print(singular)"
   ]
  }
 ],
 "metadata": {
  "kernelspec": {
   "display_name": "Python 3 (ipykernel)",
   "language": "python",
   "name": "python3"
  },
  "language_info": {
   "codemirror_mode": {
    "name": "ipython",
    "version": 3
   },
   "file_extension": ".py",
   "mimetype": "text/x-python",
   "name": "python",
   "nbconvert_exporter": "python",
   "pygments_lexer": "ipython3",
   "version": "3.9.7"
  }
 },
 "nbformat": 4,
 "nbformat_minor": 5
}
