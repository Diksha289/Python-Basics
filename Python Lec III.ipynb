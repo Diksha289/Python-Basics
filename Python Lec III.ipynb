{
 "cells": [
  {
   "cell_type": "markdown",
   "id": "e8120759",
   "metadata": {},
   "source": [
    "Content : \n",
    "          \n",
    "          1.Python Fuction Excercises\n",
    "\n",
    "          2.Linear algebra\n",
    "          \n",
    "          3.Data Visualisation using Matplotlib\n",
    "          \n",
    "          4.Simple random data\n",
    "          \n",
    "          5. Permutations\n",
    "          \n",
    "          6.Distributions\n",
    "          \n",
    "          \n",
    "# 1.Python Function Excercises\n",
    "\n",
    "    1.How to define and call a function in Python\n",
    "    2.Significance of Indentation (Space) in Python\n",
    "    3.How Function Return Value?\n",
    "    4.Arguments in Functions\n",
    "\n",
    "   1. Write a Python function to find the Max of three numbers.\n",
    "\n"
   ]
  },
  {
   "cell_type": "code",
   "execution_count": 1,
   "id": "72f19887",
   "metadata": {},
   "outputs": [
    {
     "data": {
      "text/plain": [
       "['P', 'r', 'a', 'f', 'u', 'l']"
      ]
     },
     "execution_count": 1,
     "metadata": {},
     "output_type": "execute_result"
    }
   ],
   "source": [
    "def maxi(studentname):\n",
    "    a=[]\n",
    "    for char in studentname:\n",
    "        a.append(char)\n",
    "    return a\n",
    "\n",
    "maxi('Praful')"
   ]
  },
  {
   "cell_type": "code",
   "execution_count": 2,
   "id": "e6cd3883",
   "metadata": {},
   "outputs": [
    {
     "data": {
      "text/plain": [
       "18"
      ]
     },
     "execution_count": 2,
     "metadata": {},
     "output_type": "execute_result"
    }
   ],
   "source": [
    "def fun1(x):\n",
    "    return x**2+2*x+3\n",
    "\n",
    "fun1(3)"
   ]
  },
  {
   "cell_type": "code",
   "execution_count": 3,
   "id": "a18cfc27",
   "metadata": {},
   "outputs": [
    {
     "data": {
      "text/plain": [
       "(6, 8, 10)"
      ]
     },
     "execution_count": 3,
     "metadata": {},
     "output_type": "execute_result"
    }
   ],
   "source": [
    "def assign2(a,b,c):\n",
    "    a=2*a\n",
    "    b=2*b\n",
    "    c*=2\n",
    "    return a,b,c\n",
    "\n",
    "assign2(3,4,5)"
   ]
  },
  {
   "cell_type": "code",
   "execution_count": 4,
   "id": "49c8b89c",
   "metadata": {},
   "outputs": [
    {
     "data": {
      "text/plain": [
       "[6, 8, 10]"
      ]
     },
     "execution_count": 4,
     "metadata": {},
     "output_type": "execute_result"
    }
   ],
   "source": [
    "def applist(list1,f):\n",
    "    return [f(i) for i in list1]\n",
    "\n",
    "l1=[3,4,5]\n",
    "\n",
    "applist(l1,lambda x: x*2)"
   ]
  },
  {
   "cell_type": "markdown",
   "id": "250e12a0",
   "metadata": {},
   "source": [
    "# 2.Linear Algebra\n",
    "Import Libraries"
   ]
  },
  {
   "cell_type": "code",
   "execution_count": 5,
   "id": "6319553d",
   "metadata": {},
   "outputs": [],
   "source": [
    "#import numpy   # numpy.fun()\n",
    "import numpy as np # np.fun()\n",
    "#from numpy import * # fun()"
   ]
  },
  {
   "cell_type": "code",
   "execution_count": 6,
   "id": "e2c24cad",
   "metadata": {},
   "outputs": [
    {
     "data": {
      "text/plain": [
       "array([[1, 2, 3],\n",
       "       [4, 5, 6],\n",
       "       [7, 8, 9]])"
      ]
     },
     "execution_count": 6,
     "metadata": {},
     "output_type": "execute_result"
    }
   ],
   "source": [
    "M= np.array([[1,2,3],[4,5,6],[7,8,9]])\n",
    "M"
   ]
  },
  {
   "cell_type": "code",
   "execution_count": 7,
   "id": "44b5e472",
   "metadata": {},
   "outputs": [
    {
     "name": "stdout",
     "output_type": "stream",
     "text": [
      "Matrix is Square\n"
     ]
    }
   ],
   "source": [
    "m,n=M.shape\n",
    "if m==n:\n",
    "    print('Matrix is Square')\n",
    "else:\n",
    "    print('Matrix is not Square')"
   ]
  },
  {
   "cell_type": "code",
   "execution_count": 8,
   "id": "553eeec4",
   "metadata": {},
   "outputs": [
    {
     "name": "stdout",
     "output_type": "stream",
     "text": [
      "Matrix is idempotent.\n"
     ]
    }
   ],
   "source": [
    "M3=np.array([[2,-2,-4],[-1,3,4],[1,-2,-3]])\n",
    "M4=np.linalg.matrix_power(M3,2)\n",
    "if (M4==M3).all():\n",
    "    print('Matrix is idempotent.')\n",
    "else:\n",
    "    print('Matrix is not idempotent.')"
   ]
  },
  {
   "cell_type": "code",
   "execution_count": 9,
   "id": "1e9b005e",
   "metadata": {},
   "outputs": [
    {
     "name": "stdout",
     "output_type": "stream",
     "text": [
      "Matrix is not Symmetric.\n"
     ]
    }
   ],
   "source": [
    "if (M3==M3.T).all():\n",
    "    print('Matrix is Symmetric.')\n",
    "else:\n",
    "    print('Matrix is not Symmetric.')"
   ]
  },
  {
   "cell_type": "code",
   "execution_count": 10,
   "id": "6943045f",
   "metadata": {},
   "outputs": [
    {
     "name": "stdout",
     "output_type": "stream",
     "text": [
      "Matrix is Orthogonal.\n"
     ]
    }
   ],
   "source": [
    "M= np.array([[1,0,0],[0,0,-1],[0,-1,0]])\n",
    "if np.linalg.det(M)!=0:\n",
    "    if (np.linalg.inv(M)==M.T).all():\n",
    "        print('Matrix is Orthogonal.')\n",
    "    else:\n",
    "        print('Matrix is not Orthogonal.')"
   ]
  },
  {
   "cell_type": "code",
   "execution_count": 11,
   "id": "91c03ce3",
   "metadata": {},
   "outputs": [
    {
     "name": "stdout",
     "output_type": "stream",
     "text": [
      "Indefinite\n"
     ]
    }
   ],
   "source": [
    "Ev=np.linalg.eigvals(M)\n",
    "\n",
    "if np.all(Ev>0):\n",
    "    print('Positive Def')\n",
    "elif np.all(Ev>=0):\n",
    "    print('Positive Semi Def')\n",
    "elif np.all(Ev<0):\n",
    "    print('Negative Def')\n",
    "elif np.all(Ev<=0):\n",
    "    print('Negative Semi Def')\n",
    "else:\n",
    "    print('Indefinite')"
   ]
  },
  {
   "cell_type": "code",
   "execution_count": 12,
   "id": "2ec571de",
   "metadata": {},
   "outputs": [],
   "source": [
    "## Cramer's Rule"
   ]
  },
  {
   "cell_type": "code",
   "execution_count": 13,
   "id": "017f0d5c",
   "metadata": {},
   "outputs": [
    {
     "data": {
      "text/plain": [
       "[2.0000000000000013, 2.9999999999999996, -3.999999999999999]"
      ]
     },
     "execution_count": 13,
     "metadata": {},
     "output_type": "execute_result"
    }
   ],
   "source": [
    "A=np.array([[2,-1,1],[1,1,-3],[5,-2,-4]])\n",
    "B=np.array([-3,17,20])\n",
    "row, col=A.shape\n",
    "x=[0]*col\n",
    "for i in range(col):\n",
    "    temp=A.copy()\n",
    "    temp[:,i]=B\n",
    "    x[i]=np.linalg.det(temp)/np.linalg.det(A)\n",
    "x"
   ]
  },
  {
   "cell_type": "code",
   "execution_count": 14,
   "id": "cba314b0",
   "metadata": {},
   "outputs": [],
   "source": [
    "# G Inverse"
   ]
  },
  {
   "cell_type": "code",
   "execution_count": 15,
   "id": "6b09e558",
   "metadata": {},
   "outputs": [
    {
     "data": {
      "text/plain": [
       "2"
      ]
     },
     "execution_count": 15,
     "metadata": {},
     "output_type": "execute_result"
    }
   ],
   "source": [
    "M= np.array([[1,2,3],[4,5,6],[7,8,9]])\n",
    "np.linalg.det(M)\n",
    "np.linalg.matrix_rank(M)"
   ]
  },
  {
   "cell_type": "code",
   "execution_count": 16,
   "id": "b7fe129d",
   "metadata": {},
   "outputs": [
    {
     "data": {
      "text/plain": [
       "array([[1, 3],\n",
       "       [7, 9]])"
      ]
     },
     "execution_count": 16,
     "metadata": {},
     "output_type": "execute_result"
    }
   ],
   "source": [
    "M[np.ix_([0,2],[0,2])]"
   ]
  },
  {
   "cell_type": "markdown",
   "id": "0312cb2c",
   "metadata": {},
   "source": [
    "# Matrix and vector products"
   ]
  },
  {
   "cell_type": "code",
   "execution_count": 18,
   "id": "ac8c9301",
   "metadata": {},
   "outputs": [
    {
     "name": "stdout",
     "output_type": "stream",
     "text": [
      "[[1 0]\n",
      " [0 1]]\n",
      "[[4 1]\n",
      " [2 2]]\n"
     ]
    }
   ],
   "source": [
    "a = np.array([[1, 0], [0, 1]]) # np.eye(2)\n",
    "b = np.array([[4, 1], \n",
    "              [2, 2]])\n",
    "print(a)\n",
    "print(b)"
   ]
  },
  {
   "cell_type": "code",
   "execution_count": 19,
   "id": "cfac29d9",
   "metadata": {},
   "outputs": [
    {
     "data": {
      "text/plain": [
       "array([[4, 0],\n",
       "       [0, 2]])"
      ]
     },
     "execution_count": 19,
     "metadata": {},
     "output_type": "execute_result"
    }
   ],
   "source": [
    "\n",
    "\n",
    "a*b\n",
    "\n"
   ]
  },
  {
   "cell_type": "markdown",
   "id": "7c551c33",
   "metadata": {},
   "source": [
    "# Dot product of two arrays."
   ]
  },
  {
   "cell_type": "code",
   "execution_count": 20,
   "id": "7f449111",
   "metadata": {},
   "outputs": [
    {
     "data": {
      "text/plain": [
       "array([[4, 1],\n",
       "       [2, 2]])"
      ]
     },
     "execution_count": 20,
     "metadata": {},
     "output_type": "execute_result"
    }
   ],
   "source": [
    "np.dot(a, b)"
   ]
  },
  {
   "cell_type": "code",
   "execution_count": 21,
   "id": "9257a9b4",
   "metadata": {},
   "outputs": [
    {
     "name": "stdout",
     "output_type": "stream",
     "text": [
      "[[0.98785502 0.86364848]\n",
      " [0.10142069 0.69484886]]\n",
      "[[0.14541604 0.06819956 0.88689411]\n",
      " [0.46872785 0.35358025 0.18139633]]\n"
     ]
    },
    {
     "data": {
      "text/plain": [
       "array([[2.00030826, 2.47946952, 2.81781595],\n",
       "       [0.73213987, 1.04223148, 1.15392922]])"
      ]
     },
     "execution_count": 21,
     "metadata": {},
     "output_type": "execute_result"
    }
   ],
   "source": [
    "#Compute the dot product of two or more arrays in a single function call, while automatically selecting the fastest evaluation order.\n",
    "A = np.random.random((2, 2))\n",
    "B = np.random.random((2, 3))\n",
    "C = np.random.random((3, 4))\n",
    "D = np.random.random((4, 3))\n",
    "# the actual dot multiplication\n",
    "print(A)\n",
    "print(B)\n",
    "np.linalg.multi_dot([A, B, C, D])\n",
    "# OR\n",
    "# np.dot(np.dot(np.dot(A, B), C), D)\n",
    "# OR\n",
    "# A.dot(B).dot(C).dot(D)"
   ]
  },
  {
   "cell_type": "code",
   "execution_count": 22,
   "id": "51f726dc",
   "metadata": {},
   "outputs": [],
   "source": [
    "# np.dot(B,A) # shapes (2,3) and (2,2) not aligned: 3 (dim 1) != 2 (dim 0)"
   ]
  },
  {
   "cell_type": "code",
   "execution_count": 23,
   "id": "0c3c1c6a",
   "metadata": {},
   "outputs": [
    {
     "data": {
      "text/plain": [
       "25"
      ]
     },
     "execution_count": 23,
     "metadata": {},
     "output_type": "execute_result"
    }
   ],
   "source": [
    "#Return the dot product of two vectors.\n",
    "a = np.array([[1,4],\n",
    "              [4,2]])\n",
    "b = np.array([[3, 2],\n",
    "              [2,3]])\n",
    "np.vdot(a, b)"
   ]
  },
  {
   "cell_type": "code",
   "execution_count": 24,
   "id": "8aebbca6",
   "metadata": {},
   "outputs": [
    {
     "data": {
      "text/plain": [
       "25"
      ]
     },
     "execution_count": 24,
     "metadata": {},
     "output_type": "execute_result"
    }
   ],
   "source": [
    "1*3+4*2+4*2+2*3"
   ]
  },
  {
   "cell_type": "code",
   "execution_count": 25,
   "id": "fe5d7126",
   "metadata": {},
   "outputs": [
    {
     "data": {
      "text/plain": [
       "11"
      ]
     },
     "execution_count": 25,
     "metadata": {},
     "output_type": "execute_result"
    }
   ],
   "source": [
    "a=np.array([1,2])\n",
    "b=np.array([3,4])\n",
    "np.vdot(a,b)"
   ]
  },
  {
   "cell_type": "code",
   "execution_count": 26,
   "id": "17735a86",
   "metadata": {},
   "outputs": [
    {
     "name": "stdout",
     "output_type": "stream",
     "text": [
      "[1 2]\n",
      "[3 4]\n"
     ]
    },
    {
     "data": {
      "text/plain": [
       "11"
      ]
     },
     "execution_count": 26,
     "metadata": {},
     "output_type": "execute_result"
    }
   ],
   "source": [
    "#Inner product of two arrays. Matrix Multiplication\n",
    "print(a)\n",
    "print(b)\n",
    "np.inner(a, b)"
   ]
  },
  {
   "cell_type": "code",
   "execution_count": 27,
   "id": "5582a6d4",
   "metadata": {},
   "outputs": [
    {
     "name": "stdout",
     "output_type": "stream",
     "text": [
      "[1 2]\n",
      "[[2 3]\n",
      " [5 2]]\n"
     ]
    },
    {
     "data": {
      "text/plain": [
       "array([[ 2,  3,  5,  2],\n",
       "       [ 4,  6, 10,  4]])"
      ]
     },
     "execution_count": 27,
     "metadata": {},
     "output_type": "execute_result"
    }
   ],
   "source": [
    "#Compute the outer product of two vectors.\n",
    "a=np.array([1,2])\n",
    "b=np.array([[2,3],[5,2]])\n",
    "print(a)\n",
    "print(b)\n",
    "np.outer(a, b)"
   ]
  },
  {
   "cell_type": "code",
   "execution_count": 28,
   "id": "141b0a29",
   "metadata": {},
   "outputs": [
    {
     "data": {
      "text/plain": [
       "array([[4, 1, 2],\n",
       "       [2, 2, 3]])"
      ]
     },
     "execution_count": 28,
     "metadata": {},
     "output_type": "execute_result"
    }
   ],
   "source": [
    "#Matrix product of two arrays.\n",
    "a = np.array([[1, 0],\n",
    "              [0, 1]])\n",
    "b = np.array([[4, 1, 2],\n",
    "              [2, 2, 3]])\n",
    "np.matmul(a, b)"
   ]
  },
  {
   "cell_type": "code",
   "execution_count": 29,
   "id": "ad4c88ff",
   "metadata": {},
   "outputs": [
    {
     "data": {
      "text/plain": [
       "array([[4, 1, 2],\n",
       "       [2, 2, 3]])"
      ]
     },
     "execution_count": 29,
     "metadata": {},
     "output_type": "execute_result"
    }
   ],
   "source": [
    "# The @ operator can be used as a shorthand for np.matmul on ndarrays.\n",
    "a@b"
   ]
  },
  {
   "cell_type": "code",
   "execution_count": 30,
   "id": "c71940b6",
   "metadata": {},
   "outputs": [
    {
     "data": {
      "text/plain": [
       "array([[ 7, 10],\n",
       "       [15, 22]])"
      ]
     },
     "execution_count": 30,
     "metadata": {},
     "output_type": "execute_result"
    }
   ],
   "source": [
    "#Raise a square matrix to the (integer) power n.\n",
    "a=np.array([[1,2],[3,4]])\n",
    "np.linalg.matrix_power(a, 2)"
   ]
  },
  {
   "cell_type": "code",
   "execution_count": 31,
   "id": "ed863a66",
   "metadata": {},
   "outputs": [
    {
     "data": {
      "text/plain": [
       "array([[ 7, 10],\n",
       "       [15, 22]])"
      ]
     },
     "execution_count": 31,
     "metadata": {},
     "output_type": "execute_result"
    }
   ],
   "source": [
    "np.matmul(a,a)"
   ]
  },
  {
   "cell_type": "code",
   "execution_count": 32,
   "id": "b2a237e2",
   "metadata": {},
   "outputs": [
    {
     "data": {
      "text/plain": [
       "array([[ 37,  54],\n",
       "       [ 81, 118]])"
      ]
     },
     "execution_count": 32,
     "metadata": {},
     "output_type": "execute_result"
    }
   ],
   "source": [
    "\n",
    "\n",
    "a@a@a\n",
    "\n"
   ]
  },
  {
   "cell_type": "code",
   "execution_count": 33,
   "id": "eb38e0d6",
   "metadata": {},
   "outputs": [
    {
     "name": "stdout",
     "output_type": "stream",
     "text": [
      "[[1 2]\n",
      " [3 4]]\n",
      "[[4 1 2]\n",
      " [2 2 3]]\n"
     ]
    },
    {
     "data": {
      "text/plain": [
       "array([[ 4,  1,  2,  8,  2,  4],\n",
       "       [ 2,  2,  3,  4,  4,  6],\n",
       "       [12,  3,  6, 16,  4,  8],\n",
       "       [ 6,  6,  9,  8,  8, 12]])"
      ]
     },
     "execution_count": 33,
     "metadata": {},
     "output_type": "execute_result"
    }
   ],
   "source": [
    "#Kronecker product of two arrays.\n",
    "print(a)\n",
    "print(b)\n",
    "np.kron(a, b)"
   ]
  },
  {
   "cell_type": "code",
   "execution_count": 34,
   "id": "c5464dcf",
   "metadata": {},
   "outputs": [],
   "source": [
    "#Decompositions"
   ]
  },
  {
   "cell_type": "code",
   "execution_count": 35,
   "id": "e8ebbc87",
   "metadata": {},
   "outputs": [
    {
     "data": {
      "text/plain": [
       "array([[ 2.44948974,  0.        ,  0.        ],\n",
       "       [ 6.12372436,  4.18330013,  0.        ],\n",
       "       [22.45365598, 20.91650066,  6.11010093]])"
      ]
     },
     "execution_count": 35,
     "metadata": {},
     "output_type": "execute_result"
    }
   ],
   "source": [
    "#Cholesky decomposition.\n",
    "a=np.array([[6,15,55],\n",
    "            [15,55,225],\n",
    "            [55,225,979]])\n",
    "np.linalg.cholesky(a)"
   ]
  },
  {
   "cell_type": "code",
   "execution_count": 36,
   "id": "1b411b2c",
   "metadata": {},
   "outputs": [
    {
     "data": {
      "text/plain": [
       "3"
      ]
     },
     "execution_count": 36,
     "metadata": {},
     "output_type": "execute_result"
    }
   ],
   "source": [
    "np.linalg.matrix_rank(a)"
   ]
  },
  {
   "cell_type": "code",
   "execution_count": 37,
   "id": "b7bcbb46",
   "metadata": {},
   "outputs": [
    {
     "name": "stdout",
     "output_type": "stream",
     "text": [
      "[[-0.10466885 -0.83044761 -0.54717566]\n",
      " [-0.26167214 -0.50781394  0.82076348]\n",
      " [-0.9594645   0.229089   -0.1641527 ]]\n",
      "[[  -57.32364259  -231.84151249 -1003.94876177]\n",
      " [    0.            11.15854318    64.34537173]\n",
      " [    0.             0.            -6.12836734]]\n"
     ]
    }
   ],
   "source": [
    "#Compute the qr factorization of a matrix.\n",
    "Q,R=np.linalg.qr(a)\n",
    "print(Q)\n",
    "print(R)"
   ]
  },
  {
   "cell_type": "code",
   "execution_count": 38,
   "id": "701a870b",
   "metadata": {},
   "outputs": [
    {
     "data": {
      "text/plain": [
       "1.0000000000000002"
      ]
     },
     "execution_count": 38,
     "metadata": {},
     "output_type": "execute_result"
    }
   ],
   "source": [
    "np.linalg.norm(Q[0])"
   ]
  },
  {
   "cell_type": "code",
   "execution_count": 39,
   "id": "91763b5c",
   "metadata": {},
   "outputs": [
    {
     "name": "stdout",
     "output_type": "stream",
     "text": [
      "Sig: [1.68481034e+01 1.06836951e+00 3.33475287e-16]\n"
     ]
    },
    {
     "data": {
      "text/plain": [
       "array([[1., 2., 3.],\n",
       "       [4., 5., 6.],\n",
       "       [7., 8., 9.]])"
      ]
     },
     "execution_count": 39,
     "metadata": {},
     "output_type": "execute_result"
    }
   ],
   "source": [
    "#Singular Value Decomposition.\n",
    "a=np.arange(9).reshape(3,3)+1\n",
    "U,Sig,VT=np.linalg.svd(a)\n",
    "print(\"Sig:\",Sig)\n",
    "U@np.diag(Sig)@VT"
   ]
  },
  {
   "cell_type": "code",
   "execution_count": 40,
   "id": "1bfda594",
   "metadata": {},
   "outputs": [
    {
     "name": "stdout",
     "output_type": "stream",
     "text": [
      "E= [ 1.61168440e+01 -1.11684397e+00 -3.38433605e-16]\n",
      "V= [[-0.23197069 -0.78583024  0.40824829]\n",
      " [-0.52532209 -0.08675134 -0.81649658]\n",
      " [-0.8186735   0.61232756  0.40824829]]\n"
     ]
    }
   ],
   "source": [
    "#Matrix eigenvalues\n",
    "#Compute the eigenvalues and right eigenvectors of a square array.\n",
    "E,V=np.linalg.eig(a)\n",
    "print(\"E=\",E)\n",
    "print(\"V=\",V)"
   ]
  },
  {
   "cell_type": "code",
   "execution_count": 42,
   "id": "d1b508c8",
   "metadata": {},
   "outputs": [],
   "source": [
    "#Return the eigenvalues and eigenvectors of a complex Hermitian (conjugate symmetric) or a real symmetric matrix.\n",
    "#np.linalg.eigh(a[, UPLO])"
   ]
  },
  {
   "cell_type": "code",
   "execution_count": 43,
   "id": "8dff051a",
   "metadata": {},
   "outputs": [
    {
     "data": {
      "text/plain": [
       "array([ 1.61168440e+01, -1.11684397e+00, -3.38433605e-16])"
      ]
     },
     "execution_count": 43,
     "metadata": {},
     "output_type": "execute_result"
    }
   ],
   "source": [
    "#Compute the eigenvalues of a general matrix.\n",
    "np.linalg.eigvals(a)"
   ]
  },
  {
   "cell_type": "code",
   "execution_count": null,
   "id": "4c12b76f",
   "metadata": {},
   "outputs": [],
   "source": [
    "#Compute the eigenvalues of a complex Hermitian or real symmetric matrix.\n",
    "np.linalg.eigvalsh(a[, UPLO])"
   ]
  },
  {
   "cell_type": "code",
   "execution_count": 48,
   "id": "e49daed3",
   "metadata": {},
   "outputs": [],
   "source": [
    "#Norms and other numbers"
   ]
  },
  {
   "cell_type": "code",
   "execution_count": null,
   "id": "60fc54ca",
   "metadata": {},
   "outputs": [],
   "source": [
    "#Matrix or vector norm.\n",
    "np.linalg.norm(x[, ord, axis, keepdims])\n",
    "\n",
    "#Compute the condition number of a matrix.\n",
    "np.linalg.cond(x[, p])\n",
    "\n",
    "#Compute the determinant of an array.\n",
    "np.linalg.det(a)\n",
    "\n",
    "#Return matrix rank of array using SVD method\n",
    "np.linalg.matrix_rank(a)\n",
    "\n",
    "#Compute the sign and (natural) logarithm of the determinant of an array.\n",
    "np.linalg.slogdet(a)\n",
    "\n",
    "#Return the sum along diagonals of the array.\n",
    "np.trace(a)\n",
    "\n",
    "#Solving equations and inverting matrices\n",
    "\n",
    "#Solve a linear matrix equation, or system of linear scalar equations.\n",
    "linalg.solve(a, b)\n",
    "\n",
    "#Solve the tensor equation a x = b for x.\n",
    "linalg.tensorsolve(a, b[, axes])\n",
    "\n",
    "#Return the least-squares solution to a linear matrix equation.\n",
    "linalg.lstsq(a, b[, rcond])\n",
    "\n",
    "#Compute the (multiplicative) inverse of a matrix.\n",
    "linalg.inv(a)\n",
    "\n",
    "#Compute the (Moore-Penrose) pseudo-inverse of a matrix.\n",
    "linalg.pinv(a[, rcond, hermitian])\n",
    "\n",
    "#Compute the ‘inverse’ of an N-dimensional array.\n",
    "linalg.tensorinv(a[, ind])\n",
    "\n",
    "#Compute tensor dot product along specified axes.\n",
    "tensordot(a, b[, axes])\n",
    "\n",
    "#Evaluates the Einstein summation convention on the operands.\n",
    "einsum(subscripts, *operands[, out, dtype, …])\n",
    "\n",
    "#Evaluates the lowest cost contraction order for an einsum expression by considering the creation of intermediate arrays.\n",
    "einsum_path(subscripts, *operands[, optimize])\n"
   ]
  },
  {
   "cell_type": "markdown",
   "id": "b35f0f65",
   "metadata": {},
   "source": [
    "# 3.Data Visualization Using Matplotlib\n",
    "Import Libraries"
   ]
  },
  {
   "cell_type": "code",
   "execution_count": 50,
   "id": "d6f4327c",
   "metadata": {},
   "outputs": [],
   "source": [
    "#!pip install matplotlib\n",
    "import matplotlib.pyplot as plt # pyplot Module from MATPLOTLIB package\n",
    "#from matplotlib import pyplot as plt\n",
    "import numpy as np\n",
    "import pandas as pd\n",
    "# %matplotlib inline"
   ]
  },
  {
   "cell_type": "markdown",
   "id": "ab7562dc",
   "metadata": {},
   "source": [
    "# Simple Plot"
   ]
  },
  {
   "cell_type": "code",
   "execution_count": 51,
   "id": "827a942f",
   "metadata": {},
   "outputs": [],
   "source": [
    "x = np.arange(0, np.pi*10, 0.05)\n",
    "y = np.sin(x)\n",
    "data=pd.DataFrame({\"x\":x,\"y\":y})\n",
    "#data.head()"
   ]
  },
  {
   "cell_type": "code",
   "execution_count": 52,
   "id": "e51ad74b",
   "metadata": {},
   "outputs": [
    {
     "data": {
      "image/png": "[encoded data removed]",
      "text/plain": [
       "<Figure size 432x288 with 1 Axes>"
      ]
     },
     "metadata": {
      "needs_background": "light"
     },
     "output_type": "display_data"
    }
   ],
   "source": [
    "plt.plot(x,y)\n",
    "plt.savefig('books_read.png')"
   ]
  },
  {
   "cell_type": "markdown",
   "id": "dad49cee",
   "metadata": {},
   "source": [
    "# Labels\n",
    "\n",
    "You can set the plot title, and labels for x and y axes.\n"
   ]
  },
  {
   "cell_type": "code",
   "execution_count": 53,
   "id": "9ad0ce04",
   "metadata": {},
   "outputs": [
    {
     "data": {
      "text/plain": [
       "[<matplotlib.lines.Line2D at 0x276e244d6a0>]"
      ]
     },
     "execution_count": 53,
     "metadata": {},
     "output_type": "execute_result"
    },
    {
     "data": {
      "image/png": "[encoded data removed]",
      "text/plain": [
       "<Figure size 432x288 with 1 Axes>"
      ]
     },
     "metadata": {
      "needs_background": "light"
     },
     "output_type": "display_data"
    }
   ],
   "source": [
    "plt.xlabel(\"Angle x\");plt.ylabel(\"Sin(x)\");plt.title('Sine wave')\n",
    "plt.plot(x,y)"
   ]
  },
  {
   "cell_type": "markdown",
   "id": "e6d3847c",
   "metadata": {},
   "source": [
    "To begin with, we create a figure instance which provides an empty canvas."
   ]
  },
  {
   "cell_type": "code",
   "execution_count": 54,
   "id": "ada72842",
   "metadata": {},
   "outputs": [
    {
     "data": {
      "text/plain": [
       "<Figure size 432x288 with 0 Axes>"
      ]
     },
     "metadata": {},
     "output_type": "display_data"
    }
   ],
   "source": [
    "fig = plt.figure()"
   ]
  },
  {
   "cell_type": "code",
   "execution_count": 55,
   "id": "6dbb68dd",
   "metadata": {},
   "outputs": [],
   "source": [
    "ax=fig.add_axes([0,0,1,1])"
   ]
  },
  {
   "cell_type": "markdown",
   "id": "7a35a883",
   "metadata": {},
   "source": [
    "# Set labels for x and y axis as well as title"
   ]
  },
  {
   "cell_type": "code",
   "execution_count": 56,
   "id": "09d47514",
   "metadata": {},
   "outputs": [
    {
     "data": {
      "text/plain": [
       "<Axes:title={'center':'sine wave'}, xlabel='angle', ylabel='sine'>"
      ]
     },
     "execution_count": 56,
     "metadata": {},
     "output_type": "execute_result"
    }
   ],
   "source": [
    "ax.set_title(\"sine wave\")\n",
    "ax.set_xlabel('angle')\n",
    "ax.set_ylabel('sine')\n",
    "ax"
   ]
  },
  {
   "cell_type": "code",
   "execution_count": 57,
   "id": "4758b766",
   "metadata": {},
   "outputs": [
    {
     "data": {
      "image/png": "[encoded data removed]",
      "text/plain": [
       "<Figure size 432x288 with 1 Axes>"
      ]
     },
     "metadata": {
      "needs_background": "light"
     },
     "output_type": "display_data"
    }
   ],
   "source": [
    "fig = plt.figure()\n",
    "ax = fig.add_axes([0,0,1,1])\n",
    "ax.plot(x,y,'--')\n",
    "ax.set_title(\"sine wave\")\n",
    "ax.set_xlabel('angle')\n",
    "ax.set_ylabel('sine')\n",
    "plt.savefig('books_read.png')\n",
    "plt.show()\n",
    "\n"
   ]
  },
  {
   "cell_type": "markdown",
   "id": "88265985",
   "metadata": {},
   "source": [
    "\n",
    "\n",
    "Color codes: ‘b’ Blue, ‘g’ Green,‘r’ Red, ‘c’ Cyan, ‘m’ Magenta, ‘y’ Yellow, ‘k’ Black, ‘b’ Blue, ‘w’ White\n",
    "\n",
    "Marker codes: ‘.’ Point marker,   ‘o’ Circle marker,   ‘x’ X marker,   ‘D’ Diamond marker,   ‘H’ Hexagon marker,   ‘s’ Square marker,   ‘+’ Plus marker\n",
    "\n",
    "Line styles: ‘-‘ Solid line   ‘- -‘ Dashed line   ‘-.’Dash-dot line   ‘:’ Dotted line   ‘H’ Hexagon marker\n"
   ]
  },
  {
   "cell_type": "markdown",
   "id": "d360aa34",
   "metadata": {},
   "source": [
    "# Legend Locations"
   ]
  },
  {
   "cell_type": "code",
   "execution_count": 58,
   "id": "73cc60b5",
   "metadata": {},
   "outputs": [
    {
     "data": {
      "image/png": "[encoded data removed]",
      "text/plain": [
       "<Figure size 432x288 with 1 Axes>"
      ]
     },
     "metadata": {
      "needs_background": "light"
     },
     "output_type": "display_data"
    }
   ],
   "source": [
    "y = np.array([1, 4, 9, 16, 25,36,49, 64])\n",
    "x1 = [1, 16, 30, 42,55, 68, 77,88]\n",
    "x2 = [1,6,12,18,28, 40, 52, 65]\n",
    "\n",
    "fig = plt.figure()\n",
    "ax = fig.add_axes([0,0,1,1])\n",
    "\n",
    "l1 = ax.plot(x1,y,'ys-') # solid line with yellow colour and square marker\n",
    "l2 = ax.plot(x2,y,'go--') # dash line with green colour and circle marker\n",
    "\n",
    "ax.legend(labels = ('tv', 'Smartphone'), loc = 'center left') # legend placed at lower right\n",
    "\n",
    "ax.set_title(\"Advertisement effect on sales\")\n",
    "ax.set_xlabel('medium')\n",
    "ax.set_ylabel('sales')\n",
    "\n",
    "plt.show()"
   ]
  },
  {
   "cell_type": "code",
   "execution_count": 59,
   "id": "30098ac0",
   "metadata": {},
   "outputs": [
    {
     "data": {
      "image/png": "[encoded data removed]",
      "text/plain": [
       "<Figure size 432x288 with 2 Axes>"
      ]
     },
     "metadata": {
      "needs_background": "light"
     },
     "output_type": "display_data"
    }
   ],
   "source": [
    "import matplotlib.pyplot as plt\n",
    "import numpy as np\n",
    "import math\n",
    "x = np.arange(0, math.pi*2, 0.05)\n",
    "fig=plt.figure()\n",
    "axes1 = fig.add_axes([0, 0, 1, 1]) # main axes\n",
    "axes2 = fig.add_axes([0.55,0.55,.35,.35]) # inset axes\n",
    "y1 = np.sin(x)\n",
    "y2 = np.cos(x)\n",
    "axes1.plot(x, y1, 'b')\n",
    "axes2.plot(x,y2,'r')\n",
    "axes1.set_title('Sine')\n",
    "axes2.set_title(\"Cosine\")\n",
    "plt.show()"
   ]
  },
  {
   "cell_type": "markdown",
   "id": "f103868c",
   "metadata": {},
   "source": [
    "# Subplots"
   ]
  },
  {
   "cell_type": "code",
   "execution_count": 60,
   "id": "de24d4ca",
   "metadata": {},
   "outputs": [
    {
     "data": {
      "image/png": "[encoded data removed]",
      "text/plain": [
       "<Figure size 432x288 with 4 Axes>"
      ]
     },
     "metadata": {
      "needs_background": "light"
     },
     "output_type": "display_data"
    }
   ],
   "source": [
    "fig,a =  plt.subplots(2,2)\n",
    "x = np.arange(1,5)\n",
    "a[0][0].plot(x,x*x)\n",
    "a[0][0].set_title('square')\n",
    "a[0][1].plot(x,np.sqrt(x))\n",
    "a[0][1].set_title('square root')\n",
    "a[1][0].plot(x,np.exp(x))\n",
    "a[1][0].set_title('exp')\n",
    "a[1][1].plot(x,np.log10(x))\n",
    "a[1][1].set_title('log')\n",
    "plt.show()"
   ]
  },
  {
   "cell_type": "markdown",
   "id": "a42fdbc4",
   "metadata": {},
   "source": [
    "# Subplots"
   ]
  },
  {
   "cell_type": "code",
   "execution_count": 61,
   "id": "b5b4774f",
   "metadata": {},
   "outputs": [
    {
     "data": {
      "image/png": "[encoded data removed]",
      "text/plain": [
       "<Figure size 432x288 with 3 Axes>"
      ]
     },
     "metadata": {
      "needs_background": "light"
     },
     "output_type": "display_data"
    }
   ],
   "source": [
    "a1 = plt.subplot2grid((3,3),(0,0), colspan = 2)\n",
    "a2 = plt.subplot2grid((3,3),(0,2), rowspan = 3)\n",
    "a3 = plt.subplot2grid((3,3),(1,0),rowspan = 2, colspan = 2)\n",
    "\n",
    "x = np.arange(1,10)\n",
    "a2.plot(x, x*x)\n",
    "a2.set_title('square')\n",
    "a1.plot(x, np.exp(x))\n",
    "a1.set_title('exp')\n",
    "a3.plot(x, np.log(x))\n",
    "a3.set_title('log')\n",
    "plt.tight_layout()\n",
    "plt.show()"
   ]
  },
  {
   "cell_type": "markdown",
   "id": "de3cbdbc",
   "metadata": {},
   "source": [
    "# Bar Plot"
   ]
  },
  {
   "cell_type": "code",
   "execution_count": 62,
   "id": "bf9de452",
   "metadata": {},
   "outputs": [
    {
     "data": {
      "image/png": "[encoded data removed]",
      "text/plain": [
       "<Figure size 432x288 with 1 Axes>"
      ]
     },
     "metadata": {
      "needs_background": "light"
     },
     "output_type": "display_data"
    }
   ],
   "source": [
    "fig = plt.figure()\n",
    "ax = fig.add_axes([0,0,1,1])\n",
    "langs = ['C', 'C++', 'Java', 'Python', 'PHP']\n",
    "students = [23,17,35,29,12]\n",
    "ax.barh(langs,students)\n",
    "plt.show()"
   ]
  },
  {
   "cell_type": "code",
   "execution_count": 63,
   "id": "314412d5",
   "metadata": {},
   "outputs": [
    {
     "data": {
      "text/plain": [
       "<BarContainer object of 4 artists>"
      ]
     },
     "execution_count": 63,
     "metadata": {},
     "output_type": "execute_result"
    },
    {
     "data": {
      "image/png": "[encoded data removed]",
      "text/plain": [
       "<Figure size 432x288 with 1 Axes>"
      ]
     },
     "metadata": {
      "needs_background": "light"
     },
     "output_type": "display_data"
    }
   ],
   "source": [
    "data = [[30, 25, 50, 20],\n",
    "[40, 23, 51, 17],\n",
    "[35, 22, 45, 19]]\n",
    "X = np.arange(4)\n",
    "fig = plt.figure()\n",
    "ax = fig.add_axes([0,0,1,1])\n",
    "ax.bar(X + 0.00, data[0], color = 'b', width = 0.25)\n",
    "ax.bar(X + 0.25, data[1], color = 'g', width = 0.25)\n",
    "ax.bar(X + 0.50, data[2], color = 'r', width = 0.25)"
   ]
  },
  {
   "cell_type": "code",
   "execution_count": 64,
   "id": "10a263ef",
   "metadata": {},
   "outputs": [
    {
     "data": {
      "image/png": "[encoded data removed]",
      "text/plain": [
       "<Figure size 432x288 with 1 Axes>"
      ]
     },
     "metadata": {
      "needs_background": "light"
     },
     "output_type": "display_data"
    }
   ],
   "source": [
    "N = 5\n",
    "menMeans = (20, 35, 30, 35, 27)\n",
    "womenMeans = (25, 32, 34, 20, 25)\n",
    "ind = np.arange(N) # the x locations for the groups\n",
    "width = 0.35\n",
    "\n",
    "fig = plt.figure()\n",
    "\n",
    "ax = fig.add_axes([0,0,1,1])\n",
    "\n",
    "ax.bar(ind, menMeans, width, color='r')\n",
    "\n",
    "ax.bar(ind, womenMeans, width,bottom=menMeans, color='g')\n",
    "\n",
    "ax.set_ylabel('Scores')\n",
    "ax.set_title('Scores by group and gender')\n",
    "\n",
    "ax.legend(labels=['Men', 'Women'])\n",
    "\n",
    "plt.show()"
   ]
  },
  {
   "cell_type": "markdown",
   "id": "0aa1b776",
   "metadata": {},
   "source": [
    "# Histogram"
   ]
  },
  {
   "cell_type": "code",
   "execution_count": 65,
   "id": "59a261be",
   "metadata": {},
   "outputs": [
    {
     "data": {
      "image/png": "[encoded data removed]",
      "text/plain": [
       "<Figure size 432x288 with 1 Axes>"
      ]
     },
     "metadata": {
      "needs_background": "light"
     },
     "output_type": "display_data"
    }
   ],
   "source": [
    "fig,ax = plt.subplots(1,1)\n",
    "a = np.array([22,87,5,43,56,73,55,54,11,20,51,5,79,31,27])\n",
    "ax.hist(a, bins = [0,25,50,75,100])\n",
    "ax.set_title(\"histogram of result\")\n",
    "ax.set_xticks([0,25,50,75,100])\n",
    "ax.set_xlabel('marks')\n",
    "ax.set_ylabel('no. of students')\n",
    "plt.show()"
   ]
  },
  {
   "cell_type": "markdown",
   "id": "9b4f3f94",
   "metadata": {},
   "source": [
    "# Pie Chart"
   ]
  },
  {
   "cell_type": "code",
   "execution_count": 66,
   "id": "a5f3dabc",
   "metadata": {},
   "outputs": [
    {
     "data": {
      "image/png": "[encoded data removed]",
      "text/plain": [
       "<Figure size 432x288 with 1 Axes>"
      ]
     },
     "metadata": {},
     "output_type": "display_data"
    }
   ],
   "source": [
    "fig = plt.figure()\n",
    "ax = fig.add_axes([0,0,1,1])\n",
    "ax.axis('equal')\n",
    "langs = ['C', 'C++', 'Java', 'Python', 'PHP']\n",
    "students = [23,17,35,29,12]\n",
    "ax.pie(students, labels = langs,autopct='%1.1f%%')\n",
    "plt.show()"
   ]
  },
  {
   "cell_type": "markdown",
   "id": "6e36cf5b",
   "metadata": {},
   "source": [
    "# Scatter Plot"
   ]
  },
  {
   "cell_type": "code",
   "execution_count": 67,
   "id": "a27cd301",
   "metadata": {},
   "outputs": [
    {
     "data": {
      "image/png": "[encoded data removed]",
      "text/plain": [
       "<Figure size 432x288 with 1 Axes>"
      ]
     },
     "metadata": {
      "needs_background": "light"
     },
     "output_type": "display_data"
    }
   ],
   "source": [
    "girls_grades = [89, 90, 70, 89, 100, 80, 90, 100, 80, 34]\n",
    "boys_grades = [30, 29, 49, 48, 100, 48, 38, 45, 20, 30]\n",
    "grades_range = [10, 20, 30, 40, 50, 60, 70, 80, 90, 100]\n",
    "fig=plt.figure()\n",
    "ax=fig.add_axes([0,0,1,1])\n",
    "ax.scatter(grades_range, girls_grades, color='r')\n",
    "ax.scatter(grades_range, boys_grades, color='b')\n",
    "ax.set_xlabel('Grades Range')\n",
    "ax.set_ylabel('Grades Scored')\n",
    "ax.set_title('scatter plot')\n",
    "plt.show()"
   ]
  },
  {
   "cell_type": "markdown",
   "id": "a20b588b",
   "metadata": {},
   "source": [
    "# Box Plot"
   ]
  },
  {
   "cell_type": "code",
   "execution_count": 69,
   "id": "e6d5e32c",
   "metadata": {},
   "outputs": [
    {
     "data": {
      "image/png": "[encoded data removed]",
      "text/plain": [
       "<Figure size 432x288 with 1 Axes>"
      ]
     },
     "metadata": {
      "needs_background": "light"
     },
     "output_type": "display_data"
    }
   ],
   "source": [
    "np.random.seed(10)\n",
    "a1 = np.random.normal(100, 10, 200)\n",
    "a2 = np.random.normal(80, 30, 200)\n",
    "a3 = np.random.normal(90, 20, 200)\n",
    "a4 = np.random.normal(70, 25, 200)\n",
    "\n",
    "fig = plt.figure()\n",
    "# Create an axes instance\n",
    "ax = fig.add_axes([0,0,1,1])\n",
    "# Create the boxplot\n",
    "bp = ax.boxplot([a1,a2,a3,a4])\n",
    "plt.savefig('multiple_boxplot.png')\n",
    "\n",
    "# Note that functions in plt refer to a global figure variable and \n",
    "# after a figure has been displayed to the screen (e.g. with plt.show) \n",
    "# matplotlib will make this variable refer to a new empty figure. \n",
    "# Therefore, make sure you call plt.savefig before the plot is displayed \n",
    "# to the screen, otherwise you may find a file with an empty plot.\n",
    "\n",
    "plt.show()"
   ]
  },
  {
   "cell_type": "code",
   "execution_count": null,
   "id": "c537ae14",
   "metadata": {},
   "outputs": [],
   "source": [
    "data=pd.read_csv('countries.csv')\n",
    "data.head()\n",
    "data[data.country=='Pakistan']\n",
    "\n",
    "Pak=data[data.country=='Pakistan']\n",
    "Ind=data[data.country=='India']\n",
    "\n",
    "fig=plt.figure()\n",
    "ax=fig.add_axes([0,0,1,1])\n",
    "plt.bar(x=Pak.year,height=Pak.population)\n",
    "#plt.plot(Ind.year,Ind.population/10**7,\"b--\")\n",
    "plt.show()"
   ]
  },
  {
   "cell_type": "code",
   "execution_count": 71,
   "id": "93636954",
   "metadata": {},
   "outputs": [],
   "source": [
    "from numpy.random import *\n",
    "import numpy as np\n",
    "import pandas as pd"
   ]
  },
  {
   "cell_type": "markdown",
   "id": "23130d90",
   "metadata": {},
   "source": [
    "# 4.Simple Random Data"
   ]
  },
  {
   "cell_type": "code",
   "execution_count": 72,
   "id": "6cba52ee",
   "metadata": {},
   "outputs": [
    {
     "data": {
      "text/plain": [
       "array([[[0.99245869, 0.56627113, 0.51678645],\n",
       "        [0.88143397, 0.0119134 , 0.73024321]],\n",
       "\n",
       "       [[0.31877968, 0.65000258, 0.82532211],\n",
       "        [0.43423801, 0.15683869, 0.4773599 ]],\n",
       "\n",
       "       [[0.33000787, 0.24054141, 0.60795731],\n",
       "        [0.21397462, 0.48368325, 0.44407858]],\n",
       "\n",
       "       [[0.36479795, 0.36308406, 0.21404951],\n",
       "        [0.36811954, 0.1542098 , 0.70918677]],\n",
       "\n",
       "       [[0.82456922, 0.28601877, 0.70536826],\n",
       "        [0.94360518, 0.13564081, 0.49162021]]])"
      ]
     },
     "execution_count": 72,
     "metadata": {},
     "output_type": "execute_result"
    }
   ],
   "source": [
    "#Random values in a given shape.\n",
    "\n",
    "#rand(d0, d1, …, dn)\n",
    "rand(5,2,3)"
   ]
  },
  {
   "cell_type": "code",
   "execution_count": 73,
   "id": "0de01f1c",
   "metadata": {},
   "outputs": [
    {
     "data": {
      "text/plain": [
       "array([ 0.30157279,  2.11859144, -0.26296614, -1.00338794, -1.51779623])"
      ]
     },
     "execution_count": 73,
     "metadata": {},
     "output_type": "execute_result"
    }
   ],
   "source": [
    "#Return a sample (or samples) from the “Standard Normal” distribution.\n",
    "\n",
    "#randn(d0, d1, …, dn)\n",
    "randn(5)"
   ]
  },
  {
   "cell_type": "code",
   "execution_count": 74,
   "id": "48b01314",
   "metadata": {},
   "outputs": [
    {
     "data": {
      "text/plain": [
       "array([7, 7, 5, 8, 5, 7, 9, 7, 9, 6])"
      ]
     },
     "execution_count": 74,
     "metadata": {},
     "output_type": "execute_result"
    }
   ],
   "source": [
    "#Return random integers from low (inclusive) to high (exclusive).\n",
    "\n",
    "#randint(low[, high, size, dtype])\n",
    "randint(5,10,10)"
   ]
  },
  {
   "cell_type": "code",
   "execution_count": 75,
   "id": "0786c24e",
   "metadata": {},
   "outputs": [
    {
     "data": {
      "text/plain": [
       "array([0.46173277, 0.07778888, 0.05379957, 0.92510846, 0.83714578])"
      ]
     },
     "execution_count": 75,
     "metadata": {},
     "output_type": "execute_result"
    }
   ],
   "source": [
    "#Return random floats in the half-open interval [0.0, 1.0).\n",
    "\n",
    "random_sample(5)"
   ]
  },
  {
   "cell_type": "code",
   "execution_count": 76,
   "id": "aa1ca8c5",
   "metadata": {},
   "outputs": [],
   "source": [
    "#Return random floats in the half-open interval [0.0, 1.0).\n",
    "\n",
    "#random([size])"
   ]
  },
  {
   "cell_type": "code",
   "execution_count": 77,
   "id": "46214405",
   "metadata": {},
   "outputs": [],
   "source": [
    "#Return random floats in the half-open interval [0.0, 1.0).\n",
    "\n",
    "#ranf([size])"
   ]
  },
  {
   "cell_type": "code",
   "execution_count": 78,
   "id": "f98999b2",
   "metadata": {},
   "outputs": [
    {
     "name": "stdout",
     "output_type": "stream",
     "text": [
      "a: [0, 1, 2, 3, 4]\n"
     ]
    },
    {
     "data": {
      "text/plain": [
       "[0, 3, 2, 4, 1]"
      ]
     },
     "execution_count": 78,
     "metadata": {},
     "output_type": "execute_result"
    }
   ],
   "source": [
    "#Generates a random sample from a given 1-D array\n",
    "\n",
    "#choice(a[, size, replace, p])\n",
    "\n",
    "a=list(range(5))\n",
    "print(\"a:\",a)\n",
    "list(choice(a,5,0))"
   ]
  },
  {
   "cell_type": "markdown",
   "id": "41c60681",
   "metadata": {},
   "source": [
    "# 5.Permutations"
   ]
  },
  {
   "cell_type": "code",
   "execution_count": 79,
   "id": "ef2601f3",
   "metadata": {},
   "outputs": [
    {
     "name": "stdout",
     "output_type": "stream",
     "text": [
      "x: [1 2 3 4 5 6 7 8 9]\n",
      "After Shuffling x: [3 4 7 2 1 8 6 5 9]\n"
     ]
    }
   ],
   "source": [
    "#Modify a sequence in-place by shuffling its contents.\n",
    "x=np.arange(1,10)\n",
    "#shuffle(x)\n",
    "\n",
    "\n",
    "print(\"x:\",x)\n",
    "shuffle(x)\n",
    "print(\"After Shuffling x:\",x)"
   ]
  },
  {
   "cell_type": "code",
   "execution_count": 80,
   "id": "1ba02458",
   "metadata": {},
   "outputs": [
    {
     "data": {
      "text/plain": [
       "array([0, 1, 2, 3, 4])"
      ]
     },
     "execution_count": 80,
     "metadata": {},
     "output_type": "execute_result"
    }
   ],
   "source": [
    "#Randomly permute a sequence, or return a permuted range.\n",
    "\n",
    "#permutation(x)\n",
    "x=np.arange(5)\n",
    "permutation(x)\n",
    "x"
   ]
  },
  {
   "cell_type": "markdown",
   "id": "1fbbf126",
   "metadata": {},
   "source": [
    "# 6.Distributions"
   ]
  },
  {
   "cell_type": "code",
   "execution_count": 81,
   "id": "546254d9",
   "metadata": {},
   "outputs": [
    {
     "data": {
      "text/plain": [
       "array([0.24658578, 0.18091726, 0.00452426])"
      ]
     },
     "execution_count": 81,
     "metadata": {},
     "output_type": "execute_result"
    }
   ],
   "source": [
    "#Draw samples from a Beta distribution.\n",
    "\n",
    "#beta(a, b[, size])\n",
    "beta(1,10,3)"
   ]
  },
  {
   "cell_type": "code",
   "execution_count": 82,
   "id": "79aa8956",
   "metadata": {},
   "outputs": [
    {
     "data": {
      "text/plain": [
       "5.775"
      ]
     },
     "execution_count": 82,
     "metadata": {},
     "output_type": "execute_result"
    }
   ],
   "source": [
    "#Draw samples from a binomial distribution.\n",
    "\n",
    "#binomial(n, p[, size])\n",
    "np.mean(binomial(10,0.6,40))"
   ]
  },
  {
   "cell_type": "code",
   "execution_count": 83,
   "id": "3fd3ec5a",
   "metadata": {},
   "outputs": [
    {
     "data": {
      "text/plain": [
       "array([0.30933269, 0.90094136, 0.99320487, 1.14075174, 3.77145345,\n",
       "       2.48135213, 1.19707569, 2.66397432, 0.2367662 , 0.63570023])"
      ]
     },
     "execution_count": 83,
     "metadata": {},
     "output_type": "execute_result"
    }
   ],
   "source": [
    "#Draw samples from a chi-square distribution.\n",
    "\n",
    "#chisquare(df[, size])\n",
    "chisquare(2,10)"
   ]
  },
  {
   "cell_type": "code",
   "execution_count": 84,
   "id": "083f2fe0",
   "metadata": {},
   "outputs": [],
   "source": [
    "#Draw samples from an exponential distribution.\n",
    "\n",
    "#exponential([scale, size])"
   ]
  },
  {
   "cell_type": "code",
   "execution_count": 88,
   "id": "9fccffc2",
   "metadata": {},
   "outputs": [],
   "source": [
    "#Draw samples from an F distribution.\n",
    "\n",
    "#f(dfnum, dfden[, size])\n",
    "\n",
    "#Draw samples from a Gamma distribution.\n",
    "\n",
    "#gamma(shape[, scale, size])\n",
    "\n",
    "#Draw samples from the geometric distribution.\n",
    "\n",
    "#geometric(p[, size])\n",
    "\n",
    "#Draw samples from a Gumbel distribution.\n",
    "\n",
    "#gumbel([loc, scale, size])\n",
    "\n",
    "#Draw samples from a Hypergeometric distribution.\n",
    "\n",
    "#hypergeometric(ngood, nbad, nsample[, size])\n",
    "\n",
    "#Draw samples from the Laplace or double exponential distribution with specified location (or mean) and scale (decay).\n",
    "\n",
    "#laplace([loc, scale, size])\n",
    "\n",
    "#Draw samples from a logistic distribution.\n",
    "\n",
    "#logistic([loc, scale, size])\n",
    "\n",
    "#Draw samples from a log-normal distribution.\n",
    "\n",
    "#lognormal([mean, sigma, size])\n",
    "\n",
    "#Draw samples from a multinomial distribution.\n",
    "\n",
    "#multinomial(n, pvals[, size])\n",
    "\n",
    "#Draw random samples from a multivariate normal distribution.\n",
    "\n",
    "#multivariate_normal(mean, cov[, size, …)\n",
    "\n",
    "#Draw samples from a negative binomial distribution.\n",
    "\n",
    "#negative_binomial(n, p[, size])\n",
    "\n",
    "#Draw samples from a noncentral chi-square distribution.\n",
    "\n",
    "#noncentral_chisquare(df, nonc[, size])\n",
    "\n",
    "#Draw samples from the noncentral F distribution.\n",
    "\n",
    "#noncentral_f(dfnum, dfden, nonc[, size])"
   ]
  },
  {
   "cell_type": "code",
   "execution_count": 86,
   "id": "987b86b4",
   "metadata": {},
   "outputs": [
    {
     "data": {
      "text/plain": [
       "15.644811382432326"
      ]
     },
     "execution_count": 86,
     "metadata": {},
     "output_type": "execute_result"
    }
   ],
   "source": [
    "#Draw random samples from a normal (Gaussian) distribution.\n",
    "\n",
    "#normal([loc, scale, size])\n",
    "np.var(normal(10,4,1000))"
   ]
  },
  {
   "cell_type": "code",
   "execution_count": 87,
   "id": "c7a8cafd",
   "metadata": {},
   "outputs": [],
   "source": [
    "#Draw samples from a Pareto II or Lomax distribution with specified shape.\n",
    "\n",
    "#pareto(a[, size])\n",
    "\n",
    "#Draw samples from a Poisson distribution.\n",
    "\n",
    "#poisson([lam, size])\n",
    "\n",
    "#Draw samples from a standard Cauchy distribution with mode = 0.\n",
    "\n",
    "#standard_cauchy([size])\n",
    "\n",
    "#Draw samples from the standard exponential distribution.\n",
    "\n",
    "#standard_exponential([size])\n",
    "\n",
    "#Draw samples from a standard Gamma distribution.\n",
    "\n",
    "#standard_gamma(shape[, size])"
   ]
  },
  {
   "cell_type": "code",
   "execution_count": 89,
   "id": "c40621d6",
   "metadata": {},
   "outputs": [
    {
     "name": "stdout",
     "output_type": "stream",
     "text": [
      "[-0.6329949   0.21709487  0.29274108 -0.18201994 -0.31465057]\n",
      "[ 0.05865701 -0.95432553  0.79483925  0.70919575  1.2880577 ]\n"
     ]
    }
   ],
   "source": [
    "#Draw samples from a standard Normal distribution (mean=0, stdev=1).\n",
    "\n",
    "#standard_normal([size])\n",
    "print(standard_normal(5))\n",
    "print(randn(5))"
   ]
  },
  {
   "cell_type": "code",
   "execution_count": 90,
   "id": "235fbea5",
   "metadata": {},
   "outputs": [],
   "source": [
    "#Draw samples from a standard Student’s t distribution with df degrees of freedom.\n",
    "\n",
    "#standard_t(df[, size])"
   ]
  },
  {
   "cell_type": "code",
   "execution_count": 91,
   "id": "fd90f2b6",
   "metadata": {},
   "outputs": [],
   "source": [
    "#Draw samples from the triangular distribution over the interval [left, right].\n",
    "\n",
    "#triangular(left, mode, right[, size])"
   ]
  },
  {
   "cell_type": "code",
   "execution_count": 92,
   "id": "a314e0f9",
   "metadata": {},
   "outputs": [
    {
     "data": {
      "text/html": [
       "<div>\n",
       "<style scoped>\n",
       "    .dataframe tbody tr th:only-of-type {\n",
       "        vertical-align: middle;\n",
       "    }\n",
       "\n",
       "    .dataframe tbody tr th {\n",
       "        vertical-align: top;\n",
       "    }\n",
       "\n",
       "    .dataframe thead th {\n",
       "        text-align: right;\n",
       "    }\n",
       "</style>\n",
       "<table border=\"1\" class=\"dataframe\">\n",
       "  <thead>\n",
       "    <tr style=\"text-align: right;\">\n",
       "      <th></th>\n",
       "      <th>Size</th>\n",
       "      <th>T1_Average</th>\n",
       "      <th>T1_MSError</th>\n",
       "      <th>T2_Average</th>\n",
       "      <th>T2_MSError</th>\n",
       "    </tr>\n",
       "  </thead>\n",
       "  <tbody>\n",
       "    <tr>\n",
       "      <th>0</th>\n",
       "      <td>5</td>\n",
       "      <td>4.105772</td>\n",
       "      <td>1.366872</td>\n",
       "      <td>4.862110</td>\n",
       "      <td>1.745503</td>\n",
       "    </tr>\n",
       "    <tr>\n",
       "      <th>1</th>\n",
       "      <td>10</td>\n",
       "      <td>4.545248</td>\n",
       "      <td>0.383928</td>\n",
       "      <td>5.005958</td>\n",
       "      <td>0.858014</td>\n",
       "    </tr>\n",
       "    <tr>\n",
       "      <th>2</th>\n",
       "      <td>25</td>\n",
       "      <td>4.813432</td>\n",
       "      <td>0.066291</td>\n",
       "      <td>5.017246</td>\n",
       "      <td>0.324073</td>\n",
       "    </tr>\n",
       "    <tr>\n",
       "      <th>3</th>\n",
       "      <td>50</td>\n",
       "      <td>4.898934</td>\n",
       "      <td>0.019336</td>\n",
       "      <td>4.980614</td>\n",
       "      <td>0.161711</td>\n",
       "    </tr>\n",
       "    <tr>\n",
       "      <th>4</th>\n",
       "      <td>100</td>\n",
       "      <td>4.951414</td>\n",
       "      <td>0.004725</td>\n",
       "      <td>5.002810</td>\n",
       "      <td>0.081240</td>\n",
       "    </tr>\n",
       "    <tr>\n",
       "      <th>5</th>\n",
       "      <td>200</td>\n",
       "      <td>4.975211</td>\n",
       "      <td>0.001186</td>\n",
       "      <td>5.007358</td>\n",
       "      <td>0.041568</td>\n",
       "    </tr>\n",
       "  </tbody>\n",
       "</table>\n",
       "</div>"
      ],
      "text/plain": [
       "   Size  T1_Average  T1_MSError  T2_Average  T2_MSError\n",
       "0     5    4.105772    1.366872    4.862110    1.745503\n",
       "1    10    4.545248    0.383928    5.005958    0.858014\n",
       "2    25    4.813432    0.066291    5.017246    0.324073\n",
       "3    50    4.898934    0.019336    4.980614    0.161711\n",
       "4   100    4.951414    0.004725    5.002810    0.081240\n",
       "5   200    4.975211    0.001186    5.007358    0.041568"
      ]
     },
     "execution_count": 92,
     "metadata": {},
     "output_type": "execute_result"
    }
   ],
   "source": [
    "#Draw samples from a uniform distribution.\n",
    "sizes=[5,10,25,50,100,200]\n",
    "#uniform([low, high, size])\n",
    "i=0\n",
    "T1_avg,T1_mse,T2_avg,T2_mse=[0]*len(sizes),[0]*len(sizes),[0]*len(sizes),[0]*len(sizes)\n",
    "\n",
    "for j in sizes:\n",
    "    s=uniform(0,5,[1000,j])\n",
    "    s1=pd.DataFrame(s,index=np.arange(1000)+1,columns=np.arange(j)+1)\n",
    "    s1\n",
    "    T1_avg[i]=np.mean(s1.apply(np.max,axis=1))\n",
    "    T1_mse[i]=np.mean((s1.apply(np.max,axis=1)-5)**2)\n",
    "    T2_avg[i]=np.mean(2*s1.apply(np.mean,axis=1))\n",
    "    T2_mse[i]=np.mean((2*s1.apply(np.mean,axis=1)-5)**2)\n",
    "    i=i+1\n",
    "    \n",
    "pd.DataFrame({\"Size\": sizes,\n",
    "              \"T1_Average\": T1_avg,\n",
    "              \"T1_MSError\": T1_mse,\n",
    "              \"T2_Average\": T2_avg,\n",
    "              \"T2_MSError\": T2_mse\n",
    "    \n",
    "}) "
   ]
  },
  {
   "cell_type": "code",
   "execution_count": 95,
   "id": "fd6c6dad",
   "metadata": {},
   "outputs": [
    {
     "data": {
      "text/plain": [
       "0.001186015930612956"
      ]
     },
     "execution_count": 95,
     "metadata": {},
     "output_type": "execute_result"
    }
   ],
   "source": [
    "np.mean((s1.apply(np.max,axis=1)-5)**2)"
   ]
  },
  {
   "cell_type": "code",
   "execution_count": 94,
   "id": "7b8c2d03",
   "metadata": {},
   "outputs": [
    {
     "data": {
      "text/plain": [
       "0.001186015930612956"
      ]
     },
     "execution_count": 94,
     "metadata": {},
     "output_type": "execute_result"
    }
   ],
   "source": [
    "np.mean((s1.apply(np.max,axis=1)-5)**2)"
   ]
  },
  {
   "cell_type": "code",
   "execution_count": 96,
   "id": "c52d039f",
   "metadata": {},
   "outputs": [],
   "source": [
    "#Draw samples from a Weibull distribution.\n",
    "\n",
    "#weibull(a[, size])"
   ]
  },
  {
   "cell_type": "code",
   "execution_count": 97,
   "id": "f909fd23",
   "metadata": {},
   "outputs": [
    {
     "name": "stdout",
     "output_type": "stream",
     "text": [
      "------------------------------------------------\n",
      "Uniform:\n",
      "0.5\n",
      "1.5 0.8660254037844386 0.75\n",
      "0.5\n",
      "[0.08738962 0.35224091]\n",
      "[0.36707602 0.23375261 0.48259702 0.49178357 0.04648214]\n",
      "1.0\n"
     ]
    }
   ],
   "source": [
    "from scipy import stats\n",
    "\n",
    "print(\"------------------------------------------------\")\n",
    "print(\"Uniform:\")\n",
    "print(stats.uniform.cdf(0.5, 0, 1))\n",
    "print(stats.uniform.mean(0, 3), stats.uniform.std(0, 3), stats.uniform.var(0, 3))\n",
    "print(stats.uniform.ppf(0.5, 0, 1))\n",
    "print(stats.uniform.rvs(size=2))\n",
    "print(stats.uniform.rvs(0,2,size=5))\n",
    "print(stats.uniform.pdf(0.3))"
   ]
  },
  {
   "cell_type": "code",
   "execution_count": 98,
   "id": "08f86625",
   "metadata": {},
   "outputs": [
    {
     "name": "stdout",
     "output_type": "stream",
     "text": [
      "------------------------------------------------\n",
      "Normal Distribution\n",
      "F(1)=0.159\n",
      "Mean=0.000,SD=1.000,Var=1.000\n",
      "F(0.685)=0.65\n",
      "[-0.32610699 -2.24093207]\n",
      "[ 7.23985615 12.71801622]\n"
     ]
    },
    {
     "data": {
      "image/png": "[encoded data removed]",
      "text/plain": [
       "<Figure size 432x288 with 1 Axes>"
      ]
     },
     "metadata": {
      "needs_background": "light"
     },
     "output_type": "display_data"
    }
   ],
   "source": [
    "from scipy.stats import norm\n",
    "import matplotlib.pyplot as plt\n",
    "import numpy as np\n",
    "\n",
    "print(\"------------------------------------------------\")\n",
    "print(\"Normal Distribution\")\n",
    "print(\"F(1)=%1.3f\"%norm.cdf(0, 1, 1))\n",
    "print(\"Mean=%1.3f,SD=%1.3f,Var=%1.3f\"%(norm.mean(), norm.std(), norm.var()))\n",
    "print(\"F(%1.3f)=0.65\"% norm.ppf(0.65, 0.3, 1))\n",
    "print(norm.rvs(size=2))\n",
    "print(norm.rvs(10, 2, size=2))\n",
    "\n",
    "x=np.sort(norm.rvs(size=1000))\n",
    "#plt.hist(x,bins=[-3,-2,-1,0,1,2,3])\n",
    "plt.plot(x,norm.pdf(x),'r')\n",
    "plt.plot(x,norm.pdf(x,0.2,1.1),'g')\n",
    "\n",
    "plt.show()"
   ]
  },
  {
   "cell_type": "code",
   "execution_count": 99,
   "id": "c93f5133",
   "metadata": {},
   "outputs": [
    {
     "name": "stdout",
     "output_type": "stream",
     "text": [
      "------------------------------------------------\n",
      "Exponential:\n",
      "F(1)=0.632\n",
      "Mean=1.000,SD=1.000,Var=1.000\n",
      "F(1.693)=0.5\n",
      "[0.26689631 2.20971547]\n",
      "[2.20588873 3.12459033 2.06170933 2.27916933 3.0207435  2.2262139 ]\n"
     ]
    }
   ],
   "source": [
    "from scipy.stats import expon\n",
    "\n",
    "print(\"------------------------------------------------\")\n",
    "print('Exponential:')\n",
    "print(\"F(1)=%1.3f\"%expon.cdf(1))\n",
    "print(\"Mean=%1.3f,SD=%1.3f,Var=%1.3f\"%(expon.mean(), expon.std(), expon.var()))\n",
    "print(\"F(%1.3f)=0.5\"% expon.ppf(0.5, 1))\n",
    "print(expon.rvs(size=2))\n",
    "print(expon.rvs(2,size=6))"
   ]
  },
  {
   "cell_type": "code",
   "execution_count": null,
   "id": "4f960a85",
   "metadata": {},
   "outputs": [],
   "source": []
  }
 ],
 "metadata": {
  "kernelspec": {
   "display_name": "Python 3 (ipykernel)",
   "language": "python",
   "name": "python3"
  },
  "language_info": {
   "codemirror_mode": {
    "name": "ipython",
    "version": 3
   },
   "file_extension": ".py",
   "mimetype": "text/x-python",
   "name": "python",
   "nbconvert_exporter": "python",
   "pygments_lexer": "ipython3",
   "version": "3.9.7"
  }
 },
 "nbformat": 4,
 "nbformat_minor": 5
}
